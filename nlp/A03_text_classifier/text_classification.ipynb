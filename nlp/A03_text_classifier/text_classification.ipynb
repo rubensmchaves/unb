{
  "nbformat": 4,
  "nbformat_minor": 0,
  "metadata": {
    "colab": {
      "provenance": []
    },
    "kernelspec": {
      "name": "python3",
      "display_name": "Python 3"
    },
    "language_info": {
      "name": "python"
    }
  },
  "cells": [
    {
      "cell_type": "markdown",
      "source": [
        "# Files donwload"
      ],
      "metadata": {
        "id": "PNWYIbAvyGGt"
      }
    },
    {
      "cell_type": "markdown",
      "source": [
        "Download python files from the repository"
      ],
      "metadata": {
        "id": "Kxd0THqCtAWt"
      }
    },
    {
      "cell_type": "code",
      "execution_count": null,
      "metadata": {
        "id": "1xzKVcULqbQ8"
      },
      "outputs": [],
      "source": [
        "import os\n",
        "# Arquivo .py que implementa o algoritmo bigrama\n",
        "if not os.path.exists(\"find_best_hyperparameters.py\"):\n",
        "  url = \"https://raw.githubusercontent.com/rubensmchaves/unb/refs/heads/main/nlp/A03_text_classifier/find_best_hyperparameters.py\"\n",
        "  cmd = !wget {url}"
      ]
    },
    {
      "cell_type": "markdown",
      "source": [
        "Download text corpus"
      ],
      "metadata": {
        "id": "EcqBYNzatGUi"
      }
    },
    {
      "cell_type": "code",
      "source": [
        "dest_folder = \"data\"\n",
        "\n",
        "file_nsf = \"NSF\"\n",
        "file_dmoz = \"Dmoz-Science\"\n",
        "\n",
        "# create folder\n",
        "if not os.path.exists(dest_folder):\n",
        "  os.mkdir(dest_folder)\n",
        "\n",
        "# download file\n",
        "if not os.path.exists(dest_folder + \"/\" + file_nsf + \".csv\"):\n",
        "  url = f\"https://raw.githubusercontent.com/ragero/text-collections/refs/heads/master/complete_texts_csvs/{file_nsf}.csv\"\n",
        "  cmd = !wget -P {dest_folder} {url}\n",
        "\n",
        "if not os.path.exists(dest_folder + \"/\" + file_dmoz + \".csv\"):\n",
        "  url = f\"https://raw.githubusercontent.com/ragero/text-collections/refs/heads/master/complete_texts_csvs/{file_dmoz}.csv\"\n",
        "  cmd = !wget -P {dest_folder} {url}"
      ],
      "metadata": {
        "id": "0z-MGbCttJvq"
      },
      "execution_count": null,
      "outputs": []
    },
    {
      "cell_type": "markdown",
      "source": [],
      "metadata": {
        "id": "NK4A0nw5PtCi"
      }
    },
    {
      "cell_type": "markdown",
      "source": [
        "# Text classification"
      ],
      "metadata": {
        "id": "4vexNpSYyP0L"
      }
    },
    {
      "cell_type": "code",
      "source": [
        "import numpy as np\n",
        "import pandas as pd\n",
        "\n",
        "from sklearn.model_selection import train_test_split, GridSearchCV\n",
        "from sklearn.pipeline import Pipeline\n",
        "from sklearn.feature_extraction.text import TfidfVectorizer\n",
        "from sklearn.naive_bayes import MultinomialNB\n",
        "from sklearn.svm import LinearSVC\n",
        "from sklearn.linear_model import LogisticRegression\n",
        "from sklearn.metrics import accuracy_score, classification_report\n",
        "\n",
        "from find_best_hyperparameters import fit_tuning\n",
        "from find_best_hyperparameters import get_multinomial_naive_bayes_params\n",
        "from find_best_hyperparameters import get_logistic_regression_params\n",
        "from find_best_hyperparameters import get_support_vector_params\n",
        "from find_best_hyperparameters import get_tfidf_params\n",
        "from find_best_hyperparameters import get_tfidf_params\n",
        "from find_best_hyperparameters import read_dataset\n",
        "from find_best_hyperparameters import show_score_params\n",
        "from find_best_hyperparameters import results_to_csv\n",
        "from find_best_hyperparameters import validate"
      ],
      "metadata": {
        "id": "Rq29ZgNaydZV"
      },
      "execution_count": null,
      "outputs": []
    },
    {
      "cell_type": "markdown",
      "source": [
        "## Corpus: NSF"
      ],
      "metadata": {
        "id": "pa44wihKdRdu"
      }
    },
    {
      "cell_type": "markdown",
      "source": [
        "### Load texts"
      ],
      "metadata": {
        "id": "8-DgcplX4uqp"
      }
    },
    {
      "cell_type": "markdown",
      "source": [
        "Load texts from the dataset file (corpus)"
      ],
      "metadata": {
        "id": "UFTR6zqdyuC0"
      }
    },
    {
      "cell_type": "code",
      "source": [
        "df, X, y = read_dataset(dest_folder + f\"/{file_nsf}.csv\")"
      ],
      "metadata": {
        "id": "ybGUGYI6yoHO"
      },
      "execution_count": null,
      "outputs": []
    },
    {
      "cell_type": "markdown",
      "source": [
        "Raw dataframe loaded."
      ],
      "metadata": {
        "id": "XX1wRHSn37CM"
      }
    },
    {
      "cell_type": "code",
      "source": [
        "df"
      ],
      "metadata": {
        "id": "t_fR0Jmp370P",
        "colab": {
          "base_uri": "https://localhost:8080/",
          "height": 424
        },
        "outputId": "8d2e2cd5-c333-4370-e731-66889de6102c"
      },
      "execution_count": null,
      "outputs": [
        {
          "output_type": "execute_result",
          "data": {
            "text/plain": [
              "                                     file_name  \\\n",
              "0      management_data_management.a9820721.txt   \n",
              "1      management_data_management.a9116988.txt   \n",
              "2      management_data_management.a9457613.txt   \n",
              "3      management_data_management.a9734191.txt   \n",
              "4      management_data_management.a9116798.txt   \n",
              "...                                        ...   \n",
              "10519  computing_theory_computing.a9003356.txt   \n",
              "10520  computing_theory_computing.a0092761.txt   \n",
              "10521  computing_theory_computing.a9985458.txt   \n",
              "10522  computing_theory_computing.a9877122.txt   \n",
              "10523  computing_theory_computing.a9530306.txt   \n",
              "\n",
              "                                                    text   class  \n",
              "0      an intelligent visual database system hierarch...    data  \n",
              "1      spatio-temporal database management for global...    data  \n",
              "2      nyi theory and implementation of declarative d...    data  \n",
              "3      pecase providing a coherent view of diverse di...    data  \n",
              "4      an object-oriented toolbox for use with the pr...    data  \n",
              "...                                                  ...     ...  \n",
              "10519             fixed-point logic in finite structures  theory  \n",
              "10520  making exponential-time learning algorithms ef...  theory  \n",
              "10521  efficient algorithms for problems in combinato...  theory  \n",
              "10522  on learning and characterizing classes of bool...  theory  \n",
              "10523  approximation of steiner minimum trees and app...  theory  \n",
              "\n",
              "[10524 rows x 3 columns]"
            ],
            "text/html": [
              "\n",
              "  <div id=\"df-718a8024-d8b1-4aa4-aedd-ee32ec73fa1a\" class=\"colab-df-container\">\n",
              "    <div>\n",
              "<style scoped>\n",
              "    .dataframe tbody tr th:only-of-type {\n",
              "        vertical-align: middle;\n",
              "    }\n",
              "\n",
              "    .dataframe tbody tr th {\n",
              "        vertical-align: top;\n",
              "    }\n",
              "\n",
              "    .dataframe thead th {\n",
              "        text-align: right;\n",
              "    }\n",
              "</style>\n",
              "<table border=\"1\" class=\"dataframe\">\n",
              "  <thead>\n",
              "    <tr style=\"text-align: right;\">\n",
              "      <th></th>\n",
              "      <th>file_name</th>\n",
              "      <th>text</th>\n",
              "      <th>class</th>\n",
              "    </tr>\n",
              "  </thead>\n",
              "  <tbody>\n",
              "    <tr>\n",
              "      <th>0</th>\n",
              "      <td>management_data_management.a9820721.txt</td>\n",
              "      <td>an intelligent visual database system hierarch...</td>\n",
              "      <td>data</td>\n",
              "    </tr>\n",
              "    <tr>\n",
              "      <th>1</th>\n",
              "      <td>management_data_management.a9116988.txt</td>\n",
              "      <td>spatio-temporal database management for global...</td>\n",
              "      <td>data</td>\n",
              "    </tr>\n",
              "    <tr>\n",
              "      <th>2</th>\n",
              "      <td>management_data_management.a9457613.txt</td>\n",
              "      <td>nyi theory and implementation of declarative d...</td>\n",
              "      <td>data</td>\n",
              "    </tr>\n",
              "    <tr>\n",
              "      <th>3</th>\n",
              "      <td>management_data_management.a9734191.txt</td>\n",
              "      <td>pecase providing a coherent view of diverse di...</td>\n",
              "      <td>data</td>\n",
              "    </tr>\n",
              "    <tr>\n",
              "      <th>4</th>\n",
              "      <td>management_data_management.a9116798.txt</td>\n",
              "      <td>an object-oriented toolbox for use with the pr...</td>\n",
              "      <td>data</td>\n",
              "    </tr>\n",
              "    <tr>\n",
              "      <th>...</th>\n",
              "      <td>...</td>\n",
              "      <td>...</td>\n",
              "      <td>...</td>\n",
              "    </tr>\n",
              "    <tr>\n",
              "      <th>10519</th>\n",
              "      <td>computing_theory_computing.a9003356.txt</td>\n",
              "      <td>fixed-point logic in finite structures</td>\n",
              "      <td>theory</td>\n",
              "    </tr>\n",
              "    <tr>\n",
              "      <th>10520</th>\n",
              "      <td>computing_theory_computing.a0092761.txt</td>\n",
              "      <td>making exponential-time learning algorithms ef...</td>\n",
              "      <td>theory</td>\n",
              "    </tr>\n",
              "    <tr>\n",
              "      <th>10521</th>\n",
              "      <td>computing_theory_computing.a9985458.txt</td>\n",
              "      <td>efficient algorithms for problems in combinato...</td>\n",
              "      <td>theory</td>\n",
              "    </tr>\n",
              "    <tr>\n",
              "      <th>10522</th>\n",
              "      <td>computing_theory_computing.a9877122.txt</td>\n",
              "      <td>on learning and characterizing classes of bool...</td>\n",
              "      <td>theory</td>\n",
              "    </tr>\n",
              "    <tr>\n",
              "      <th>10523</th>\n",
              "      <td>computing_theory_computing.a9530306.txt</td>\n",
              "      <td>approximation of steiner minimum trees and app...</td>\n",
              "      <td>theory</td>\n",
              "    </tr>\n",
              "  </tbody>\n",
              "</table>\n",
              "<p>10524 rows × 3 columns</p>\n",
              "</div>\n",
              "    <div class=\"colab-df-buttons\">\n",
              "\n",
              "  <div class=\"colab-df-container\">\n",
              "    <button class=\"colab-df-convert\" onclick=\"convertToInteractive('df-718a8024-d8b1-4aa4-aedd-ee32ec73fa1a')\"\n",
              "            title=\"Convert this dataframe to an interactive table.\"\n",
              "            style=\"display:none;\">\n",
              "\n",
              "  <svg xmlns=\"http://www.w3.org/2000/svg\" height=\"24px\" viewBox=\"0 -960 960 960\">\n",
              "    <path d=\"M120-120v-720h720v720H120Zm60-500h600v-160H180v160Zm220 220h160v-160H400v160Zm0 220h160v-160H400v160ZM180-400h160v-160H180v160Zm440 0h160v-160H620v160ZM180-180h160v-160H180v160Zm440 0h160v-160H620v160Z\"/>\n",
              "  </svg>\n",
              "    </button>\n",
              "\n",
              "  <style>\n",
              "    .colab-df-container {\n",
              "      display:flex;\n",
              "      gap: 12px;\n",
              "    }\n",
              "\n",
              "    .colab-df-convert {\n",
              "      background-color: #E8F0FE;\n",
              "      border: none;\n",
              "      border-radius: 50%;\n",
              "      cursor: pointer;\n",
              "      display: none;\n",
              "      fill: #1967D2;\n",
              "      height: 32px;\n",
              "      padding: 0 0 0 0;\n",
              "      width: 32px;\n",
              "    }\n",
              "\n",
              "    .colab-df-convert:hover {\n",
              "      background-color: #E2EBFA;\n",
              "      box-shadow: 0px 1px 2px rgba(60, 64, 67, 0.3), 0px 1px 3px 1px rgba(60, 64, 67, 0.15);\n",
              "      fill: #174EA6;\n",
              "    }\n",
              "\n",
              "    .colab-df-buttons div {\n",
              "      margin-bottom: 4px;\n",
              "    }\n",
              "\n",
              "    [theme=dark] .colab-df-convert {\n",
              "      background-color: #3B4455;\n",
              "      fill: #D2E3FC;\n",
              "    }\n",
              "\n",
              "    [theme=dark] .colab-df-convert:hover {\n",
              "      background-color: #434B5C;\n",
              "      box-shadow: 0px 1px 3px 1px rgba(0, 0, 0, 0.15);\n",
              "      filter: drop-shadow(0px 1px 2px rgba(0, 0, 0, 0.3));\n",
              "      fill: #FFFFFF;\n",
              "    }\n",
              "  </style>\n",
              "\n",
              "    <script>\n",
              "      const buttonEl =\n",
              "        document.querySelector('#df-718a8024-d8b1-4aa4-aedd-ee32ec73fa1a button.colab-df-convert');\n",
              "      buttonEl.style.display =\n",
              "        google.colab.kernel.accessAllowed ? 'block' : 'none';\n",
              "\n",
              "      async function convertToInteractive(key) {\n",
              "        const element = document.querySelector('#df-718a8024-d8b1-4aa4-aedd-ee32ec73fa1a');\n",
              "        const dataTable =\n",
              "          await google.colab.kernel.invokeFunction('convertToInteractive',\n",
              "                                                    [key], {});\n",
              "        if (!dataTable) return;\n",
              "\n",
              "        const docLinkHtml = 'Like what you see? Visit the ' +\n",
              "          '<a target=\"_blank\" href=https://colab.research.google.com/notebooks/data_table.ipynb>data table notebook</a>'\n",
              "          + ' to learn more about interactive tables.';\n",
              "        element.innerHTML = '';\n",
              "        dataTable['output_type'] = 'display_data';\n",
              "        await google.colab.output.renderOutput(dataTable, element);\n",
              "        const docLink = document.createElement('div');\n",
              "        docLink.innerHTML = docLinkHtml;\n",
              "        element.appendChild(docLink);\n",
              "      }\n",
              "    </script>\n",
              "  </div>\n",
              "\n",
              "\n",
              "<div id=\"df-613ac9ee-04e6-4dbe-89d4-3496bca71ef4\">\n",
              "  <button class=\"colab-df-quickchart\" onclick=\"quickchart('df-613ac9ee-04e6-4dbe-89d4-3496bca71ef4')\"\n",
              "            title=\"Suggest charts\"\n",
              "            style=\"display:none;\">\n",
              "\n",
              "<svg xmlns=\"http://www.w3.org/2000/svg\" height=\"24px\"viewBox=\"0 0 24 24\"\n",
              "     width=\"24px\">\n",
              "    <g>\n",
              "        <path d=\"M19 3H5c-1.1 0-2 .9-2 2v14c0 1.1.9 2 2 2h14c1.1 0 2-.9 2-2V5c0-1.1-.9-2-2-2zM9 17H7v-7h2v7zm4 0h-2V7h2v10zm4 0h-2v-4h2v4z\"/>\n",
              "    </g>\n",
              "</svg>\n",
              "  </button>\n",
              "\n",
              "<style>\n",
              "  .colab-df-quickchart {\n",
              "      --bg-color: #E8F0FE;\n",
              "      --fill-color: #1967D2;\n",
              "      --hover-bg-color: #E2EBFA;\n",
              "      --hover-fill-color: #174EA6;\n",
              "      --disabled-fill-color: #AAA;\n",
              "      --disabled-bg-color: #DDD;\n",
              "  }\n",
              "\n",
              "  [theme=dark] .colab-df-quickchart {\n",
              "      --bg-color: #3B4455;\n",
              "      --fill-color: #D2E3FC;\n",
              "      --hover-bg-color: #434B5C;\n",
              "      --hover-fill-color: #FFFFFF;\n",
              "      --disabled-bg-color: #3B4455;\n",
              "      --disabled-fill-color: #666;\n",
              "  }\n",
              "\n",
              "  .colab-df-quickchart {\n",
              "    background-color: var(--bg-color);\n",
              "    border: none;\n",
              "    border-radius: 50%;\n",
              "    cursor: pointer;\n",
              "    display: none;\n",
              "    fill: var(--fill-color);\n",
              "    height: 32px;\n",
              "    padding: 0;\n",
              "    width: 32px;\n",
              "  }\n",
              "\n",
              "  .colab-df-quickchart:hover {\n",
              "    background-color: var(--hover-bg-color);\n",
              "    box-shadow: 0 1px 2px rgba(60, 64, 67, 0.3), 0 1px 3px 1px rgba(60, 64, 67, 0.15);\n",
              "    fill: var(--button-hover-fill-color);\n",
              "  }\n",
              "\n",
              "  .colab-df-quickchart-complete:disabled,\n",
              "  .colab-df-quickchart-complete:disabled:hover {\n",
              "    background-color: var(--disabled-bg-color);\n",
              "    fill: var(--disabled-fill-color);\n",
              "    box-shadow: none;\n",
              "  }\n",
              "\n",
              "  .colab-df-spinner {\n",
              "    border: 2px solid var(--fill-color);\n",
              "    border-color: transparent;\n",
              "    border-bottom-color: var(--fill-color);\n",
              "    animation:\n",
              "      spin 1s steps(1) infinite;\n",
              "  }\n",
              "\n",
              "  @keyframes spin {\n",
              "    0% {\n",
              "      border-color: transparent;\n",
              "      border-bottom-color: var(--fill-color);\n",
              "      border-left-color: var(--fill-color);\n",
              "    }\n",
              "    20% {\n",
              "      border-color: transparent;\n",
              "      border-left-color: var(--fill-color);\n",
              "      border-top-color: var(--fill-color);\n",
              "    }\n",
              "    30% {\n",
              "      border-color: transparent;\n",
              "      border-left-color: var(--fill-color);\n",
              "      border-top-color: var(--fill-color);\n",
              "      border-right-color: var(--fill-color);\n",
              "    }\n",
              "    40% {\n",
              "      border-color: transparent;\n",
              "      border-right-color: var(--fill-color);\n",
              "      border-top-color: var(--fill-color);\n",
              "    }\n",
              "    60% {\n",
              "      border-color: transparent;\n",
              "      border-right-color: var(--fill-color);\n",
              "    }\n",
              "    80% {\n",
              "      border-color: transparent;\n",
              "      border-right-color: var(--fill-color);\n",
              "      border-bottom-color: var(--fill-color);\n",
              "    }\n",
              "    90% {\n",
              "      border-color: transparent;\n",
              "      border-bottom-color: var(--fill-color);\n",
              "    }\n",
              "  }\n",
              "</style>\n",
              "\n",
              "  <script>\n",
              "    async function quickchart(key) {\n",
              "      const quickchartButtonEl =\n",
              "        document.querySelector('#' + key + ' button');\n",
              "      quickchartButtonEl.disabled = true;  // To prevent multiple clicks.\n",
              "      quickchartButtonEl.classList.add('colab-df-spinner');\n",
              "      try {\n",
              "        const charts = await google.colab.kernel.invokeFunction(\n",
              "            'suggestCharts', [key], {});\n",
              "      } catch (error) {\n",
              "        console.error('Error during call to suggestCharts:', error);\n",
              "      }\n",
              "      quickchartButtonEl.classList.remove('colab-df-spinner');\n",
              "      quickchartButtonEl.classList.add('colab-df-quickchart-complete');\n",
              "    }\n",
              "    (() => {\n",
              "      let quickchartButtonEl =\n",
              "        document.querySelector('#df-613ac9ee-04e6-4dbe-89d4-3496bca71ef4 button');\n",
              "      quickchartButtonEl.style.display =\n",
              "        google.colab.kernel.accessAllowed ? 'block' : 'none';\n",
              "    })();\n",
              "  </script>\n",
              "</div>\n",
              "\n",
              "  <div id=\"id_4c63594b-520b-47cc-8414-32a4b85e0c8e\">\n",
              "    <style>\n",
              "      .colab-df-generate {\n",
              "        background-color: #E8F0FE;\n",
              "        border: none;\n",
              "        border-radius: 50%;\n",
              "        cursor: pointer;\n",
              "        display: none;\n",
              "        fill: #1967D2;\n",
              "        height: 32px;\n",
              "        padding: 0 0 0 0;\n",
              "        width: 32px;\n",
              "      }\n",
              "\n",
              "      .colab-df-generate:hover {\n",
              "        background-color: #E2EBFA;\n",
              "        box-shadow: 0px 1px 2px rgba(60, 64, 67, 0.3), 0px 1px 3px 1px rgba(60, 64, 67, 0.15);\n",
              "        fill: #174EA6;\n",
              "      }\n",
              "\n",
              "      [theme=dark] .colab-df-generate {\n",
              "        background-color: #3B4455;\n",
              "        fill: #D2E3FC;\n",
              "      }\n",
              "\n",
              "      [theme=dark] .colab-df-generate:hover {\n",
              "        background-color: #434B5C;\n",
              "        box-shadow: 0px 1px 3px 1px rgba(0, 0, 0, 0.15);\n",
              "        filter: drop-shadow(0px 1px 2px rgba(0, 0, 0, 0.3));\n",
              "        fill: #FFFFFF;\n",
              "      }\n",
              "    </style>\n",
              "    <button class=\"colab-df-generate\" onclick=\"generateWithVariable('df')\"\n",
              "            title=\"Generate code using this dataframe.\"\n",
              "            style=\"display:none;\">\n",
              "\n",
              "  <svg xmlns=\"http://www.w3.org/2000/svg\" height=\"24px\"viewBox=\"0 0 24 24\"\n",
              "       width=\"24px\">\n",
              "    <path d=\"M7,19H8.4L18.45,9,17,7.55,7,17.6ZM5,21V16.75L18.45,3.32a2,2,0,0,1,2.83,0l1.4,1.43a1.91,1.91,0,0,1,.58,1.4,1.91,1.91,0,0,1-.58,1.4L9.25,21ZM18.45,9,17,7.55Zm-12,3A5.31,5.31,0,0,0,4.9,8.1,5.31,5.31,0,0,0,1,6.5,5.31,5.31,0,0,0,4.9,4.9,5.31,5.31,0,0,0,6.5,1,5.31,5.31,0,0,0,8.1,4.9,5.31,5.31,0,0,0,12,6.5,5.46,5.46,0,0,0,6.5,12Z\"/>\n",
              "  </svg>\n",
              "    </button>\n",
              "    <script>\n",
              "      (() => {\n",
              "      const buttonEl =\n",
              "        document.querySelector('#id_4c63594b-520b-47cc-8414-32a4b85e0c8e button.colab-df-generate');\n",
              "      buttonEl.style.display =\n",
              "        google.colab.kernel.accessAllowed ? 'block' : 'none';\n",
              "\n",
              "      buttonEl.onclick = () => {\n",
              "        google.colab.notebook.generateWithVariable('df');\n",
              "      }\n",
              "      })();\n",
              "    </script>\n",
              "  </div>\n",
              "\n",
              "    </div>\n",
              "  </div>\n"
            ],
            "application/vnd.google.colaboratory.intrinsic+json": {
              "type": "dataframe",
              "variable_name": "df",
              "summary": "{\n  \"name\": \"df\",\n  \"rows\": 10524,\n  \"fields\": [\n    {\n      \"column\": \"file_name\",\n      \"properties\": {\n        \"dtype\": \"string\",\n        \"num_unique_values\": 10524,\n        \"samples\": [\n          \"oceanography.a9016921.txt\",\n          \"sociology.a9320930.txt\",\n          \"statistics.a9708176.txt\"\n        ],\n        \"semantic_type\": \"\",\n        \"description\": \"\"\n      }\n    },\n    {\n      \"column\": \"text\",\n      \"properties\": {\n        \"dtype\": \"string\",\n        \"num_unique_values\": 10513,\n        \"samples\": [\n          \"investigations of the april 22, 1991 magnitude 7.5 costa rica earthquake\",\n          \"mathematical sciences asymptotic and computational techniques for amplitude equations and weak turbulence models\",\n          \"webscales-towards a large scale metasearch engine\"\n        ],\n        \"semantic_type\": \"\",\n        \"description\": \"\"\n      }\n    },\n    {\n      \"column\": \"class\",\n      \"properties\": {\n        \"dtype\": \"category\",\n        \"num_unique_values\": 16,\n        \"samples\": [\n          \"data\",\n          \"ecology\",\n          \"hydro\"\n        ],\n        \"semantic_type\": \"\",\n        \"description\": \"\"\n      }\n    }\n  ]\n}"
            }
          },
          "metadata": {},
          "execution_count": 5
        }
      ]
    },
    {
      "cell_type": "markdown",
      "source": [
        "Count the amount of each class."
      ],
      "metadata": {
        "id": "EHnJ8YRg4Kbv"
      }
    },
    {
      "cell_type": "code",
      "source": [
        "print(df[\"class\"].value_counts())"
      ],
      "metadata": {
        "id": "4NmEzjr24FGJ",
        "colab": {
          "base_uri": "https://localhost:8080/"
        },
        "outputId": "ac352841-3e15-4ad2-f2aa-652b5da35d84"
      },
      "execution_count": null,
      "outputs": [
        {
          "output_type": "stream",
          "name": "stdout",
          "text": [
            "class\n",
            "economics       1409\n",
            "math            1339\n",
            "geophysics      1202\n",
            "oceanography     990\n",
            "ecology          889\n",
            "sociology        739\n",
            "statistics       647\n",
            "politic          603\n",
            "software         524\n",
            "theory           442\n",
            "data             402\n",
            "hydro            355\n",
            "networking       345\n",
            "neuroscience     307\n",
            "metals           201\n",
            "gravitional      130\n",
            "Name: count, dtype: int64\n"
          ]
        }
      ]
    },
    {
      "cell_type": "markdown",
      "source": [
        "### Data split"
      ],
      "metadata": {
        "id": "EUDOe_Yu4y4R"
      }
    },
    {
      "cell_type": "code",
      "source": [],
      "metadata": {
        "id": "j6gNSpd2dhWC"
      },
      "execution_count": null,
      "outputs": []
    },
    {
      "cell_type": "markdown",
      "source": [
        "Split the corpus into training data and test data."
      ],
      "metadata": {
        "id": "uWzHzDiF4dqB"
      }
    },
    {
      "cell_type": "code",
      "source": [
        "X_train, X_test, y_train, y_test = train_test_split(X, y, stratify=y, test_size=0.2, random_state=1979)"
      ],
      "metadata": {
        "id": "qLhg7jSV229_"
      },
      "execution_count": null,
      "outputs": []
    },
    {
      "cell_type": "code",
      "source": [
        "# Show the final size of each set.\n",
        "print(f\"len(X_train): {len(X_train)}\")\n",
        "print(f\"len(X_test): {len(X_test)}\")"
      ],
      "metadata": {
        "id": "nDoeqwgc47fn",
        "colab": {
          "base_uri": "https://localhost:8080/"
        },
        "outputId": "250a2147-ba05-4b75-bf67-df5657db4f35"
      },
      "execution_count": null,
      "outputs": [
        {
          "output_type": "stream",
          "name": "stdout",
          "text": [
            "len(X_train): 8419\n",
            "len(X_test): 2105\n"
          ]
        }
      ]
    },
    {
      "cell_type": "markdown",
      "source": [
        "### Pipelines\n",
        "\n",
        "Create pipelines using TF-IDF to create training attribute and add the model."
      ],
      "metadata": {
        "id": "s-zpTmkn5T45"
      }
    },
    {
      "cell_type": "code",
      "source": [
        "pipeMNB = Pipeline([(\"tfidf\", TfidfVectorizer()), (\"clf\", MultinomialNB())])\n",
        "pipeLR  = Pipeline([(\"tfidf\", TfidfVectorizer()), (\"clf\", LogisticRegression(random_state=1979))])\n",
        "pipeSVC = Pipeline([(\"tfidf\", TfidfVectorizer()), (\"clf\", LinearSVC())])"
      ],
      "metadata": {
        "id": "o0rsnLec5VNG"
      },
      "execution_count": null,
      "outputs": []
    },
    {
      "cell_type": "markdown",
      "source": [
        "### GridSearch\n",
        "\n",
        "For fine tuning we used a pipeline with TF-IDF and three different models (Multinomial Naive Bayes, Logistic Regression and Support Vector Machine). We perform hyperparameter tuning using <code>GridSearchCV</code> with 3-fold cross-validation (<code>cv</code>) and \"f1_macro\" as the strategy to evaluate the performance of the cross-validated model on the test set (<code>scoring</code>)."
      ],
      "metadata": {
        "id": "52v0Wzgk8xjd"
      }
    },
    {
      "cell_type": "markdown",
      "source": [
        "Get params for fine tuning of the models."
      ],
      "metadata": {
        "id": "ImctvhQi81lD"
      }
    },
    {
      "cell_type": "code",
      "source": [
        "paramMNB = get_multinomial_naive_bayes_params(\"clf\")\n",
        "paramLR = get_logistic_regression_params(\"clf\")\n",
        "paramSVC = get_support_vector_params(\"clf\")"
      ],
      "metadata": {
        "id": "ACu3pis383JC"
      },
      "execution_count": null,
      "outputs": []
    },
    {
      "cell_type": "markdown",
      "source": [
        "#### Multinomial Naive Bayes"
      ],
      "metadata": {
        "id": "z92-B-Ye_FRU"
      }
    },
    {
      "cell_type": "markdown",
      "source": [
        "Grid Search fit and tuning to find the best parameters."
      ],
      "metadata": {
        "id": "i_M2eZQSEg4F"
      }
    },
    {
      "cell_type": "code",
      "source": [
        "grid_search_MNB = fit_tuning(X_train, y_train, pipeMNB, paramMNB)"
      ],
      "metadata": {
        "id": "GPPYkltS9ClY"
      },
      "execution_count": null,
      "outputs": []
    },
    {
      "cell_type": "markdown",
      "source": [
        "Show best training scores and params."
      ],
      "metadata": {
        "id": "idtgJ8-YEj1d"
      }
    },
    {
      "cell_type": "code",
      "source": [
        "show_score_params(grid_search_MNB)"
      ],
      "metadata": {
        "id": "YV4dEVLvEipd",
        "colab": {
          "base_uri": "https://localhost:8080/"
        },
        "outputId": "4d067fe9-6b8f-4dfe-988a-8e9fa9e3c005"
      },
      "execution_count": null,
      "outputs": [
        {
          "output_type": "stream",
          "name": "stdout",
          "text": [
            "\n",
            "SVC best params:\n",
            "  Best Score: 0.8222915423483269\n",
            "  Best Params: {'clf__alpha': 0.1, 'clf__fit_prior': False, 'clf__force_alpha': True}\n"
          ]
        }
      ]
    },
    {
      "cell_type": "markdown",
      "source": [
        "Saving result into file"
      ],
      "metadata": {
        "id": "_2yh7ieUCWm4"
      }
    },
    {
      "cell_type": "code",
      "source": [
        "results_to_csv(grid_search_MNB, file_nsf + \"-mnb-results.csv\")"
      ],
      "metadata": {
        "collapsed": true,
        "id": "D4d83nPS-pS4",
        "colab": {
          "base_uri": "https://localhost:8080/"
        },
        "outputId": "34e17376-b2f9-48d8-c152-c0bc28a32ace"
      },
      "execution_count": null,
      "outputs": [
        {
          "output_type": "stream",
          "name": "stdout",
          "text": [
            "\n",
            "CV Results: False\n",
            "    mean_fit_time  std_fit_time  mean_score_time  std_score_time  \\\n",
            "2        0.288176      0.046492         0.119773        0.016992   \n",
            "3        0.258327      0.058524         0.105789        0.012422   \n",
            "6        0.111138      0.011474         0.051747        0.000491   \n",
            "7        0.104210      0.002515         0.049406        0.000911   \n",
            "10       0.153802      0.036169         0.089116        0.003680   \n",
            "11       0.181750      0.009000         0.084850        0.001706   \n",
            "15       0.103558      0.003289         0.050657        0.001922   \n",
            "14       0.173822      0.013680         0.081625        0.018784   \n",
            "19       0.104049      0.003967         0.051893        0.003430   \n",
            "18       0.107895      0.005871         0.050668        0.001136   \n",
            "0        0.358561      0.063182         0.139649        0.051400   \n",
            "1        0.235342      0.015704         0.123619        0.048206   \n",
            "22       0.101902      0.002339         0.053625        0.004575   \n",
            "23       0.110005      0.005924         0.051476        0.003798   \n",
            "27       0.108818      0.006461         0.051009        0.001177   \n",
            "26       0.112352      0.009253         0.053003        0.002337   \n",
            "30       0.106545      0.004252         0.053609        0.002026   \n",
            "31       0.107343      0.004442         0.056849        0.005841   \n",
            "34       0.110636      0.006151         0.052651        0.003109   \n",
            "35       0.137201      0.044801         0.070534        0.015086   \n",
            "38       0.195199      0.007483         0.099494        0.007915   \n",
            "39       0.193534      0.009286         0.084529        0.002133   \n",
            "4        0.163040      0.045159         0.083921        0.033313   \n",
            "5        0.103316      0.003610         0.053815        0.003797   \n",
            "9        0.102440      0.003882         0.050392        0.001877   \n",
            "8        0.110084      0.004456         0.051519        0.003622   \n",
            "12       0.182954      0.004805         0.088985        0.004679   \n",
            "13       0.184005      0.000699         0.090070        0.003611   \n",
            "16       0.104185      0.002987         0.053995        0.007129   \n",
            "17       0.103295      0.000224         0.049780        0.001361   \n",
            "21       0.103452      0.006068         0.048868        0.001137   \n",
            "20       0.105066      0.004129         0.055649        0.004536   \n",
            "25       0.105740      0.002924         0.058066        0.007882   \n",
            "24       0.104518      0.004133         0.050832        0.000931   \n",
            "29       0.109217      0.010055         0.052432        0.001210   \n",
            "28       0.102422      0.003111         0.050281        0.002364   \n",
            "32       0.106018      0.002418         0.052633        0.002114   \n",
            "33       0.111194      0.005508         0.050662        0.001775   \n",
            "36       0.180122      0.003749         0.090617        0.002485   \n",
            "37       0.198350      0.005557         0.091346        0.003396   \n",
            "\n",
            "    param_clf__alpha  param_clf__fit_prior  param_clf__force_alpha  \\\n",
            "2           0.100000                 False                    True   \n",
            "3           0.100000                 False                   False   \n",
            "6           0.255556                 False                    True   \n",
            "7           0.255556                 False                   False   \n",
            "10          0.411111                 False                    True   \n",
            "11          0.411111                 False                   False   \n",
            "15          0.566667                 False                   False   \n",
            "14          0.566667                 False                    True   \n",
            "19          0.722222                 False                   False   \n",
            "18          0.722222                 False                    True   \n",
            "0           0.100000                  True                    True   \n",
            "1           0.100000                  True                   False   \n",
            "22          0.877778                 False                    True   \n",
            "23          0.877778                 False                   False   \n",
            "27          1.033333                 False                   False   \n",
            "26          1.033333                 False                    True   \n",
            "30          1.188889                 False                    True   \n",
            "31          1.188889                 False                   False   \n",
            "34          1.344444                 False                    True   \n",
            "35          1.344444                 False                   False   \n",
            "38          1.500000                 False                    True   \n",
            "39          1.500000                 False                   False   \n",
            "4           0.255556                  True                    True   \n",
            "5           0.255556                  True                   False   \n",
            "9           0.411111                  True                   False   \n",
            "8           0.411111                  True                    True   \n",
            "12          0.566667                  True                    True   \n",
            "13          0.566667                  True                   False   \n",
            "16          0.722222                  True                    True   \n",
            "17          0.722222                  True                   False   \n",
            "21          0.877778                  True                   False   \n",
            "20          0.877778                  True                    True   \n",
            "25          1.033333                  True                   False   \n",
            "24          1.033333                  True                    True   \n",
            "29          1.188889                  True                   False   \n",
            "28          1.188889                  True                    True   \n",
            "32          1.344444                  True                    True   \n",
            "33          1.344444                  True                   False   \n",
            "36          1.500000                  True                    True   \n",
            "37          1.500000                  True                   False   \n",
            "\n",
            "                                               params  split0_test_score  \\\n",
            "2   {'clf__alpha': 0.1, 'clf__fit_prior': False, '...           0.811992   \n",
            "3   {'clf__alpha': 0.1, 'clf__fit_prior': False, '...           0.811992   \n",
            "6   {'clf__alpha': 0.25555555555555554, 'clf__fit_...           0.811012   \n",
            "7   {'clf__alpha': 0.25555555555555554, 'clf__fit_...           0.811012   \n",
            "10  {'clf__alpha': 0.4111111111111111, 'clf__fit_p...           0.803429   \n",
            "11  {'clf__alpha': 0.4111111111111111, 'clf__fit_p...           0.803429   \n",
            "15  {'clf__alpha': 0.5666666666666667, 'clf__fit_p...           0.795052   \n",
            "14  {'clf__alpha': 0.5666666666666667, 'clf__fit_p...           0.795052   \n",
            "19  {'clf__alpha': 0.7222222222222222, 'clf__fit_p...           0.775112   \n",
            "18  {'clf__alpha': 0.7222222222222222, 'clf__fit_p...           0.775112   \n",
            "0   {'clf__alpha': 0.1, 'clf__fit_prior': True, 'c...           0.765966   \n",
            "1   {'clf__alpha': 0.1, 'clf__fit_prior': True, 'c...           0.765966   \n",
            "22  {'clf__alpha': 0.8777777777777778, 'clf__fit_p...           0.767442   \n",
            "23  {'clf__alpha': 0.8777777777777778, 'clf__fit_p...           0.767442   \n",
            "27  {'clf__alpha': 1.0333333333333334, 'clf__fit_p...           0.759825   \n",
            "26  {'clf__alpha': 1.0333333333333334, 'clf__fit_p...           0.759825   \n",
            "30  {'clf__alpha': 1.188888888888889, 'clf__fit_pr...           0.756442   \n",
            "31  {'clf__alpha': 1.188888888888889, 'clf__fit_pr...           0.756442   \n",
            "34  {'clf__alpha': 1.3444444444444446, 'clf__fit_p...           0.743811   \n",
            "35  {'clf__alpha': 1.3444444444444446, 'clf__fit_p...           0.743811   \n",
            "38  {'clf__alpha': 1.5, 'clf__fit_prior': False, '...           0.735563   \n",
            "39  {'clf__alpha': 1.5, 'clf__fit_prior': False, '...           0.735563   \n",
            "4   {'clf__alpha': 0.25555555555555554, 'clf__fit_...           0.710524   \n",
            "5   {'clf__alpha': 0.25555555555555554, 'clf__fit_...           0.710524   \n",
            "9   {'clf__alpha': 0.4111111111111111, 'clf__fit_p...           0.647892   \n",
            "8   {'clf__alpha': 0.4111111111111111, 'clf__fit_p...           0.647892   \n",
            "12  {'clf__alpha': 0.5666666666666667, 'clf__fit_p...           0.604662   \n",
            "13  {'clf__alpha': 0.5666666666666667, 'clf__fit_p...           0.604662   \n",
            "16  {'clf__alpha': 0.7222222222222222, 'clf__fit_p...           0.573150   \n",
            "17  {'clf__alpha': 0.7222222222222222, 'clf__fit_p...           0.573150   \n",
            "21  {'clf__alpha': 0.8777777777777778, 'clf__fit_p...           0.542324   \n",
            "20  {'clf__alpha': 0.8777777777777778, 'clf__fit_p...           0.542324   \n",
            "25  {'clf__alpha': 1.0333333333333334, 'clf__fit_p...           0.512375   \n",
            "24  {'clf__alpha': 1.0333333333333334, 'clf__fit_p...           0.512375   \n",
            "29  {'clf__alpha': 1.188888888888889, 'clf__fit_pr...           0.486410   \n",
            "28  {'clf__alpha': 1.188888888888889, 'clf__fit_pr...           0.486410   \n",
            "32  {'clf__alpha': 1.3444444444444446, 'clf__fit_p...           0.470188   \n",
            "33  {'clf__alpha': 1.3444444444444446, 'clf__fit_p...           0.470188   \n",
            "36  {'clf__alpha': 1.5, 'clf__fit_prior': True, 'c...           0.451481   \n",
            "37  {'clf__alpha': 1.5, 'clf__fit_prior': True, 'c...           0.451481   \n",
            "\n",
            "    split1_test_score  split2_test_score  mean_test_score  std_test_score  \\\n",
            "2            0.827088           0.827794         0.822292        0.007288   \n",
            "3            0.827088           0.827794         0.822292        0.007288   \n",
            "6            0.823326           0.830134         0.821491        0.007914   \n",
            "7            0.823326           0.830134         0.821491        0.007914   \n",
            "10           0.814676           0.819815         0.812640        0.006842   \n",
            "11           0.814676           0.819815         0.812640        0.006842   \n",
            "15           0.798933           0.814896         0.802960        0.008587   \n",
            "14           0.798933           0.814896         0.802960        0.008587   \n",
            "19           0.788168           0.806211         0.789830        0.012750   \n",
            "18           0.788168           0.806211         0.789830        0.012750   \n",
            "0            0.785286           0.801905         0.784385        0.014686   \n",
            "1            0.785286           0.801905         0.784385        0.014686   \n",
            "22           0.775925           0.790001         0.777789        0.009304   \n",
            "23           0.775925           0.790001         0.777789        0.009304   \n",
            "27           0.765912           0.774373         0.766703        0.005965   \n",
            "26           0.765912           0.774373         0.766703        0.005965   \n",
            "30           0.756501           0.767301         0.760082        0.005105   \n",
            "31           0.756501           0.767301         0.760082        0.005105   \n",
            "34           0.743082           0.759951         0.748948        0.007786   \n",
            "35           0.743082           0.759951         0.748948        0.007786   \n",
            "38           0.733186           0.755926         0.741559        0.010206   \n",
            "39           0.733186           0.755926         0.741559        0.010206   \n",
            "4            0.709697           0.745170         0.721797        0.016531   \n",
            "5            0.709697           0.745170         0.721797        0.016531   \n",
            "9            0.644513           0.682822         0.658409        0.017317   \n",
            "8            0.644513           0.682822         0.658409        0.017317   \n",
            "12           0.587431           0.627625         0.606573        0.016465   \n",
            "13           0.587431           0.627625         0.606573        0.016465   \n",
            "16           0.555848           0.582410         0.570470        0.011008   \n",
            "17           0.555848           0.582410         0.570470        0.011008   \n",
            "21           0.521783           0.556178         0.540095        0.014130   \n",
            "20           0.521783           0.556178         0.540095        0.014130   \n",
            "25           0.482875           0.530989         0.508746        0.019809   \n",
            "24           0.482875           0.530989         0.508746        0.019809   \n",
            "29           0.463495           0.499391         0.483099        0.014840   \n",
            "28           0.463495           0.499391         0.483099        0.014840   \n",
            "32           0.443404           0.481417         0.465003        0.015946   \n",
            "33           0.443404           0.481417         0.465003        0.015946   \n",
            "36           0.429046           0.456996         0.445841        0.012087   \n",
            "37           0.429046           0.456996         0.445841        0.012087   \n",
            "\n",
            "    rank_test_score  \n",
            "2                 1  \n",
            "3                 1  \n",
            "6                 3  \n",
            "7                 3  \n",
            "10                5  \n",
            "11                5  \n",
            "15                7  \n",
            "14                7  \n",
            "19                9  \n",
            "18                9  \n",
            "0                11  \n",
            "1                11  \n",
            "22               13  \n",
            "23               13  \n",
            "27               15  \n",
            "26               15  \n",
            "30               17  \n",
            "31               17  \n",
            "34               19  \n",
            "35               19  \n",
            "38               21  \n",
            "39               21  \n",
            "4                23  \n",
            "5                23  \n",
            "9                25  \n",
            "8                25  \n",
            "12               27  \n",
            "13               27  \n",
            "16               29  \n",
            "17               29  \n",
            "21               31  \n",
            "20               31  \n",
            "25               33  \n",
            "24               33  \n",
            "29               35  \n",
            "28               35  \n",
            "32               37  \n",
            "33               37  \n",
            "36               39  \n",
            "37               39   False\n"
          ]
        }
      ]
    },
    {
      "cell_type": "markdown",
      "source": [
        "#### Logistic Regression"
      ],
      "metadata": {
        "id": "75UK_qpNFn3h"
      }
    },
    {
      "cell_type": "markdown",
      "source": [
        "Grid Search fit and tuning to find the best parameters."
      ],
      "metadata": {
        "id": "3iUVZhEsFn4D"
      }
    },
    {
      "cell_type": "code",
      "source": [
        "grid_search_LR = fit_tuning(X_train, y_train, pipeLR, paramLR)"
      ],
      "metadata": {
        "id": "deuEgCzZFn4E",
        "colab": {
          "base_uri": "https://localhost:8080/"
        },
        "outputId": "6d7b0bb5-38f6-4c15-fde9-091389fe5e4d"
      },
      "execution_count": null,
      "outputs": [
        {
          "output_type": "stream",
          "name": "stderr",
          "text": [
            "/usr/local/lib/python3.10/dist-packages/sklearn/linear_model/_logistic.py:469: ConvergenceWarning: lbfgs failed to converge (status=1):\n",
            "STOP: TOTAL NO. of ITERATIONS REACHED LIMIT.\n",
            "\n",
            "Increase the number of iterations (max_iter) or scale the data as shown in:\n",
            "    https://scikit-learn.org/stable/modules/preprocessing.html\n",
            "Please also refer to the documentation for alternative solver options:\n",
            "    https://scikit-learn.org/stable/modules/linear_model.html#logistic-regression\n",
            "  n_iter_i = _check_optimize_result(\n"
          ]
        }
      ]
    },
    {
      "cell_type": "markdown",
      "source": [
        "Show best training scores and params."
      ],
      "metadata": {
        "id": "xEAZ1FNIFn4G"
      }
    },
    {
      "cell_type": "code",
      "source": [
        "show_score_params(grid_search_LR)"
      ],
      "metadata": {
        "id": "VIAGxx3CFn4G",
        "colab": {
          "base_uri": "https://localhost:8080/"
        },
        "outputId": "96601c25-7e14-474e-acbf-c6db0efe9286"
      },
      "execution_count": null,
      "outputs": [
        {
          "output_type": "stream",
          "name": "stdout",
          "text": [
            "\n",
            "SVC best params:\n",
            "  Best Score: 0.8349633711471355\n",
            "  Best Params: {'clf__C': 5.994842503189409, 'clf__class_weight': 'balanced', 'clf__max_iter': 100, 'clf__solver': 'lbfgs'}\n"
          ]
        }
      ]
    },
    {
      "cell_type": "markdown",
      "source": [
        "Saving result into file"
      ],
      "metadata": {
        "id": "arLQto_nFn4H"
      }
    },
    {
      "cell_type": "code",
      "source": [
        "results_to_csv(grid_search_LR, file_nsf + \"-lr-results.csv\")"
      ],
      "metadata": {
        "collapsed": true,
        "id": "oEbaUt4jFn4H",
        "colab": {
          "base_uri": "https://localhost:8080/"
        },
        "outputId": "85b4ce61-5a95-4aa7-f525-9c61e5a44654"
      },
      "execution_count": 46,
      "outputs": [
        {
          "output_type": "stream",
          "name": "stdout",
          "text": [
            "\n",
            "CV Results: False\n",
            "    mean_fit_time  std_fit_time  mean_score_time  std_score_time  \\\n",
            "54       0.326577      0.011490         0.092989        0.010204   \n",
            "58       0.467232      0.204499         0.107048        0.024515   \n",
            "56       1.261659      0.347720         0.115120        0.026260   \n",
            "48       0.388791      0.059007         0.098051        0.016780   \n",
            "50       0.332911      0.012281         0.087066        0.002386   \n",
            "..            ...           ...              ...             ...   \n",
            "15       0.338235      0.090081         0.113577        0.014951   \n",
            "17       0.339171      0.119893         0.120440        0.003903   \n",
            "5        0.420528      0.050461         0.130144        0.004551   \n",
            "3        0.303910      0.070405         0.124891        0.020166   \n",
            "1        0.331601      0.083577         0.135417        0.005794   \n",
            "\n",
            "    param_clf__C param_clf__class_weight  param_clf__max_iter  \\\n",
            "54      5.994843                balanced                  100   \n",
            "58      5.994843                balanced                  500   \n",
            "56      5.994843                balanced                  200   \n",
            "48      5.994843                    None                  100   \n",
            "50      5.994843                    None                  200   \n",
            "..           ...                     ...                  ...   \n",
            "15      0.000278                    None                  200   \n",
            "17      0.000278                    None                  500   \n",
            "5       0.000010                    None                  500   \n",
            "3       0.000010                    None                  200   \n",
            "1       0.000010                    None                  100   \n",
            "\n",
            "   param_clf__solver                                             params  \\\n",
            "54         liblinear  {'clf__C': 5.994842503189409, 'clf__class_weig...   \n",
            "58         liblinear  {'clf__C': 5.994842503189409, 'clf__class_weig...   \n",
            "56         liblinear  {'clf__C': 5.994842503189409, 'clf__class_weig...   \n",
            "48         liblinear  {'clf__C': 5.994842503189409, 'clf__class_weig...   \n",
            "50         liblinear  {'clf__C': 5.994842503189409, 'clf__class_weig...   \n",
            "..               ...                                                ...   \n",
            "15             lbfgs  {'clf__C': 0.0002782559402207126, 'clf__class_...   \n",
            "17             lbfgs  {'clf__C': 0.0002782559402207126, 'clf__class_...   \n",
            "5              lbfgs  {'clf__C': 1e-05, 'clf__class_weight': None, '...   \n",
            "3              lbfgs  {'clf__C': 1e-05, 'clf__class_weight': None, '...   \n",
            "1              lbfgs  {'clf__C': 1e-05, 'clf__class_weight': None, '...   \n",
            "\n",
            "    split0_test_score  split1_test_score  split2_test_score  mean_test_score  \\\n",
            "54           0.739989           0.710105           0.726134         0.725409   \n",
            "58           0.739989           0.710105           0.726134         0.725409   \n",
            "56           0.739989           0.710105           0.726134         0.725409   \n",
            "48           0.739989           0.709486           0.726134         0.725203   \n",
            "50           0.739989           0.709486           0.726134         0.725203   \n",
            "..                ...                ...                ...              ...   \n",
            "15           0.357852           0.369180           0.360132         0.362388   \n",
            "17           0.357852           0.369180           0.360132         0.362388   \n",
            "5            0.347204           0.361747           0.363962         0.357638   \n",
            "3            0.347204           0.361747           0.363962         0.357638   \n",
            "1            0.347204           0.361747           0.363962         0.357638   \n",
            "\n",
            "    std_test_score  rank_test_score  \n",
            "54        0.012211                1  \n",
            "58        0.012211                1  \n",
            "56        0.012211                1  \n",
            "48        0.012470                4  \n",
            "50        0.012470                4  \n",
            "..             ...              ...  \n",
            "15        0.004892              115  \n",
            "17        0.004892              115  \n",
            "5         0.007433              118  \n",
            "3         0.007433              118  \n",
            "1         0.007433              118  \n",
            "\n",
            "[120 rows x 15 columns] False\n"
          ]
        }
      ]
    },
    {
      "cell_type": "markdown",
      "source": [
        "#### Support Vector Classifier"
      ],
      "metadata": {
        "id": "rQMcF-yjGu63"
      }
    },
    {
      "cell_type": "markdown",
      "source": [
        "Grid Search fit and tuning to find the best parameters."
      ],
      "metadata": {
        "id": "x3F7YXxnGu7d"
      }
    },
    {
      "cell_type": "code",
      "source": [
        "grid_search_SVC = fit_tuning(X_train, y_train, pipeSVC, paramSVC)"
      ],
      "metadata": {
        "id": "VfVNSK2lGu7e"
      },
      "execution_count": null,
      "outputs": []
    },
    {
      "cell_type": "markdown",
      "source": [
        "Show best training scores and params."
      ],
      "metadata": {
        "id": "6FsT2DqFGu7f"
      }
    },
    {
      "cell_type": "code",
      "source": [
        "show_score_params(grid_search_SVC)"
      ],
      "metadata": {
        "id": "554Znd9LGu7g",
        "colab": {
          "base_uri": "https://localhost:8080/"
        },
        "outputId": "7c8f2a90-ff90-47e4-edfa-92bf7afc4350"
      },
      "execution_count": null,
      "outputs": [
        {
          "output_type": "stream",
          "name": "stdout",
          "text": [
            "\n",
            "SVC best params:\n",
            "  Best Score: 0.8363693766855297\n",
            "  Best Params: {'clf__class_weight': 'balanced', 'clf__tol': 0.05179474679231213}\n"
          ]
        }
      ]
    },
    {
      "cell_type": "markdown",
      "source": [
        "Saving result into file"
      ],
      "metadata": {
        "id": "_Qhia8rOGu7h"
      }
    },
    {
      "cell_type": "code",
      "source": [
        "results_to_csv(grid_search_SVC, file_nsf + \"-svc-results.csv\")"
      ],
      "metadata": {
        "collapsed": true,
        "id": "sNS3LVSTGu7i",
        "colab": {
          "base_uri": "https://localhost:8080/"
        },
        "outputId": "d2e4b641-6242-4802-94ed-523075a87675"
      },
      "execution_count": null,
      "outputs": [
        {
          "output_type": "stream",
          "name": "stdout",
          "text": [
            "\n",
            "CV Results: False\n",
            "    mean_fit_time  std_fit_time  mean_score_time  std_score_time  \\\n",
            "19       0.178456      0.006591         0.054943        0.001025   \n",
            "15       0.242085      0.001171         0.057367        0.001233   \n",
            "18       0.190429      0.003676         0.054354        0.001350   \n",
            "17       0.202432      0.006375         0.053388        0.001118   \n",
            "16       0.221245      0.006060         0.056614        0.001910   \n",
            "20       0.148184      0.002758         0.056488        0.001600   \n",
            "5        0.216664      0.046669         0.078723        0.027947   \n",
            "4        0.269591      0.005475         0.101543        0.003609   \n",
            "1        0.222689      0.008110         0.056730        0.001844   \n",
            "0        0.283840      0.036704         0.059090        0.003287   \n",
            "2        0.289731      0.053492         0.095591        0.006543   \n",
            "3        0.298541      0.010386         0.096309        0.004724   \n",
            "14       0.125182      0.006373         0.062940        0.002969   \n",
            "6        0.117432      0.005819         0.058582        0.002135   \n",
            "26       0.103439      0.000218         0.054918        0.000724   \n",
            "8        0.114907      0.006446         0.056482        0.002343   \n",
            "27       0.106813      0.001905         0.063406        0.007562   \n",
            "25       0.157506      0.034263         0.087044        0.022334   \n",
            "10       0.109303      0.004343         0.060752        0.002609   \n",
            "29       0.103631      0.003326         0.060364        0.007517   \n",
            "21       0.131191      0.034990         0.090568        0.025800   \n",
            "7        0.106644      0.004154         0.060844        0.005452   \n",
            "28       0.104182      0.002660         0.054228        0.000883   \n",
            "23       0.178448      0.002916         0.097282        0.002881   \n",
            "12       0.111980      0.005135         0.062930        0.004004   \n",
            "24       0.185227      0.000577         0.100863        0.007130   \n",
            "13       0.127369      0.005363         0.065485        0.000269   \n",
            "9        0.113650      0.012439         0.060046        0.001596   \n",
            "11       0.116405      0.003513         0.063183        0.003488   \n",
            "22       0.182194      0.011440         0.099873        0.003529   \n",
            "\n",
            "   param_clf__class_weight  param_clf__tol  \\\n",
            "19                balanced    5.179475e-02   \n",
            "15                balanced    1.000000e-05   \n",
            "18                balanced    6.105402e-03   \n",
            "17                balanced    7.196857e-04   \n",
            "16                balanced    8.483429e-05   \n",
            "20                balanced    4.393971e-01   \n",
            "5                     None    4.393971e-01   \n",
            "4                     None    5.179475e-02   \n",
            "1                     None    8.483429e-05   \n",
            "0                     None    1.000000e-05   \n",
            "2                     None    7.196857e-04   \n",
            "3                     None    6.105402e-03   \n",
            "14                    None    1.000000e+08   \n",
            "6                     None    3.727594e+00   \n",
            "26                balanced    1.637894e+05   \n",
            "8                     None    2.682696e+02   \n",
            "27                balanced    1.389495e+06   \n",
            "25                balanced    1.930698e+04   \n",
            "10                    None    1.930698e+04   \n",
            "29                balanced    1.000000e+08   \n",
            "21                balanced    3.727594e+00   \n",
            "7                     None    3.162278e+01   \n",
            "28                balanced    1.178769e+07   \n",
            "23                balanced    2.682696e+02   \n",
            "12                    None    1.389495e+06   \n",
            "24                balanced    2.275846e+03   \n",
            "13                    None    1.178769e+07   \n",
            "9                     None    2.275846e+03   \n",
            "11                    None    1.637894e+05   \n",
            "22                balanced    3.162278e+01   \n",
            "\n",
            "                                               params  split0_test_score  \\\n",
            "19  {'clf__class_weight': 'balanced', 'clf__tol': ...           0.831064   \n",
            "15  {'clf__class_weight': 'balanced', 'clf__tol': ...           0.830852   \n",
            "18  {'clf__class_weight': 'balanced', 'clf__tol': ...           0.830852   \n",
            "17  {'clf__class_weight': 'balanced', 'clf__tol': ...           0.830852   \n",
            "16  {'clf__class_weight': 'balanced', 'clf__tol': ...           0.830852   \n",
            "20  {'clf__class_weight': 'balanced', 'clf__tol': ...           0.830194   \n",
            "5   {'clf__class_weight': None, 'clf__tol': 0.4393...           0.831243   \n",
            "4   {'clf__class_weight': None, 'clf__tol': 0.0517...           0.832071   \n",
            "1   {'clf__class_weight': None, 'clf__tol': 8.4834...           0.831788   \n",
            "0      {'clf__class_weight': None, 'clf__tol': 1e-05}           0.831788   \n",
            "2   {'clf__class_weight': None, 'clf__tol': 0.0007...           0.831788   \n",
            "3   {'clf__class_weight': None, 'clf__tol': 0.0061...           0.831788   \n",
            "14  {'clf__class_weight': None, 'clf__tol': 100000...           0.797354   \n",
            "6   {'clf__class_weight': None, 'clf__tol': 3.7275...           0.785736   \n",
            "26  {'clf__class_weight': 'balanced', 'clf__tol': ...           0.789599   \n",
            "8   {'clf__class_weight': None, 'clf__tol': 268.26...           0.755854   \n",
            "27  {'clf__class_weight': 'balanced', 'clf__tol': ...           0.792452   \n",
            "25  {'clf__class_weight': 'balanced', 'clf__tol': ...           0.782683   \n",
            "10  {'clf__class_weight': None, 'clf__tol': 19306....           0.749232   \n",
            "29  {'clf__class_weight': 'balanced', 'clf__tol': ...           0.778271   \n",
            "21  {'clf__class_weight': 'balanced', 'clf__tol': ...           0.755330   \n",
            "7   {'clf__class_weight': None, 'clf__tol': 31.622...           0.765041   \n",
            "28  {'clf__class_weight': 'balanced', 'clf__tol': ...           0.767460   \n",
            "23  {'clf__class_weight': 'balanced', 'clf__tol': ...           0.719901   \n",
            "12  {'clf__class_weight': None, 'clf__tol': 138949...           0.756516   \n",
            "24  {'clf__class_weight': 'balanced', 'clf__tol': ...           0.748810   \n",
            "13  {'clf__class_weight': None, 'clf__tol': 117876...           0.761916   \n",
            "9   {'clf__class_weight': None, 'clf__tol': 2275.8...           0.744465   \n",
            "11  {'clf__class_weight': None, 'clf__tol': 163789...           0.770239   \n",
            "22  {'clf__class_weight': 'balanced', 'clf__tol': ...           0.717631   \n",
            "\n",
            "    split1_test_score  split2_test_score  mean_test_score  std_test_score  \\\n",
            "19           0.841977           0.836067         0.836369        0.004460   \n",
            "15           0.841977           0.835578         0.836136        0.004559   \n",
            "18           0.841977           0.835578         0.836136        0.004559   \n",
            "17           0.841977           0.835578         0.836136        0.004559   \n",
            "16           0.841977           0.835578         0.836136        0.004559   \n",
            "20           0.840522           0.835820         0.835512        0.004222   \n",
            "5            0.833993           0.838224         0.834487        0.002871   \n",
            "4            0.832807           0.837352         0.834077        0.002335   \n",
            "1            0.832188           0.837903         0.833959        0.002793   \n",
            "0            0.832188           0.837903         0.833959        0.002793   \n",
            "2            0.832188           0.837903         0.833959        0.002793   \n",
            "3            0.832188           0.837903         0.833959        0.002793   \n",
            "14           0.778596           0.809540         0.795163        0.012727   \n",
            "6            0.793553           0.801454         0.793581        0.006417   \n",
            "26           0.786297           0.801123         0.792340        0.006355   \n",
            "8            0.784183           0.813360         0.784466        0.023477   \n",
            "27           0.767469           0.793200         0.784374        0.011957   \n",
            "25           0.761405           0.804040         0.782709        0.017406   \n",
            "10           0.810279           0.787348         0.782286        0.025178   \n",
            "29           0.769784           0.784352         0.777469        0.005975   \n",
            "21           0.767453           0.797579         0.773454        0.017763   \n",
            "7            0.759476           0.786900         0.770473        0.011836   \n",
            "28           0.776854           0.763123         0.769146        0.005731   \n",
            "23           0.771669           0.804174         0.765248        0.034703   \n",
            "12           0.744208           0.789763         0.763496        0.019242   \n",
            "24           0.780858           0.760290         0.763320        0.013258   \n",
            "13           0.757605           0.760765         0.760095        0.001823   \n",
            "9            0.766282           0.769490         0.760079        0.011118   \n",
            "11           0.783643           0.723608         0.759163        0.025730   \n",
            "22           0.761675           0.765462         0.748256        0.021711   \n",
            "\n",
            "    rank_test_score  \n",
            "19                1  \n",
            "15                2  \n",
            "18                2  \n",
            "17                2  \n",
            "16                2  \n",
            "20                6  \n",
            "5                 7  \n",
            "4                 8  \n",
            "1                 9  \n",
            "0                 9  \n",
            "2                 9  \n",
            "3                 9  \n",
            "14               13  \n",
            "6                14  \n",
            "26               15  \n",
            "8                16  \n",
            "27               17  \n",
            "25               18  \n",
            "10               19  \n",
            "29               20  \n",
            "21               21  \n",
            "7                22  \n",
            "28               23  \n",
            "23               24  \n",
            "12               25  \n",
            "24               26  \n",
            "13               27  \n",
            "9                28  \n",
            "11               29  \n",
            "22               30   False\n"
          ]
        }
      ]
    },
    {
      "cell_type": "markdown",
      "source": [
        "### Best estimator training\n",
        "\n",
        "Train the model using the whole `X_train` and `y_train` sets before validate it using the test set (`X_test`)."
      ],
      "metadata": {
        "id": "VSUQvX0u2XjN"
      }
    },
    {
      "cell_type": "markdown",
      "source": [
        "Get the best estimator (pipeline)."
      ],
      "metadata": {
        "id": "Rh3r-GF53Ww4"
      }
    },
    {
      "cell_type": "code",
      "source": [
        "estimator_MNB = grid_search_SVC.best_estimator_\n",
        "estimator_LR = grid_search_SVC.best_estimator_\n",
        "estimator_SVC = grid_search_SVC.best_estimator_\n",
        "print(estimator_MNB)\n",
        "print(estimator_LR)\n",
        "print(estimator_SVC)"
      ],
      "metadata": {
        "colab": {
          "base_uri": "https://localhost:8080/"
        },
        "id": "VM-B_eTl2-G1",
        "outputId": "9798793d-d201-4561-c0b0-7ed9c2f6284a"
      },
      "execution_count": null,
      "outputs": [
        {
          "output_type": "stream",
          "name": "stdout",
          "text": [
            "Pipeline(steps=[('tfidf', TfidfVectorizer()),\n",
            "                ('clf',\n",
            "                 LinearSVC(class_weight='balanced', tol=0.05179474679231213))])\n",
            "Pipeline(steps=[('tfidf', TfidfVectorizer()),\n",
            "                ('clf',\n",
            "                 LinearSVC(class_weight='balanced', tol=0.05179474679231213))])\n",
            "Pipeline(steps=[('tfidf', TfidfVectorizer()),\n",
            "                ('clf',\n",
            "                 LinearSVC(class_weight='balanced', tol=0.05179474679231213))])\n"
          ]
        }
      ]
    },
    {
      "cell_type": "markdown",
      "source": [
        "Train the estimator using the training sets (`X_train` and `y_train`). A new training step is necessary because the cross-validation step never use the whole training set to train the model."
      ],
      "metadata": {
        "id": "txIah2kZ3dCF"
      }
    },
    {
      "cell_type": "code",
      "source": [
        "estimator_MNB.fit(X_train, y_train)\n",
        "estimator_LR.fit(X_train, y_train)\n",
        "estimator_SVC.fit(X_train, y_train)"
      ],
      "metadata": {
        "colab": {
          "base_uri": "https://localhost:8080/"
        },
        "id": "ES15kDMN3tM3",
        "outputId": "2d7c33ea-02ef-47d3-d284-91322267a174"
      },
      "execution_count": null,
      "outputs": [
        {
          "output_type": "execute_result",
          "data": {
            "text/plain": [
              "Pipeline(steps=[('tfidf', TfidfVectorizer()),\n",
              "                ('clf',\n",
              "                 LinearSVC(class_weight='balanced', tol=0.05179474679231213))])"
            ],
            "text/html": [
              "<style>#sk-container-id-1 {\n",
              "  /* Definition of color scheme common for light and dark mode */\n",
              "  --sklearn-color-text: black;\n",
              "  --sklearn-color-line: gray;\n",
              "  /* Definition of color scheme for unfitted estimators */\n",
              "  --sklearn-color-unfitted-level-0: #fff5e6;\n",
              "  --sklearn-color-unfitted-level-1: #f6e4d2;\n",
              "  --sklearn-color-unfitted-level-2: #ffe0b3;\n",
              "  --sklearn-color-unfitted-level-3: chocolate;\n",
              "  /* Definition of color scheme for fitted estimators */\n",
              "  --sklearn-color-fitted-level-0: #f0f8ff;\n",
              "  --sklearn-color-fitted-level-1: #d4ebff;\n",
              "  --sklearn-color-fitted-level-2: #b3dbfd;\n",
              "  --sklearn-color-fitted-level-3: cornflowerblue;\n",
              "\n",
              "  /* Specific color for light theme */\n",
              "  --sklearn-color-text-on-default-background: var(--sg-text-color, var(--theme-code-foreground, var(--jp-content-font-color1, black)));\n",
              "  --sklearn-color-background: var(--sg-background-color, var(--theme-background, var(--jp-layout-color0, white)));\n",
              "  --sklearn-color-border-box: var(--sg-text-color, var(--theme-code-foreground, var(--jp-content-font-color1, black)));\n",
              "  --sklearn-color-icon: #696969;\n",
              "\n",
              "  @media (prefers-color-scheme: dark) {\n",
              "    /* Redefinition of color scheme for dark theme */\n",
              "    --sklearn-color-text-on-default-background: var(--sg-text-color, var(--theme-code-foreground, var(--jp-content-font-color1, white)));\n",
              "    --sklearn-color-background: var(--sg-background-color, var(--theme-background, var(--jp-layout-color0, #111)));\n",
              "    --sklearn-color-border-box: var(--sg-text-color, var(--theme-code-foreground, var(--jp-content-font-color1, white)));\n",
              "    --sklearn-color-icon: #878787;\n",
              "  }\n",
              "}\n",
              "\n",
              "#sk-container-id-1 {\n",
              "  color: var(--sklearn-color-text);\n",
              "}\n",
              "\n",
              "#sk-container-id-1 pre {\n",
              "  padding: 0;\n",
              "}\n",
              "\n",
              "#sk-container-id-1 input.sk-hidden--visually {\n",
              "  border: 0;\n",
              "  clip: rect(1px 1px 1px 1px);\n",
              "  clip: rect(1px, 1px, 1px, 1px);\n",
              "  height: 1px;\n",
              "  margin: -1px;\n",
              "  overflow: hidden;\n",
              "  padding: 0;\n",
              "  position: absolute;\n",
              "  width: 1px;\n",
              "}\n",
              "\n",
              "#sk-container-id-1 div.sk-dashed-wrapped {\n",
              "  border: 1px dashed var(--sklearn-color-line);\n",
              "  margin: 0 0.4em 0.5em 0.4em;\n",
              "  box-sizing: border-box;\n",
              "  padding-bottom: 0.4em;\n",
              "  background-color: var(--sklearn-color-background);\n",
              "}\n",
              "\n",
              "#sk-container-id-1 div.sk-container {\n",
              "  /* jupyter's `normalize.less` sets `[hidden] { display: none; }`\n",
              "     but bootstrap.min.css set `[hidden] { display: none !important; }`\n",
              "     so we also need the `!important` here to be able to override the\n",
              "     default hidden behavior on the sphinx rendered scikit-learn.org.\n",
              "     See: https://github.com/scikit-learn/scikit-learn/issues/21755 */\n",
              "  display: inline-block !important;\n",
              "  position: relative;\n",
              "}\n",
              "\n",
              "#sk-container-id-1 div.sk-text-repr-fallback {\n",
              "  display: none;\n",
              "}\n",
              "\n",
              "div.sk-parallel-item,\n",
              "div.sk-serial,\n",
              "div.sk-item {\n",
              "  /* draw centered vertical line to link estimators */\n",
              "  background-image: linear-gradient(var(--sklearn-color-text-on-default-background), var(--sklearn-color-text-on-default-background));\n",
              "  background-size: 2px 100%;\n",
              "  background-repeat: no-repeat;\n",
              "  background-position: center center;\n",
              "}\n",
              "\n",
              "/* Parallel-specific style estimator block */\n",
              "\n",
              "#sk-container-id-1 div.sk-parallel-item::after {\n",
              "  content: \"\";\n",
              "  width: 100%;\n",
              "  border-bottom: 2px solid var(--sklearn-color-text-on-default-background);\n",
              "  flex-grow: 1;\n",
              "}\n",
              "\n",
              "#sk-container-id-1 div.sk-parallel {\n",
              "  display: flex;\n",
              "  align-items: stretch;\n",
              "  justify-content: center;\n",
              "  background-color: var(--sklearn-color-background);\n",
              "  position: relative;\n",
              "}\n",
              "\n",
              "#sk-container-id-1 div.sk-parallel-item {\n",
              "  display: flex;\n",
              "  flex-direction: column;\n",
              "}\n",
              "\n",
              "#sk-container-id-1 div.sk-parallel-item:first-child::after {\n",
              "  align-self: flex-end;\n",
              "  width: 50%;\n",
              "}\n",
              "\n",
              "#sk-container-id-1 div.sk-parallel-item:last-child::after {\n",
              "  align-self: flex-start;\n",
              "  width: 50%;\n",
              "}\n",
              "\n",
              "#sk-container-id-1 div.sk-parallel-item:only-child::after {\n",
              "  width: 0;\n",
              "}\n",
              "\n",
              "/* Serial-specific style estimator block */\n",
              "\n",
              "#sk-container-id-1 div.sk-serial {\n",
              "  display: flex;\n",
              "  flex-direction: column;\n",
              "  align-items: center;\n",
              "  background-color: var(--sklearn-color-background);\n",
              "  padding-right: 1em;\n",
              "  padding-left: 1em;\n",
              "}\n",
              "\n",
              "\n",
              "/* Toggleable style: style used for estimator/Pipeline/ColumnTransformer box that is\n",
              "clickable and can be expanded/collapsed.\n",
              "- Pipeline and ColumnTransformer use this feature and define the default style\n",
              "- Estimators will overwrite some part of the style using the `sk-estimator` class\n",
              "*/\n",
              "\n",
              "/* Pipeline and ColumnTransformer style (default) */\n",
              "\n",
              "#sk-container-id-1 div.sk-toggleable {\n",
              "  /* Default theme specific background. It is overwritten whether we have a\n",
              "  specific estimator or a Pipeline/ColumnTransformer */\n",
              "  background-color: var(--sklearn-color-background);\n",
              "}\n",
              "\n",
              "/* Toggleable label */\n",
              "#sk-container-id-1 label.sk-toggleable__label {\n",
              "  cursor: pointer;\n",
              "  display: block;\n",
              "  width: 100%;\n",
              "  margin-bottom: 0;\n",
              "  padding: 0.5em;\n",
              "  box-sizing: border-box;\n",
              "  text-align: center;\n",
              "}\n",
              "\n",
              "#sk-container-id-1 label.sk-toggleable__label-arrow:before {\n",
              "  /* Arrow on the left of the label */\n",
              "  content: \"▸\";\n",
              "  float: left;\n",
              "  margin-right: 0.25em;\n",
              "  color: var(--sklearn-color-icon);\n",
              "}\n",
              "\n",
              "#sk-container-id-1 label.sk-toggleable__label-arrow:hover:before {\n",
              "  color: var(--sklearn-color-text);\n",
              "}\n",
              "\n",
              "/* Toggleable content - dropdown */\n",
              "\n",
              "#sk-container-id-1 div.sk-toggleable__content {\n",
              "  max-height: 0;\n",
              "  max-width: 0;\n",
              "  overflow: hidden;\n",
              "  text-align: left;\n",
              "  /* unfitted */\n",
              "  background-color: var(--sklearn-color-unfitted-level-0);\n",
              "}\n",
              "\n",
              "#sk-container-id-1 div.sk-toggleable__content.fitted {\n",
              "  /* fitted */\n",
              "  background-color: var(--sklearn-color-fitted-level-0);\n",
              "}\n",
              "\n",
              "#sk-container-id-1 div.sk-toggleable__content pre {\n",
              "  margin: 0.2em;\n",
              "  border-radius: 0.25em;\n",
              "  color: var(--sklearn-color-text);\n",
              "  /* unfitted */\n",
              "  background-color: var(--sklearn-color-unfitted-level-0);\n",
              "}\n",
              "\n",
              "#sk-container-id-1 div.sk-toggleable__content.fitted pre {\n",
              "  /* unfitted */\n",
              "  background-color: var(--sklearn-color-fitted-level-0);\n",
              "}\n",
              "\n",
              "#sk-container-id-1 input.sk-toggleable__control:checked~div.sk-toggleable__content {\n",
              "  /* Expand drop-down */\n",
              "  max-height: 200px;\n",
              "  max-width: 100%;\n",
              "  overflow: auto;\n",
              "}\n",
              "\n",
              "#sk-container-id-1 input.sk-toggleable__control:checked~label.sk-toggleable__label-arrow:before {\n",
              "  content: \"▾\";\n",
              "}\n",
              "\n",
              "/* Pipeline/ColumnTransformer-specific style */\n",
              "\n",
              "#sk-container-id-1 div.sk-label input.sk-toggleable__control:checked~label.sk-toggleable__label {\n",
              "  color: var(--sklearn-color-text);\n",
              "  background-color: var(--sklearn-color-unfitted-level-2);\n",
              "}\n",
              "\n",
              "#sk-container-id-1 div.sk-label.fitted input.sk-toggleable__control:checked~label.sk-toggleable__label {\n",
              "  background-color: var(--sklearn-color-fitted-level-2);\n",
              "}\n",
              "\n",
              "/* Estimator-specific style */\n",
              "\n",
              "/* Colorize estimator box */\n",
              "#sk-container-id-1 div.sk-estimator input.sk-toggleable__control:checked~label.sk-toggleable__label {\n",
              "  /* unfitted */\n",
              "  background-color: var(--sklearn-color-unfitted-level-2);\n",
              "}\n",
              "\n",
              "#sk-container-id-1 div.sk-estimator.fitted input.sk-toggleable__control:checked~label.sk-toggleable__label {\n",
              "  /* fitted */\n",
              "  background-color: var(--sklearn-color-fitted-level-2);\n",
              "}\n",
              "\n",
              "#sk-container-id-1 div.sk-label label.sk-toggleable__label,\n",
              "#sk-container-id-1 div.sk-label label {\n",
              "  /* The background is the default theme color */\n",
              "  color: var(--sklearn-color-text-on-default-background);\n",
              "}\n",
              "\n",
              "/* On hover, darken the color of the background */\n",
              "#sk-container-id-1 div.sk-label:hover label.sk-toggleable__label {\n",
              "  color: var(--sklearn-color-text);\n",
              "  background-color: var(--sklearn-color-unfitted-level-2);\n",
              "}\n",
              "\n",
              "/* Label box, darken color on hover, fitted */\n",
              "#sk-container-id-1 div.sk-label.fitted:hover label.sk-toggleable__label.fitted {\n",
              "  color: var(--sklearn-color-text);\n",
              "  background-color: var(--sklearn-color-fitted-level-2);\n",
              "}\n",
              "\n",
              "/* Estimator label */\n",
              "\n",
              "#sk-container-id-1 div.sk-label label {\n",
              "  font-family: monospace;\n",
              "  font-weight: bold;\n",
              "  display: inline-block;\n",
              "  line-height: 1.2em;\n",
              "}\n",
              "\n",
              "#sk-container-id-1 div.sk-label-container {\n",
              "  text-align: center;\n",
              "}\n",
              "\n",
              "/* Estimator-specific */\n",
              "#sk-container-id-1 div.sk-estimator {\n",
              "  font-family: monospace;\n",
              "  border: 1px dotted var(--sklearn-color-border-box);\n",
              "  border-radius: 0.25em;\n",
              "  box-sizing: border-box;\n",
              "  margin-bottom: 0.5em;\n",
              "  /* unfitted */\n",
              "  background-color: var(--sklearn-color-unfitted-level-0);\n",
              "}\n",
              "\n",
              "#sk-container-id-1 div.sk-estimator.fitted {\n",
              "  /* fitted */\n",
              "  background-color: var(--sklearn-color-fitted-level-0);\n",
              "}\n",
              "\n",
              "/* on hover */\n",
              "#sk-container-id-1 div.sk-estimator:hover {\n",
              "  /* unfitted */\n",
              "  background-color: var(--sklearn-color-unfitted-level-2);\n",
              "}\n",
              "\n",
              "#sk-container-id-1 div.sk-estimator.fitted:hover {\n",
              "  /* fitted */\n",
              "  background-color: var(--sklearn-color-fitted-level-2);\n",
              "}\n",
              "\n",
              "/* Specification for estimator info (e.g. \"i\" and \"?\") */\n",
              "\n",
              "/* Common style for \"i\" and \"?\" */\n",
              "\n",
              ".sk-estimator-doc-link,\n",
              "a:link.sk-estimator-doc-link,\n",
              "a:visited.sk-estimator-doc-link {\n",
              "  float: right;\n",
              "  font-size: smaller;\n",
              "  line-height: 1em;\n",
              "  font-family: monospace;\n",
              "  background-color: var(--sklearn-color-background);\n",
              "  border-radius: 1em;\n",
              "  height: 1em;\n",
              "  width: 1em;\n",
              "  text-decoration: none !important;\n",
              "  margin-left: 1ex;\n",
              "  /* unfitted */\n",
              "  border: var(--sklearn-color-unfitted-level-1) 1pt solid;\n",
              "  color: var(--sklearn-color-unfitted-level-1);\n",
              "}\n",
              "\n",
              ".sk-estimator-doc-link.fitted,\n",
              "a:link.sk-estimator-doc-link.fitted,\n",
              "a:visited.sk-estimator-doc-link.fitted {\n",
              "  /* fitted */\n",
              "  border: var(--sklearn-color-fitted-level-1) 1pt solid;\n",
              "  color: var(--sklearn-color-fitted-level-1);\n",
              "}\n",
              "\n",
              "/* On hover */\n",
              "div.sk-estimator:hover .sk-estimator-doc-link:hover,\n",
              ".sk-estimator-doc-link:hover,\n",
              "div.sk-label-container:hover .sk-estimator-doc-link:hover,\n",
              ".sk-estimator-doc-link:hover {\n",
              "  /* unfitted */\n",
              "  background-color: var(--sklearn-color-unfitted-level-3);\n",
              "  color: var(--sklearn-color-background);\n",
              "  text-decoration: none;\n",
              "}\n",
              "\n",
              "div.sk-estimator.fitted:hover .sk-estimator-doc-link.fitted:hover,\n",
              ".sk-estimator-doc-link.fitted:hover,\n",
              "div.sk-label-container:hover .sk-estimator-doc-link.fitted:hover,\n",
              ".sk-estimator-doc-link.fitted:hover {\n",
              "  /* fitted */\n",
              "  background-color: var(--sklearn-color-fitted-level-3);\n",
              "  color: var(--sklearn-color-background);\n",
              "  text-decoration: none;\n",
              "}\n",
              "\n",
              "/* Span, style for the box shown on hovering the info icon */\n",
              ".sk-estimator-doc-link span {\n",
              "  display: none;\n",
              "  z-index: 9999;\n",
              "  position: relative;\n",
              "  font-weight: normal;\n",
              "  right: .2ex;\n",
              "  padding: .5ex;\n",
              "  margin: .5ex;\n",
              "  width: min-content;\n",
              "  min-width: 20ex;\n",
              "  max-width: 50ex;\n",
              "  color: var(--sklearn-color-text);\n",
              "  box-shadow: 2pt 2pt 4pt #999;\n",
              "  /* unfitted */\n",
              "  background: var(--sklearn-color-unfitted-level-0);\n",
              "  border: .5pt solid var(--sklearn-color-unfitted-level-3);\n",
              "}\n",
              "\n",
              ".sk-estimator-doc-link.fitted span {\n",
              "  /* fitted */\n",
              "  background: var(--sklearn-color-fitted-level-0);\n",
              "  border: var(--sklearn-color-fitted-level-3);\n",
              "}\n",
              "\n",
              ".sk-estimator-doc-link:hover span {\n",
              "  display: block;\n",
              "}\n",
              "\n",
              "/* \"?\"-specific style due to the `<a>` HTML tag */\n",
              "\n",
              "#sk-container-id-1 a.estimator_doc_link {\n",
              "  float: right;\n",
              "  font-size: 1rem;\n",
              "  line-height: 1em;\n",
              "  font-family: monospace;\n",
              "  background-color: var(--sklearn-color-background);\n",
              "  border-radius: 1rem;\n",
              "  height: 1rem;\n",
              "  width: 1rem;\n",
              "  text-decoration: none;\n",
              "  /* unfitted */\n",
              "  color: var(--sklearn-color-unfitted-level-1);\n",
              "  border: var(--sklearn-color-unfitted-level-1) 1pt solid;\n",
              "}\n",
              "\n",
              "#sk-container-id-1 a.estimator_doc_link.fitted {\n",
              "  /* fitted */\n",
              "  border: var(--sklearn-color-fitted-level-1) 1pt solid;\n",
              "  color: var(--sklearn-color-fitted-level-1);\n",
              "}\n",
              "\n",
              "/* On hover */\n",
              "#sk-container-id-1 a.estimator_doc_link:hover {\n",
              "  /* unfitted */\n",
              "  background-color: var(--sklearn-color-unfitted-level-3);\n",
              "  color: var(--sklearn-color-background);\n",
              "  text-decoration: none;\n",
              "}\n",
              "\n",
              "#sk-container-id-1 a.estimator_doc_link.fitted:hover {\n",
              "  /* fitted */\n",
              "  background-color: var(--sklearn-color-fitted-level-3);\n",
              "}\n",
              "</style><div id=\"sk-container-id-1\" class=\"sk-top-container\"><div class=\"sk-text-repr-fallback\"><pre>Pipeline(steps=[(&#x27;tfidf&#x27;, TfidfVectorizer()),\n",
              "                (&#x27;clf&#x27;,\n",
              "                 LinearSVC(class_weight=&#x27;balanced&#x27;, tol=0.05179474679231213))])</pre><b>In a Jupyter environment, please rerun this cell to show the HTML representation or trust the notebook. <br />On GitHub, the HTML representation is unable to render, please try loading this page with nbviewer.org.</b></div><div class=\"sk-container\" hidden><div class=\"sk-item sk-dashed-wrapped\"><div class=\"sk-label-container\"><div class=\"sk-label fitted sk-toggleable\"><input class=\"sk-toggleable__control sk-hidden--visually\" id=\"sk-estimator-id-1\" type=\"checkbox\" ><label for=\"sk-estimator-id-1\" class=\"sk-toggleable__label fitted sk-toggleable__label-arrow fitted\">&nbsp;&nbsp;Pipeline<a class=\"sk-estimator-doc-link fitted\" rel=\"noreferrer\" target=\"_blank\" href=\"https://scikit-learn.org/1.5/modules/generated/sklearn.pipeline.Pipeline.html\">?<span>Documentation for Pipeline</span></a><span class=\"sk-estimator-doc-link fitted\">i<span>Fitted</span></span></label><div class=\"sk-toggleable__content fitted\"><pre>Pipeline(steps=[(&#x27;tfidf&#x27;, TfidfVectorizer()),\n",
              "                (&#x27;clf&#x27;,\n",
              "                 LinearSVC(class_weight=&#x27;balanced&#x27;, tol=0.05179474679231213))])</pre></div> </div></div><div class=\"sk-serial\"><div class=\"sk-item\"><div class=\"sk-estimator fitted sk-toggleable\"><input class=\"sk-toggleable__control sk-hidden--visually\" id=\"sk-estimator-id-2\" type=\"checkbox\" ><label for=\"sk-estimator-id-2\" class=\"sk-toggleable__label fitted sk-toggleable__label-arrow fitted\">&nbsp;TfidfVectorizer<a class=\"sk-estimator-doc-link fitted\" rel=\"noreferrer\" target=\"_blank\" href=\"https://scikit-learn.org/1.5/modules/generated/sklearn.feature_extraction.text.TfidfVectorizer.html\">?<span>Documentation for TfidfVectorizer</span></a></label><div class=\"sk-toggleable__content fitted\"><pre>TfidfVectorizer()</pre></div> </div></div><div class=\"sk-item\"><div class=\"sk-estimator fitted sk-toggleable\"><input class=\"sk-toggleable__control sk-hidden--visually\" id=\"sk-estimator-id-3\" type=\"checkbox\" ><label for=\"sk-estimator-id-3\" class=\"sk-toggleable__label fitted sk-toggleable__label-arrow fitted\">&nbsp;LinearSVC<a class=\"sk-estimator-doc-link fitted\" rel=\"noreferrer\" target=\"_blank\" href=\"https://scikit-learn.org/1.5/modules/generated/sklearn.svm.LinearSVC.html\">?<span>Documentation for LinearSVC</span></a></label><div class=\"sk-toggleable__content fitted\"><pre>LinearSVC(class_weight=&#x27;balanced&#x27;, tol=0.05179474679231213)</pre></div> </div></div></div></div></div></div>"
            ]
          },
          "metadata": {},
          "execution_count": 21
        }
      ]
    },
    {
      "cell_type": "markdown",
      "source": [
        "### Validation\n",
        "\n",
        "Validate the model using the test set (`X_test`)."
      ],
      "metadata": {
        "id": "0zLJhKRM3wjY"
      }
    },
    {
      "cell_type": "code",
      "source": [
        "metrics_mnb = validate(estimator_MNB, X_test, y_test)\n",
        "metrics_lr  = validate(estimator_LR, X_test, y_test)\n",
        "metrics_svc = validate(estimator_SVC, X_test, y_test)"
      ],
      "metadata": {
        "id": "X9_DX3fd4QpF"
      },
      "execution_count": null,
      "outputs": []
    },
    {
      "cell_type": "markdown",
      "source": [
        "Show the validation results from the model (MNB, LR and SVC)"
      ],
      "metadata": {
        "id": "PsekJLmX5iGt"
      }
    },
    {
      "cell_type": "code",
      "source": [
        "test_results = {\n",
        "  \"Metrics\": [\"Accuracy\", \"F1 macro\", \"F1 micro\"],\n",
        "  \"MNB\": metrics_mnb,\n",
        "  \"LR\": metrics_lr,\n",
        "  \"SVC\": metrics_svc\n",
        "}\n",
        "print(pd.DataFrame(test_results))"
      ],
      "metadata": {
        "colab": {
          "base_uri": "https://localhost:8080/"
        },
        "id": "hSKfg3dp5n8J",
        "outputId": "7c9254a2-80fa-4948-868a-6070f2368946"
      },
      "execution_count": null,
      "outputs": [
        {
          "output_type": "stream",
          "name": "stdout",
          "text": [
            "    Metrics       MNB        LR       SVC\n",
            "0  Accuracy  0.866033  0.866033  0.866033\n",
            "1  F1 macro  0.864246  0.864246  0.864246\n",
            "2  F1 micro  0.866033  0.866033  0.866033\n"
          ]
        }
      ]
    },
    {
      "cell_type": "markdown",
      "source": [
        "## Corpus: Dmoz-Science"
      ],
      "metadata": {
        "id": "eaA632TZfh8A"
      }
    },
    {
      "cell_type": "markdown",
      "source": [
        "### Load texts"
      ],
      "metadata": {
        "id": "NUplNAoofh8B"
      }
    },
    {
      "cell_type": "markdown",
      "source": [
        "Load texts from the dataset file (corpus)"
      ],
      "metadata": {
        "id": "AE3EB1_hfh8B"
      }
    },
    {
      "cell_type": "code",
      "source": [
        "df, X, y = read_dataset(dest_folder + f\"/{file_dmoz}.csv\")"
      ],
      "metadata": {
        "id": "Hk-AikXwfh8B"
      },
      "execution_count": null,
      "outputs": []
    },
    {
      "cell_type": "markdown",
      "source": [
        "Raw dataframe loaded."
      ],
      "metadata": {
        "id": "0a8O440Cfh8B"
      }
    },
    {
      "cell_type": "code",
      "source": [
        "df"
      ],
      "metadata": {
        "id": "C8Mrq2mCfh8B",
        "colab": {
          "base_uri": "https://localhost:8080/"
        },
        "outputId": "ecbbda93-3a95-4974-da9c-fe9ed351afa1"
      },
      "execution_count": null,
      "outputs": [
        {
          "output_type": "execute_result",
          "data": {
            "text/plain": [
              "        file_name                                               text  \\\n",
              "0     2786497.txt  Texas A&amp;M Horticultural Extension - Vegeta...   \n",
              "1     2784741.txt  Algaculture Information from Wikipedia on this...   \n",
              "2     2785016.txt  Annual Canarygrass Factsheet on this grain cro...   \n",
              "3     2786133.txt  Black Sigatoka Photographs and information on ...   \n",
              "4     2786989.txt  Irrigation Training and Research Center Univer...   \n",
              "...           ...                                                ...   \n",
              "5995  2881706.txt  Canmet Energy Technology Center Information ab...   \n",
              "5996  2886909.txt  Utah Space Association Provides information ab...   \n",
              "5997  2887110.txt  Mission 51-L Provides a critical view of the r...   \n",
              "5998  2887157.txt  New York (SEAoNY) News announcements, committe...   \n",
              "5999  2877917.txt  World Airline Historical Society Provides info...   \n",
              "\n",
              "            class  \n",
              "0     Agriculture  \n",
              "1     Agriculture  \n",
              "2     Agriculture  \n",
              "3     Agriculture  \n",
              "4     Agriculture  \n",
              "...           ...  \n",
              "5995   Technology  \n",
              "5996   Technology  \n",
              "5997   Technology  \n",
              "5998   Technology  \n",
              "5999   Technology  \n",
              "\n",
              "[6000 rows x 3 columns]"
            ],
            "text/html": [
              "\n",
              "  <div id=\"df-f92178fb-bb05-429f-a997-7813f1388dfa\" class=\"colab-df-container\">\n",
              "    <div>\n",
              "<style scoped>\n",
              "    .dataframe tbody tr th:only-of-type {\n",
              "        vertical-align: middle;\n",
              "    }\n",
              "\n",
              "    .dataframe tbody tr th {\n",
              "        vertical-align: top;\n",
              "    }\n",
              "\n",
              "    .dataframe thead th {\n",
              "        text-align: right;\n",
              "    }\n",
              "</style>\n",
              "<table border=\"1\" class=\"dataframe\">\n",
              "  <thead>\n",
              "    <tr style=\"text-align: right;\">\n",
              "      <th></th>\n",
              "      <th>file_name</th>\n",
              "      <th>text</th>\n",
              "      <th>class</th>\n",
              "    </tr>\n",
              "  </thead>\n",
              "  <tbody>\n",
              "    <tr>\n",
              "      <th>0</th>\n",
              "      <td>2786497.txt</td>\n",
              "      <td>Texas A&amp;amp;M Horticultural Extension - Vegeta...</td>\n",
              "      <td>Agriculture</td>\n",
              "    </tr>\n",
              "    <tr>\n",
              "      <th>1</th>\n",
              "      <td>2784741.txt</td>\n",
              "      <td>Algaculture Information from Wikipedia on this...</td>\n",
              "      <td>Agriculture</td>\n",
              "    </tr>\n",
              "    <tr>\n",
              "      <th>2</th>\n",
              "      <td>2785016.txt</td>\n",
              "      <td>Annual Canarygrass Factsheet on this grain cro...</td>\n",
              "      <td>Agriculture</td>\n",
              "    </tr>\n",
              "    <tr>\n",
              "      <th>3</th>\n",
              "      <td>2786133.txt</td>\n",
              "      <td>Black Sigatoka Photographs and information on ...</td>\n",
              "      <td>Agriculture</td>\n",
              "    </tr>\n",
              "    <tr>\n",
              "      <th>4</th>\n",
              "      <td>2786989.txt</td>\n",
              "      <td>Irrigation Training and Research Center Univer...</td>\n",
              "      <td>Agriculture</td>\n",
              "    </tr>\n",
              "    <tr>\n",
              "      <th>...</th>\n",
              "      <td>...</td>\n",
              "      <td>...</td>\n",
              "      <td>...</td>\n",
              "    </tr>\n",
              "    <tr>\n",
              "      <th>5995</th>\n",
              "      <td>2881706.txt</td>\n",
              "      <td>Canmet Energy Technology Center Information ab...</td>\n",
              "      <td>Technology</td>\n",
              "    </tr>\n",
              "    <tr>\n",
              "      <th>5996</th>\n",
              "      <td>2886909.txt</td>\n",
              "      <td>Utah Space Association Provides information ab...</td>\n",
              "      <td>Technology</td>\n",
              "    </tr>\n",
              "    <tr>\n",
              "      <th>5997</th>\n",
              "      <td>2887110.txt</td>\n",
              "      <td>Mission 51-L Provides a critical view of the r...</td>\n",
              "      <td>Technology</td>\n",
              "    </tr>\n",
              "    <tr>\n",
              "      <th>5998</th>\n",
              "      <td>2887157.txt</td>\n",
              "      <td>New York (SEAoNY) News announcements, committe...</td>\n",
              "      <td>Technology</td>\n",
              "    </tr>\n",
              "    <tr>\n",
              "      <th>5999</th>\n",
              "      <td>2877917.txt</td>\n",
              "      <td>World Airline Historical Society Provides info...</td>\n",
              "      <td>Technology</td>\n",
              "    </tr>\n",
              "  </tbody>\n",
              "</table>\n",
              "<p>6000 rows × 3 columns</p>\n",
              "</div>\n",
              "    <div class=\"colab-df-buttons\">\n",
              "\n",
              "  <div class=\"colab-df-container\">\n",
              "    <button class=\"colab-df-convert\" onclick=\"convertToInteractive('df-f92178fb-bb05-429f-a997-7813f1388dfa')\"\n",
              "            title=\"Convert this dataframe to an interactive table.\"\n",
              "            style=\"display:none;\">\n",
              "\n",
              "  <svg xmlns=\"http://www.w3.org/2000/svg\" height=\"24px\" viewBox=\"0 -960 960 960\">\n",
              "    <path d=\"M120-120v-720h720v720H120Zm60-500h600v-160H180v160Zm220 220h160v-160H400v160Zm0 220h160v-160H400v160ZM180-400h160v-160H180v160Zm440 0h160v-160H620v160ZM180-180h160v-160H180v160Zm440 0h160v-160H620v160Z\"/>\n",
              "  </svg>\n",
              "    </button>\n",
              "\n",
              "  <style>\n",
              "    .colab-df-container {\n",
              "      display:flex;\n",
              "      gap: 12px;\n",
              "    }\n",
              "\n",
              "    .colab-df-convert {\n",
              "      background-color: #E8F0FE;\n",
              "      border: none;\n",
              "      border-radius: 50%;\n",
              "      cursor: pointer;\n",
              "      display: none;\n",
              "      fill: #1967D2;\n",
              "      height: 32px;\n",
              "      padding: 0 0 0 0;\n",
              "      width: 32px;\n",
              "    }\n",
              "\n",
              "    .colab-df-convert:hover {\n",
              "      background-color: #E2EBFA;\n",
              "      box-shadow: 0px 1px 2px rgba(60, 64, 67, 0.3), 0px 1px 3px 1px rgba(60, 64, 67, 0.15);\n",
              "      fill: #174EA6;\n",
              "    }\n",
              "\n",
              "    .colab-df-buttons div {\n",
              "      margin-bottom: 4px;\n",
              "    }\n",
              "\n",
              "    [theme=dark] .colab-df-convert {\n",
              "      background-color: #3B4455;\n",
              "      fill: #D2E3FC;\n",
              "    }\n",
              "\n",
              "    [theme=dark] .colab-df-convert:hover {\n",
              "      background-color: #434B5C;\n",
              "      box-shadow: 0px 1px 3px 1px rgba(0, 0, 0, 0.15);\n",
              "      filter: drop-shadow(0px 1px 2px rgba(0, 0, 0, 0.3));\n",
              "      fill: #FFFFFF;\n",
              "    }\n",
              "  </style>\n",
              "\n",
              "    <script>\n",
              "      const buttonEl =\n",
              "        document.querySelector('#df-f92178fb-bb05-429f-a997-7813f1388dfa button.colab-df-convert');\n",
              "      buttonEl.style.display =\n",
              "        google.colab.kernel.accessAllowed ? 'block' : 'none';\n",
              "\n",
              "      async function convertToInteractive(key) {\n",
              "        const element = document.querySelector('#df-f92178fb-bb05-429f-a997-7813f1388dfa');\n",
              "        const dataTable =\n",
              "          await google.colab.kernel.invokeFunction('convertToInteractive',\n",
              "                                                    [key], {});\n",
              "        if (!dataTable) return;\n",
              "\n",
              "        const docLinkHtml = 'Like what you see? Visit the ' +\n",
              "          '<a target=\"_blank\" href=https://colab.research.google.com/notebooks/data_table.ipynb>data table notebook</a>'\n",
              "          + ' to learn more about interactive tables.';\n",
              "        element.innerHTML = '';\n",
              "        dataTable['output_type'] = 'display_data';\n",
              "        await google.colab.output.renderOutput(dataTable, element);\n",
              "        const docLink = document.createElement('div');\n",
              "        docLink.innerHTML = docLinkHtml;\n",
              "        element.appendChild(docLink);\n",
              "      }\n",
              "    </script>\n",
              "  </div>\n",
              "\n",
              "\n",
              "<div id=\"df-bdd074a0-0059-47c3-a092-b5678b7f3a7f\">\n",
              "  <button class=\"colab-df-quickchart\" onclick=\"quickchart('df-bdd074a0-0059-47c3-a092-b5678b7f3a7f')\"\n",
              "            title=\"Suggest charts\"\n",
              "            style=\"display:none;\">\n",
              "\n",
              "<svg xmlns=\"http://www.w3.org/2000/svg\" height=\"24px\"viewBox=\"0 0 24 24\"\n",
              "     width=\"24px\">\n",
              "    <g>\n",
              "        <path d=\"M19 3H5c-1.1 0-2 .9-2 2v14c0 1.1.9 2 2 2h14c1.1 0 2-.9 2-2V5c0-1.1-.9-2-2-2zM9 17H7v-7h2v7zm4 0h-2V7h2v10zm4 0h-2v-4h2v4z\"/>\n",
              "    </g>\n",
              "</svg>\n",
              "  </button>\n",
              "\n",
              "<style>\n",
              "  .colab-df-quickchart {\n",
              "      --bg-color: #E8F0FE;\n",
              "      --fill-color: #1967D2;\n",
              "      --hover-bg-color: #E2EBFA;\n",
              "      --hover-fill-color: #174EA6;\n",
              "      --disabled-fill-color: #AAA;\n",
              "      --disabled-bg-color: #DDD;\n",
              "  }\n",
              "\n",
              "  [theme=dark] .colab-df-quickchart {\n",
              "      --bg-color: #3B4455;\n",
              "      --fill-color: #D2E3FC;\n",
              "      --hover-bg-color: #434B5C;\n",
              "      --hover-fill-color: #FFFFFF;\n",
              "      --disabled-bg-color: #3B4455;\n",
              "      --disabled-fill-color: #666;\n",
              "  }\n",
              "\n",
              "  .colab-df-quickchart {\n",
              "    background-color: var(--bg-color);\n",
              "    border: none;\n",
              "    border-radius: 50%;\n",
              "    cursor: pointer;\n",
              "    display: none;\n",
              "    fill: var(--fill-color);\n",
              "    height: 32px;\n",
              "    padding: 0;\n",
              "    width: 32px;\n",
              "  }\n",
              "\n",
              "  .colab-df-quickchart:hover {\n",
              "    background-color: var(--hover-bg-color);\n",
              "    box-shadow: 0 1px 2px rgba(60, 64, 67, 0.3), 0 1px 3px 1px rgba(60, 64, 67, 0.15);\n",
              "    fill: var(--button-hover-fill-color);\n",
              "  }\n",
              "\n",
              "  .colab-df-quickchart-complete:disabled,\n",
              "  .colab-df-quickchart-complete:disabled:hover {\n",
              "    background-color: var(--disabled-bg-color);\n",
              "    fill: var(--disabled-fill-color);\n",
              "    box-shadow: none;\n",
              "  }\n",
              "\n",
              "  .colab-df-spinner {\n",
              "    border: 2px solid var(--fill-color);\n",
              "    border-color: transparent;\n",
              "    border-bottom-color: var(--fill-color);\n",
              "    animation:\n",
              "      spin 1s steps(1) infinite;\n",
              "  }\n",
              "\n",
              "  @keyframes spin {\n",
              "    0% {\n",
              "      border-color: transparent;\n",
              "      border-bottom-color: var(--fill-color);\n",
              "      border-left-color: var(--fill-color);\n",
              "    }\n",
              "    20% {\n",
              "      border-color: transparent;\n",
              "      border-left-color: var(--fill-color);\n",
              "      border-top-color: var(--fill-color);\n",
              "    }\n",
              "    30% {\n",
              "      border-color: transparent;\n",
              "      border-left-color: var(--fill-color);\n",
              "      border-top-color: var(--fill-color);\n",
              "      border-right-color: var(--fill-color);\n",
              "    }\n",
              "    40% {\n",
              "      border-color: transparent;\n",
              "      border-right-color: var(--fill-color);\n",
              "      border-top-color: var(--fill-color);\n",
              "    }\n",
              "    60% {\n",
              "      border-color: transparent;\n",
              "      border-right-color: var(--fill-color);\n",
              "    }\n",
              "    80% {\n",
              "      border-color: transparent;\n",
              "      border-right-color: var(--fill-color);\n",
              "      border-bottom-color: var(--fill-color);\n",
              "    }\n",
              "    90% {\n",
              "      border-color: transparent;\n",
              "      border-bottom-color: var(--fill-color);\n",
              "    }\n",
              "  }\n",
              "</style>\n",
              "\n",
              "  <script>\n",
              "    async function quickchart(key) {\n",
              "      const quickchartButtonEl =\n",
              "        document.querySelector('#' + key + ' button');\n",
              "      quickchartButtonEl.disabled = true;  // To prevent multiple clicks.\n",
              "      quickchartButtonEl.classList.add('colab-df-spinner');\n",
              "      try {\n",
              "        const charts = await google.colab.kernel.invokeFunction(\n",
              "            'suggestCharts', [key], {});\n",
              "      } catch (error) {\n",
              "        console.error('Error during call to suggestCharts:', error);\n",
              "      }\n",
              "      quickchartButtonEl.classList.remove('colab-df-spinner');\n",
              "      quickchartButtonEl.classList.add('colab-df-quickchart-complete');\n",
              "    }\n",
              "    (() => {\n",
              "      let quickchartButtonEl =\n",
              "        document.querySelector('#df-bdd074a0-0059-47c3-a092-b5678b7f3a7f button');\n",
              "      quickchartButtonEl.style.display =\n",
              "        google.colab.kernel.accessAllowed ? 'block' : 'none';\n",
              "    })();\n",
              "  </script>\n",
              "</div>\n",
              "\n",
              "  <div id=\"id_73bc8beb-66fb-4eb8-9e31-18ed6f5c6059\">\n",
              "    <style>\n",
              "      .colab-df-generate {\n",
              "        background-color: #E8F0FE;\n",
              "        border: none;\n",
              "        border-radius: 50%;\n",
              "        cursor: pointer;\n",
              "        display: none;\n",
              "        fill: #1967D2;\n",
              "        height: 32px;\n",
              "        padding: 0 0 0 0;\n",
              "        width: 32px;\n",
              "      }\n",
              "\n",
              "      .colab-df-generate:hover {\n",
              "        background-color: #E2EBFA;\n",
              "        box-shadow: 0px 1px 2px rgba(60, 64, 67, 0.3), 0px 1px 3px 1px rgba(60, 64, 67, 0.15);\n",
              "        fill: #174EA6;\n",
              "      }\n",
              "\n",
              "      [theme=dark] .colab-df-generate {\n",
              "        background-color: #3B4455;\n",
              "        fill: #D2E3FC;\n",
              "      }\n",
              "\n",
              "      [theme=dark] .colab-df-generate:hover {\n",
              "        background-color: #434B5C;\n",
              "        box-shadow: 0px 1px 3px 1px rgba(0, 0, 0, 0.15);\n",
              "        filter: drop-shadow(0px 1px 2px rgba(0, 0, 0, 0.3));\n",
              "        fill: #FFFFFF;\n",
              "      }\n",
              "    </style>\n",
              "    <button class=\"colab-df-generate\" onclick=\"generateWithVariable('df')\"\n",
              "            title=\"Generate code using this dataframe.\"\n",
              "            style=\"display:none;\">\n",
              "\n",
              "  <svg xmlns=\"http://www.w3.org/2000/svg\" height=\"24px\"viewBox=\"0 0 24 24\"\n",
              "       width=\"24px\">\n",
              "    <path d=\"M7,19H8.4L18.45,9,17,7.55,7,17.6ZM5,21V16.75L18.45,3.32a2,2,0,0,1,2.83,0l1.4,1.43a1.91,1.91,0,0,1,.58,1.4,1.91,1.91,0,0,1-.58,1.4L9.25,21ZM18.45,9,17,7.55Zm-12,3A5.31,5.31,0,0,0,4.9,8.1,5.31,5.31,0,0,0,1,6.5,5.31,5.31,0,0,0,4.9,4.9,5.31,5.31,0,0,0,6.5,1,5.31,5.31,0,0,0,8.1,4.9,5.31,5.31,0,0,0,12,6.5,5.46,5.46,0,0,0,6.5,12Z\"/>\n",
              "  </svg>\n",
              "    </button>\n",
              "    <script>\n",
              "      (() => {\n",
              "      const buttonEl =\n",
              "        document.querySelector('#id_73bc8beb-66fb-4eb8-9e31-18ed6f5c6059 button.colab-df-generate');\n",
              "      buttonEl.style.display =\n",
              "        google.colab.kernel.accessAllowed ? 'block' : 'none';\n",
              "\n",
              "      buttonEl.onclick = () => {\n",
              "        google.colab.notebook.generateWithVariable('df');\n",
              "      }\n",
              "      })();\n",
              "    </script>\n",
              "  </div>\n",
              "\n",
              "    </div>\n",
              "  </div>\n"
            ],
            "application/vnd.google.colaboratory.intrinsic+json": {
              "type": "dataframe",
              "variable_name": "df",
              "summary": "{\n  \"name\": \"df\",\n  \"rows\": 6000,\n  \"fields\": [\n    {\n      \"column\": \"file_name\",\n      \"properties\": {\n        \"dtype\": \"string\",\n        \"num_unique_values\": 6000,\n        \"samples\": [\n          \"2823064.txt\",\n          \"2850707.txt\",\n          \"2784805.txt\"\n        ],\n        \"semantic_type\": \"\",\n        \"description\": \"\"\n      }\n    },\n    {\n      \"column\": \"text\",\n      \"properties\": {\n        \"dtype\": \"string\",\n        \"num_unique_values\": 5998,\n        \"samples\": [\n          \"Forest History Society Contains membership information, links to research and publications, quarterly journal, oral histories, conferences and general information about the society. \",\n          \"McGill University: Atmospheric and Oceanic Sciences Graduate and undergraduate programs. Research, facilities and seminars. \",\n          \"BPI Laboratories Inc. Specializes in signature comparison, threatening letters, harassment notes, and check forgery. \"\n        ],\n        \"semantic_type\": \"\",\n        \"description\": \"\"\n      }\n    },\n    {\n      \"column\": \"class\",\n      \"properties\": {\n        \"dtype\": \"category\",\n        \"num_unique_values\": 12,\n        \"samples\": [\n          \"Social\",\n          \"Science\",\n          \"Agriculture\"\n        ],\n        \"semantic_type\": \"\",\n        \"description\": \"\"\n      }\n    }\n  ]\n}"
            }
          },
          "metadata": {},
          "execution_count": 25
        }
      ]
    },
    {
      "cell_type": "markdown",
      "source": [
        "Count the amount of each class."
      ],
      "metadata": {
        "id": "QLFznaEUfh8C"
      }
    },
    {
      "cell_type": "code",
      "source": [
        "print(df[\"class\"].value_counts())"
      ],
      "metadata": {
        "id": "DniSGf6Bfh8C",
        "colab": {
          "base_uri": "https://localhost:8080/"
        },
        "outputId": "54f2086a-e8b9-48b5-e9a3-cb9ab9806260"
      },
      "execution_count": null,
      "outputs": [
        {
          "output_type": "stream",
          "name": "stdout",
          "text": [
            "class\n",
            "Agriculture    500\n",
            "Astronomy      500\n",
            "Biology        500\n",
            "Chemistry      500\n",
            "Earth          500\n",
            "Environment    500\n",
            "Instruments    500\n",
            "Math           500\n",
            "Physics        500\n",
            "Science        500\n",
            "Social         500\n",
            "Technology     500\n",
            "Name: count, dtype: int64\n"
          ]
        }
      ]
    },
    {
      "cell_type": "markdown",
      "source": [
        "### Data split"
      ],
      "metadata": {
        "id": "QkdJVtyTfh8C"
      }
    },
    {
      "cell_type": "markdown",
      "source": [
        "Split the corpus into training data and test data."
      ],
      "metadata": {
        "id": "TC-WvEZnfh8D"
      }
    },
    {
      "cell_type": "code",
      "source": [
        "X_train, X_test, y_train, y_test = train_test_split(X, y, stratify=y, test_size=0.2, random_state=1979)"
      ],
      "metadata": {
        "id": "6BfzGel6fh8D"
      },
      "execution_count": null,
      "outputs": []
    },
    {
      "cell_type": "code",
      "source": [
        "# Show the final size of each set.\n",
        "print(f\"len(X_train): {len(X_train)}\")\n",
        "print(f\"len(X_test): {len(X_test)}\")"
      ],
      "metadata": {
        "id": "lIi0mCK8fh8D",
        "colab": {
          "base_uri": "https://localhost:8080/"
        },
        "outputId": "e3360cd6-38c6-4c74-9e4e-bd245156bee2"
      },
      "execution_count": null,
      "outputs": [
        {
          "output_type": "stream",
          "name": "stdout",
          "text": [
            "len(X_train): 4800\n",
            "len(X_test): 1200\n"
          ]
        }
      ]
    },
    {
      "cell_type": "markdown",
      "source": [
        "### Pipelines\n",
        "\n",
        "Create pipelines using TF-IDF to create training attribute and add the model."
      ],
      "metadata": {
        "id": "4hdvXwSnfh8D"
      }
    },
    {
      "cell_type": "code",
      "source": [
        "pipeMNB = Pipeline([(\"tfidf\", TfidfVectorizer()), (\"clf\", MultinomialNB())])\n",
        "pipeLR  = Pipeline([(\"tfidf\", TfidfVectorizer()), (\"clf\", LogisticRegression(random_state=1979))])\n",
        "pipeSVC = Pipeline([(\"tfidf\", TfidfVectorizer()), (\"clf\", LinearSVC())])"
      ],
      "metadata": {
        "id": "fP-TuBwAfh8D"
      },
      "execution_count": null,
      "outputs": []
    },
    {
      "cell_type": "markdown",
      "source": [
        "### GridSearch\n",
        "\n",
        "For fine tuning we used a pipeline with TF-IDF and three different models (Multinomial Naive Bayes, Logistic Regression and Support Vector Machine). We perform hyperparameter tuning using <code>GridSearchCV</code> with 3-fold cross-validation (<code>cv</code>) and \"f1_macro\" as the strategy to evaluate the performance of the cross-validated model on the test set (<code>scoring</code>)."
      ],
      "metadata": {
        "id": "reOJnBjRfh8E"
      }
    },
    {
      "cell_type": "markdown",
      "source": [
        "Get params for fine tuning of the models."
      ],
      "metadata": {
        "id": "VYWZoMuofh8E"
      }
    },
    {
      "cell_type": "code",
      "source": [
        "paramMNB = get_multinomial_naive_bayes_params(\"clf\")\n",
        "paramLR = get_logistic_regression_params(\"clf\")\n",
        "paramSVC = get_support_vector_params(\"clf\")"
      ],
      "metadata": {
        "id": "6hQXt_Bsfh8E"
      },
      "execution_count": null,
      "outputs": []
    },
    {
      "cell_type": "markdown",
      "source": [
        "#### Multinomial Naive Bayes"
      ],
      "metadata": {
        "id": "jmosfNRVHTY9"
      }
    },
    {
      "cell_type": "markdown",
      "source": [
        "Grid Search fit and tuning to find the best parameters."
      ],
      "metadata": {
        "id": "lbKbWJDvHTY-"
      }
    },
    {
      "cell_type": "code",
      "source": [
        "grid_search_MNB = fit_tuning(X_train, y_train, pipeMNB, paramMNB)"
      ],
      "metadata": {
        "id": "zMAQC_4CHTY_"
      },
      "execution_count": null,
      "outputs": []
    },
    {
      "cell_type": "markdown",
      "source": [
        "Show best training scores and params."
      ],
      "metadata": {
        "id": "TY-K6QM4HTZA"
      }
    },
    {
      "cell_type": "code",
      "source": [
        "show_score_params(grid_search_MNB)"
      ],
      "metadata": {
        "id": "Jl6ufXbtHTZB",
        "colab": {
          "base_uri": "https://localhost:8080/"
        },
        "outputId": "08c38a84-7156-4377-f785-96a3aa8fa67d"
      },
      "execution_count": null,
      "outputs": [
        {
          "output_type": "stream",
          "name": "stdout",
          "text": [
            "\n",
            "SVC best params:\n",
            "  Best Score: 0.7088756661352962\n",
            "  Best Params: {'clf__alpha': 0.4111111111111111, 'clf__fit_prior': False, 'clf__force_alpha': True}\n"
          ]
        }
      ]
    },
    {
      "cell_type": "markdown",
      "source": [
        "Saving result into file"
      ],
      "metadata": {
        "id": "TihVu5tzHTZB"
      }
    },
    {
      "cell_type": "code",
      "source": [
        "results_to_csv(grid_search_MNB, file_dmoz + \"-mnb-results.csv\")"
      ],
      "metadata": {
        "collapsed": true,
        "id": "G11JNIBrHTZC",
        "colab": {
          "base_uri": "https://localhost:8080/"
        },
        "outputId": "d3d7f96b-689a-4dfc-a00a-c843ed3c1af9"
      },
      "execution_count": null,
      "outputs": [
        {
          "output_type": "stream",
          "name": "stdout",
          "text": [
            "\n",
            "CV Results: False\n",
            "    mean_fit_time  std_fit_time  mean_score_time  std_score_time  \\\n",
            "10       0.111189      0.003292         0.047309        0.001976   \n",
            "11       0.113910      0.001920         0.047001        0.001797   \n",
            "8        0.113638      0.001934         0.046400        0.000887   \n",
            "9        0.111097      0.003127         0.046737        0.002084   \n",
            "6        0.109482      0.001287         0.046898        0.001778   \n",
            "7        0.123145      0.008278         0.047194        0.001657   \n",
            "4        0.119497      0.002908         0.048004        0.000791   \n",
            "5        0.117915      0.003181         0.047278        0.000883   \n",
            "12       0.190500      0.004484         0.079672        0.001043   \n",
            "13       0.194794      0.011436         0.077720        0.004943   \n",
            "14       0.200258      0.009346         0.080941        0.003115   \n",
            "15       0.233364      0.011681         0.091323        0.006596   \n",
            "16       0.152860      0.045082         0.056757        0.016555   \n",
            "17       0.118606      0.006722         0.045848        0.001083   \n",
            "19       0.119189      0.006816         0.047388        0.001349   \n",
            "18       0.112280      0.003635         0.047430        0.001492   \n",
            "0        0.148761      0.010173         0.067164        0.003809   \n",
            "1        0.131998      0.013024         0.047330        0.001651   \n",
            "3        0.119550      0.006880         0.047709        0.002985   \n",
            "2        0.124283      0.008857         0.052188        0.001676   \n",
            "21       0.115870      0.003990         0.047160        0.002023   \n",
            "20       0.114223      0.004130         0.047064        0.000250   \n",
            "22       0.112331      0.003668         0.047300        0.001404   \n",
            "23       0.116299      0.004076         0.051945        0.008457   \n",
            "26       0.112231      0.007159         0.048977        0.000868   \n",
            "27       0.123000      0.007263         0.054434        0.004491   \n",
            "24       0.114949      0.007369         0.047850        0.000184   \n",
            "25       0.115115      0.005344         0.046320        0.001233   \n",
            "28       0.124072      0.009034         0.050031        0.003504   \n",
            "29       0.124607      0.003185         0.047274        0.001727   \n",
            "31       0.120887      0.006416         0.049691        0.003931   \n",
            "30       0.123576      0.004401         0.052696        0.002107   \n",
            "32       0.116623      0.003819         0.047908        0.002173   \n",
            "33       0.117363      0.003296         0.051275        0.004337   \n",
            "34       0.118761      0.004113         0.047899        0.001563   \n",
            "35       0.120209      0.008448         0.052120        0.001382   \n",
            "36       0.178189      0.016807         0.076530        0.001006   \n",
            "37       0.196914      0.007583         0.078107        0.001380   \n",
            "38       0.201549      0.002041         0.079711        0.001022   \n",
            "39       0.195026      0.010892         0.075076        0.021712   \n",
            "\n",
            "    param_clf__alpha  param_clf__fit_prior  param_clf__force_alpha  \\\n",
            "10          0.411111                 False                    True   \n",
            "11          0.411111                 False                   False   \n",
            "8           0.411111                  True                    True   \n",
            "9           0.411111                  True                   False   \n",
            "6           0.255556                 False                    True   \n",
            "7           0.255556                 False                   False   \n",
            "4           0.255556                  True                    True   \n",
            "5           0.255556                  True                   False   \n",
            "12          0.566667                  True                    True   \n",
            "13          0.566667                  True                   False   \n",
            "14          0.566667                 False                    True   \n",
            "15          0.566667                 False                   False   \n",
            "16          0.722222                  True                    True   \n",
            "17          0.722222                  True                   False   \n",
            "19          0.722222                 False                   False   \n",
            "18          0.722222                 False                    True   \n",
            "0           0.100000                  True                    True   \n",
            "1           0.100000                  True                   False   \n",
            "3           0.100000                 False                   False   \n",
            "2           0.100000                 False                    True   \n",
            "21          0.877778                  True                   False   \n",
            "20          0.877778                  True                    True   \n",
            "22          0.877778                 False                    True   \n",
            "23          0.877778                 False                   False   \n",
            "26          1.033333                 False                    True   \n",
            "27          1.033333                 False                   False   \n",
            "24          1.033333                  True                    True   \n",
            "25          1.033333                  True                   False   \n",
            "28          1.188889                  True                    True   \n",
            "29          1.188889                  True                   False   \n",
            "31          1.188889                 False                   False   \n",
            "30          1.188889                 False                    True   \n",
            "32          1.344444                  True                    True   \n",
            "33          1.344444                  True                   False   \n",
            "34          1.344444                 False                    True   \n",
            "35          1.344444                 False                   False   \n",
            "36          1.500000                  True                    True   \n",
            "37          1.500000                  True                   False   \n",
            "38          1.500000                 False                    True   \n",
            "39          1.500000                 False                   False   \n",
            "\n",
            "                                               params  split0_test_score  \\\n",
            "10  {'clf__alpha': 0.4111111111111111, 'clf__fit_p...           0.716929   \n",
            "11  {'clf__alpha': 0.4111111111111111, 'clf__fit_p...           0.716929   \n",
            "8   {'clf__alpha': 0.4111111111111111, 'clf__fit_p...           0.716941   \n",
            "9   {'clf__alpha': 0.4111111111111111, 'clf__fit_p...           0.716941   \n",
            "6   {'clf__alpha': 0.25555555555555554, 'clf__fit_...           0.715411   \n",
            "7   {'clf__alpha': 0.25555555555555554, 'clf__fit_...           0.715411   \n",
            "4   {'clf__alpha': 0.25555555555555554, 'clf__fit_...           0.715411   \n",
            "5   {'clf__alpha': 0.25555555555555554, 'clf__fit_...           0.715411   \n",
            "12  {'clf__alpha': 0.5666666666666667, 'clf__fit_p...           0.711030   \n",
            "13  {'clf__alpha': 0.5666666666666667, 'clf__fit_p...           0.711030   \n",
            "14  {'clf__alpha': 0.5666666666666667, 'clf__fit_p...           0.710998   \n",
            "15  {'clf__alpha': 0.5666666666666667, 'clf__fit_p...           0.710998   \n",
            "16  {'clf__alpha': 0.7222222222222222, 'clf__fit_p...           0.710049   \n",
            "17  {'clf__alpha': 0.7222222222222222, 'clf__fit_p...           0.710049   \n",
            "19  {'clf__alpha': 0.7222222222222222, 'clf__fit_p...           0.710049   \n",
            "18  {'clf__alpha': 0.7222222222222222, 'clf__fit_p...           0.710049   \n",
            "0   {'clf__alpha': 0.1, 'clf__fit_prior': True, 'c...           0.718837   \n",
            "1   {'clf__alpha': 0.1, 'clf__fit_prior': True, 'c...           0.718837   \n",
            "3   {'clf__alpha': 0.1, 'clf__fit_prior': False, '...           0.718818   \n",
            "2   {'clf__alpha': 0.1, 'clf__fit_prior': False, '...           0.718818   \n",
            "21  {'clf__alpha': 0.8777777777777778, 'clf__fit_p...           0.705551   \n",
            "20  {'clf__alpha': 0.8777777777777778, 'clf__fit_p...           0.705551   \n",
            "22  {'clf__alpha': 0.8777777777777778, 'clf__fit_p...           0.704848   \n",
            "23  {'clf__alpha': 0.8777777777777778, 'clf__fit_p...           0.704848   \n",
            "26  {'clf__alpha': 1.0333333333333334, 'clf__fit_p...           0.702820   \n",
            "27  {'clf__alpha': 1.0333333333333334, 'clf__fit_p...           0.702820   \n",
            "24  {'clf__alpha': 1.0333333333333334, 'clf__fit_p...           0.702821   \n",
            "25  {'clf__alpha': 1.0333333333333334, 'clf__fit_p...           0.702821   \n",
            "28  {'clf__alpha': 1.188888888888889, 'clf__fit_pr...           0.702719   \n",
            "29  {'clf__alpha': 1.188888888888889, 'clf__fit_pr...           0.702719   \n",
            "31  {'clf__alpha': 1.188888888888889, 'clf__fit_pr...           0.702719   \n",
            "30  {'clf__alpha': 1.188888888888889, 'clf__fit_pr...           0.702719   \n",
            "32  {'clf__alpha': 1.3444444444444446, 'clf__fit_p...           0.699080   \n",
            "33  {'clf__alpha': 1.3444444444444446, 'clf__fit_p...           0.699080   \n",
            "34  {'clf__alpha': 1.3444444444444446, 'clf__fit_p...           0.699080   \n",
            "35  {'clf__alpha': 1.3444444444444446, 'clf__fit_p...           0.699080   \n",
            "36  {'clf__alpha': 1.5, 'clf__fit_prior': True, 'c...           0.697941   \n",
            "37  {'clf__alpha': 1.5, 'clf__fit_prior': True, 'c...           0.697941   \n",
            "38  {'clf__alpha': 1.5, 'clf__fit_prior': False, '...           0.697138   \n",
            "39  {'clf__alpha': 1.5, 'clf__fit_prior': False, '...           0.697138   \n",
            "\n",
            "    split1_test_score  split2_test_score  mean_test_score  std_test_score  \\\n",
            "10           0.703060           0.706638         0.708876        0.005879   \n",
            "11           0.703060           0.706638         0.708876        0.005879   \n",
            "8            0.702437           0.706638         0.708672        0.006093   \n",
            "9            0.702437           0.706638         0.708672        0.006093   \n",
            "6            0.704458           0.700324         0.706731        0.006365   \n",
            "7            0.704458           0.700324         0.706731        0.006365   \n",
            "4            0.703750           0.700324         0.706495        0.006458   \n",
            "5            0.703750           0.700324         0.706495        0.006458   \n",
            "12           0.698221           0.708916         0.706056        0.005607   \n",
            "13           0.698221           0.708916         0.706056        0.005607   \n",
            "14           0.698269           0.708314         0.705860        0.005478   \n",
            "15           0.698269           0.708314         0.705860        0.005478   \n",
            "16           0.696381           0.706885         0.704438        0.005842   \n",
            "17           0.696381           0.706885         0.704438        0.005842   \n",
            "19           0.696388           0.706238         0.704225        0.005756   \n",
            "18           0.696388           0.706238         0.704225        0.005756   \n",
            "0            0.694804           0.694907         0.702849        0.011305   \n",
            "1            0.694804           0.694907         0.702849        0.011305   \n",
            "3            0.694118           0.694940         0.702625        0.011455   \n",
            "2            0.694118           0.694940         0.702625        0.011455   \n",
            "21           0.694374           0.704840         0.701588        0.005110   \n",
            "20           0.694374           0.704840         0.701588        0.005110   \n",
            "22           0.694988           0.704810         0.701549        0.004639   \n",
            "23           0.694988           0.704810         0.701549        0.004639   \n",
            "26           0.690486           0.706645         0.699983        0.006895   \n",
            "27           0.690486           0.706645         0.699983        0.006895   \n",
            "24           0.691343           0.705496         0.699887        0.006139   \n",
            "25           0.691343           0.705496         0.699887        0.006139   \n",
            "28           0.688204           0.703863         0.698262        0.007127   \n",
            "29           0.688204           0.703863         0.698262        0.007127   \n",
            "31           0.688072           0.703331         0.698041        0.007053   \n",
            "30           0.688072           0.703331         0.698041        0.007053   \n",
            "32           0.682815           0.700636         0.694177        0.008059   \n",
            "33           0.682815           0.700636         0.694177        0.008059   \n",
            "34           0.682136           0.700488         0.693901        0.008339   \n",
            "35           0.682136           0.700488         0.693901        0.008339   \n",
            "36           0.678133           0.698881         0.691652        0.009567   \n",
            "37           0.678133           0.698881         0.691652        0.009567   \n",
            "38           0.678726           0.698271         0.691378        0.008959   \n",
            "39           0.678726           0.698271         0.691378        0.008959   \n",
            "\n",
            "    rank_test_score  \n",
            "10                1  \n",
            "11                1  \n",
            "8                 3  \n",
            "9                 3  \n",
            "6                 5  \n",
            "7                 5  \n",
            "4                 7  \n",
            "5                 7  \n",
            "12                9  \n",
            "13                9  \n",
            "14               11  \n",
            "15               11  \n",
            "16               13  \n",
            "17               13  \n",
            "19               15  \n",
            "18               15  \n",
            "0                17  \n",
            "1                17  \n",
            "3                19  \n",
            "2                19  \n",
            "21               21  \n",
            "20               21  \n",
            "22               23  \n",
            "23               23  \n",
            "26               25  \n",
            "27               25  \n",
            "24               27  \n",
            "25               27  \n",
            "28               29  \n",
            "29               29  \n",
            "31               31  \n",
            "30               31  \n",
            "32               33  \n",
            "33               33  \n",
            "34               35  \n",
            "35               35  \n",
            "36               37  \n",
            "37               37  \n",
            "38               39  \n",
            "39               39   False\n"
          ]
        }
      ]
    },
    {
      "cell_type": "markdown",
      "source": [
        "#### Logistic Regression"
      ],
      "metadata": {
        "id": "OQrMhlMTHTZE"
      }
    },
    {
      "cell_type": "markdown",
      "source": [
        "Grid Search fit and tuning to find the best parameters."
      ],
      "metadata": {
        "id": "ADgFjyh_HTZF"
      }
    },
    {
      "cell_type": "code",
      "source": [
        "grid_search_LR = fit_tuning(X_train, y_train, pipeLR, paramLR)"
      ],
      "metadata": {
        "id": "CtB4ICNUHTZF"
      },
      "execution_count": null,
      "outputs": []
    },
    {
      "cell_type": "markdown",
      "source": [
        "Show best training scores and params."
      ],
      "metadata": {
        "id": "mvqrPoMWHTZG"
      }
    },
    {
      "cell_type": "code",
      "source": [
        "show_score_params(grid_search_LR)"
      ],
      "metadata": {
        "id": "fen8WExYHTZG",
        "colab": {
          "base_uri": "https://localhost:8080/"
        },
        "outputId": "059bea8e-1d71-4327-8b48-e443c1b9fc28"
      },
      "execution_count": null,
      "outputs": [
        {
          "output_type": "stream",
          "name": "stdout",
          "text": [
            "\n",
            "SVC best params:\n",
            "  Best Score: 0.7254091882083982\n",
            "  Best Params: {'clf__C': 5.994842503189409, 'clf__class_weight': 'balanced', 'clf__max_iter': 100, 'clf__solver': 'liblinear'}\n"
          ]
        }
      ]
    },
    {
      "cell_type": "markdown",
      "source": [
        "Saving result into file"
      ],
      "metadata": {
        "id": "GHbPoJw-HTZH"
      }
    },
    {
      "cell_type": "code",
      "source": [
        "results_to_csv(grid_search_LR, file_dmoz + \"-lr-results.csv\")"
      ],
      "metadata": {
        "collapsed": true,
        "id": "eJgeCm8FHTZH",
        "colab": {
          "base_uri": "https://localhost:8080/"
        },
        "outputId": "ff858bdc-265a-4336-b2bc-7c86711cd6aa"
      },
      "execution_count": 45,
      "outputs": [
        {
          "output_type": "stream",
          "name": "stdout",
          "text": [
            "\n",
            "CV Results: False\n",
            "    mean_fit_time  std_fit_time  mean_score_time  std_score_time  \\\n",
            "54       0.326577      0.011490         0.092989        0.010204   \n",
            "58       0.467232      0.204499         0.107048        0.024515   \n",
            "56       1.261659      0.347720         0.115120        0.026260   \n",
            "48       0.388791      0.059007         0.098051        0.016780   \n",
            "50       0.332911      0.012281         0.087066        0.002386   \n",
            "..            ...           ...              ...             ...   \n",
            "15       0.338235      0.090081         0.113577        0.014951   \n",
            "17       0.339171      0.119893         0.120440        0.003903   \n",
            "5        0.420528      0.050461         0.130144        0.004551   \n",
            "3        0.303910      0.070405         0.124891        0.020166   \n",
            "1        0.331601      0.083577         0.135417        0.005794   \n",
            "\n",
            "    param_clf__C param_clf__class_weight  param_clf__max_iter  \\\n",
            "54      5.994843                balanced                  100   \n",
            "58      5.994843                balanced                  500   \n",
            "56      5.994843                balanced                  200   \n",
            "48      5.994843                    None                  100   \n",
            "50      5.994843                    None                  200   \n",
            "..           ...                     ...                  ...   \n",
            "15      0.000278                    None                  200   \n",
            "17      0.000278                    None                  500   \n",
            "5       0.000010                    None                  500   \n",
            "3       0.000010                    None                  200   \n",
            "1       0.000010                    None                  100   \n",
            "\n",
            "   param_clf__solver                                             params  \\\n",
            "54         liblinear  {'clf__C': 5.994842503189409, 'clf__class_weig...   \n",
            "58         liblinear  {'clf__C': 5.994842503189409, 'clf__class_weig...   \n",
            "56         liblinear  {'clf__C': 5.994842503189409, 'clf__class_weig...   \n",
            "48         liblinear  {'clf__C': 5.994842503189409, 'clf__class_weig...   \n",
            "50         liblinear  {'clf__C': 5.994842503189409, 'clf__class_weig...   \n",
            "..               ...                                                ...   \n",
            "15             lbfgs  {'clf__C': 0.0002782559402207126, 'clf__class_...   \n",
            "17             lbfgs  {'clf__C': 0.0002782559402207126, 'clf__class_...   \n",
            "5              lbfgs  {'clf__C': 1e-05, 'clf__class_weight': None, '...   \n",
            "3              lbfgs  {'clf__C': 1e-05, 'clf__class_weight': None, '...   \n",
            "1              lbfgs  {'clf__C': 1e-05, 'clf__class_weight': None, '...   \n",
            "\n",
            "    split0_test_score  split1_test_score  split2_test_score  mean_test_score  \\\n",
            "54           0.739989           0.710105           0.726134         0.725409   \n",
            "58           0.739989           0.710105           0.726134         0.725409   \n",
            "56           0.739989           0.710105           0.726134         0.725409   \n",
            "48           0.739989           0.709486           0.726134         0.725203   \n",
            "50           0.739989           0.709486           0.726134         0.725203   \n",
            "..                ...                ...                ...              ...   \n",
            "15           0.357852           0.369180           0.360132         0.362388   \n",
            "17           0.357852           0.369180           0.360132         0.362388   \n",
            "5            0.347204           0.361747           0.363962         0.357638   \n",
            "3            0.347204           0.361747           0.363962         0.357638   \n",
            "1            0.347204           0.361747           0.363962         0.357638   \n",
            "\n",
            "    std_test_score  rank_test_score  \n",
            "54        0.012211                1  \n",
            "58        0.012211                1  \n",
            "56        0.012211                1  \n",
            "48        0.012470                4  \n",
            "50        0.012470                4  \n",
            "..             ...              ...  \n",
            "15        0.004892              115  \n",
            "17        0.004892              115  \n",
            "5         0.007433              118  \n",
            "3         0.007433              118  \n",
            "1         0.007433              118  \n",
            "\n",
            "[120 rows x 15 columns] False\n"
          ]
        }
      ]
    },
    {
      "cell_type": "markdown",
      "source": [
        "#### Support Vector Classifier"
      ],
      "metadata": {
        "id": "uGX8Fzbl6Ffm"
      }
    },
    {
      "cell_type": "markdown",
      "source": [
        "Grid Search fit and tuning to find the best parameters."
      ],
      "metadata": {
        "id": "1Rc45X3o6Ff_"
      }
    },
    {
      "cell_type": "code",
      "source": [
        "grid_search_SVC = fit_tuning(X_train, y_train, pipeSVC, paramSVC)"
      ],
      "metadata": {
        "id": "LWnxm0R16Ff_"
      },
      "execution_count": null,
      "outputs": []
    },
    {
      "cell_type": "markdown",
      "source": [
        "Show best training scores and params."
      ],
      "metadata": {
        "id": "rIsqFJmb6FgA"
      }
    },
    {
      "cell_type": "code",
      "source": [
        "show_score_params(grid_search_SVC)"
      ],
      "metadata": {
        "colab": {
          "base_uri": "https://localhost:8080/"
        },
        "outputId": "059acc20-7804-4f10-eb67-1f16b73c189c",
        "id": "49kzp5gO6FgA"
      },
      "execution_count": null,
      "outputs": [
        {
          "output_type": "stream",
          "name": "stdout",
          "text": [
            "\n",
            "SVC best params:\n",
            "  Best Score: 0.7295312061480009\n",
            "  Best Params: {'clf__class_weight': None, 'clf__tol': 0.4393970560760795}\n"
          ]
        }
      ]
    },
    {
      "cell_type": "markdown",
      "source": [
        "Saving result into file"
      ],
      "metadata": {
        "id": "lhWdsDQS6FgB"
      }
    },
    {
      "cell_type": "code",
      "source": [
        "results_to_csv(grid_search_SVC, file_dmoz + \"-svc-results.csv\")"
      ],
      "metadata": {
        "collapsed": true,
        "colab": {
          "base_uri": "https://localhost:8080/"
        },
        "outputId": "57859611-abd4-4a18-a016-0385004dc5a5",
        "id": "zLK2KCPS6FgB"
      },
      "execution_count": 44,
      "outputs": [
        {
          "output_type": "stream",
          "name": "stdout",
          "text": [
            "\n",
            "CV Results: False\n",
            "    mean_fit_time  std_fit_time  mean_score_time  std_score_time  \\\n",
            "5        0.138770      0.008844         0.049094        0.001017   \n",
            "0        0.286087      0.042463         0.075992        0.017698   \n",
            "17       0.177869      0.002322         0.050078        0.000534   \n",
            "16       0.189564      0.002523         0.054641        0.008533   \n",
            "1        0.303036      0.006955         0.087821        0.002285   \n",
            "15       0.217624      0.005637         0.049704        0.001991   \n",
            "2        0.294087      0.004707         0.086950        0.001336   \n",
            "18       0.167556      0.009364         0.047032        0.000946   \n",
            "3        0.234285      0.054766         0.064790        0.019756   \n",
            "4        0.159707      0.011556         0.049218        0.001658   \n",
            "19       0.148738      0.003893         0.048006        0.001279   \n",
            "20       0.148691      0.009650         0.059365        0.016161   \n",
            "21       0.191767      0.003695         0.087664        0.003408   \n",
            "12       0.112309      0.002603         0.051077        0.001968   \n",
            "26       0.113594      0.002751         0.049689        0.002250   \n",
            "22       0.193765      0.012101         0.087758        0.005277   \n",
            "9        0.122617      0.006937         0.049474        0.001837   \n",
            "29       0.114196      0.002240         0.049669        0.002133   \n",
            "6        0.111039      0.002436         0.048212        0.001658   \n",
            "14       0.113952      0.002017         0.051445        0.002780   \n",
            "23       0.200378      0.008009         0.085070        0.001688   \n",
            "7        0.118845      0.001704         0.048317        0.001992   \n",
            "28       0.115853      0.004201         0.049315        0.000755   \n",
            "25       0.121012      0.010750         0.047182        0.000908   \n",
            "8        0.111742      0.001514         0.048319        0.001985   \n",
            "10       0.110938      0.002597         0.050410        0.001934   \n",
            "27       0.116566      0.009395         0.051040        0.002182   \n",
            "13       0.120408      0.002660         0.054344        0.004287   \n",
            "24       0.207304      0.005012         0.085577        0.001836   \n",
            "11       0.119913      0.009816         0.056473        0.008061   \n",
            "\n",
            "   param_clf__class_weight  param_clf__tol  \\\n",
            "5                     None    4.393971e-01   \n",
            "0                     None    1.000000e-05   \n",
            "17                balanced    7.196857e-04   \n",
            "16                balanced    8.483429e-05   \n",
            "1                     None    8.483429e-05   \n",
            "15                balanced    1.000000e-05   \n",
            "2                     None    7.196857e-04   \n",
            "18                balanced    6.105402e-03   \n",
            "3                     None    6.105402e-03   \n",
            "4                     None    5.179475e-02   \n",
            "19                balanced    5.179475e-02   \n",
            "20                balanced    4.393971e-01   \n",
            "21                balanced    3.727594e+00   \n",
            "12                    None    1.389495e+06   \n",
            "26                balanced    1.637894e+05   \n",
            "22                balanced    3.162278e+01   \n",
            "9                     None    2.275846e+03   \n",
            "29                balanced    1.000000e+08   \n",
            "6                     None    3.727594e+00   \n",
            "14                    None    1.000000e+08   \n",
            "23                balanced    2.682696e+02   \n",
            "7                     None    3.162278e+01   \n",
            "28                balanced    1.178769e+07   \n",
            "25                balanced    1.930698e+04   \n",
            "8                     None    2.682696e+02   \n",
            "10                    None    1.930698e+04   \n",
            "27                balanced    1.389495e+06   \n",
            "13                    None    1.178769e+07   \n",
            "24                balanced    2.275846e+03   \n",
            "11                    None    1.637894e+05   \n",
            "\n",
            "                                               params  split0_test_score  \\\n",
            "5   {'clf__class_weight': None, 'clf__tol': 0.4393...           0.741709   \n",
            "0      {'clf__class_weight': None, 'clf__tol': 1e-05}           0.740319   \n",
            "17  {'clf__class_weight': 'balanced', 'clf__tol': ...           0.740319   \n",
            "16  {'clf__class_weight': 'balanced', 'clf__tol': ...           0.740319   \n",
            "1   {'clf__class_weight': None, 'clf__tol': 8.4834...           0.740319   \n",
            "15  {'clf__class_weight': 'balanced', 'clf__tol': ...           0.740319   \n",
            "2   {'clf__class_weight': None, 'clf__tol': 0.0007...           0.740319   \n",
            "18  {'clf__class_weight': 'balanced', 'clf__tol': ...           0.740319   \n",
            "3   {'clf__class_weight': None, 'clf__tol': 0.0061...           0.740319   \n",
            "4   {'clf__class_weight': None, 'clf__tol': 0.0517...           0.740319   \n",
            "19  {'clf__class_weight': 'balanced', 'clf__tol': ...           0.740346   \n",
            "20  {'clf__class_weight': 'balanced', 'clf__tol': ...           0.739587   \n",
            "21  {'clf__class_weight': 'balanced', 'clf__tol': ...           0.636872   \n",
            "12  {'clf__class_weight': None, 'clf__tol': 138949...           0.677864   \n",
            "26  {'clf__class_weight': 'balanced', 'clf__tol': ...           0.625623   \n",
            "22  {'clf__class_weight': 'balanced', 'clf__tol': ...           0.679715   \n",
            "9   {'clf__class_weight': None, 'clf__tol': 2275.8...           0.676028   \n",
            "29  {'clf__class_weight': 'balanced', 'clf__tol': ...           0.682452   \n",
            "6   {'clf__class_weight': None, 'clf__tol': 3.7275...           0.622727   \n",
            "14  {'clf__class_weight': None, 'clf__tol': 100000...           0.634551   \n",
            "23  {'clf__class_weight': 'balanced', 'clf__tol': ...           0.641519   \n",
            "7   {'clf__class_weight': None, 'clf__tol': 31.622...           0.671677   \n",
            "28  {'clf__class_weight': 'balanced', 'clf__tol': ...           0.630566   \n",
            "25  {'clf__class_weight': 'balanced', 'clf__tol': ...           0.626409   \n",
            "8   {'clf__class_weight': None, 'clf__tol': 268.26...           0.625476   \n",
            "10  {'clf__class_weight': None, 'clf__tol': 19306....           0.641377   \n",
            "27  {'clf__class_weight': 'balanced', 'clf__tol': ...           0.622950   \n",
            "13  {'clf__class_weight': None, 'clf__tol': 117876...           0.596448   \n",
            "24  {'clf__class_weight': 'balanced', 'clf__tol': ...           0.605432   \n",
            "11  {'clf__class_weight': None, 'clf__tol': 163789...           0.518268   \n",
            "\n",
            "    split1_test_score  split2_test_score  mean_test_score  std_test_score  \\\n",
            "5            0.714791           0.732093         0.729531        0.011138   \n",
            "0            0.715922           0.731218         0.729153        0.010066   \n",
            "17           0.715922           0.731218         0.729153        0.010066   \n",
            "16           0.715922           0.731218         0.729153        0.010066   \n",
            "1            0.715922           0.731218         0.729153        0.010066   \n",
            "15           0.715922           0.731218         0.729153        0.010066   \n",
            "2            0.715922           0.731218         0.729153        0.010066   \n",
            "18           0.715922           0.731166         0.729135        0.010063   \n",
            "3            0.715922           0.731166         0.729135        0.010063   \n",
            "4            0.716494           0.730562         0.729125        0.009779   \n",
            "19           0.715938           0.730648         0.728977        0.010034   \n",
            "20           0.713585           0.731172         0.728115        0.010833   \n",
            "21           0.668113           0.677552         0.660846        0.017385   \n",
            "12           0.633199           0.642248         0.651104        0.019280   \n",
            "26           0.681135           0.641162         0.649307        0.023383   \n",
            "22           0.623511           0.642065         0.648430        0.023383   \n",
            "9            0.652315           0.601658         0.643334        0.031019   \n",
            "29           0.585673           0.661809         0.643311        0.041619   \n",
            "6            0.655432           0.647451         0.641870        0.013923   \n",
            "14           0.623550           0.664302         0.640801        0.017214   \n",
            "23           0.617730           0.654954         0.638068        0.015392   \n",
            "7            0.654535           0.568003         0.631405        0.045375   \n",
            "28           0.655546           0.602683         0.629598        0.021592   \n",
            "25           0.635983           0.621867         0.628086        0.005883   \n",
            "8            0.623842           0.617558         0.622292        0.003413   \n",
            "10           0.565210           0.650417         0.619001        0.038215   \n",
            "27           0.626559           0.600227         0.616579        0.011656   \n",
            "13           0.596312           0.619444         0.604068        0.010872   \n",
            "24           0.594754           0.563101         0.587762        0.017975   \n",
            "11           0.669823           0.506143         0.564744        0.074466   \n",
            "\n",
            "    rank_test_score  \n",
            "5                 1  \n",
            "0                 2  \n",
            "17                2  \n",
            "16                2  \n",
            "1                 2  \n",
            "15                2  \n",
            "2                 2  \n",
            "18                8  \n",
            "3                 8  \n",
            "4                10  \n",
            "19               11  \n",
            "20               12  \n",
            "21               13  \n",
            "12               14  \n",
            "26               15  \n",
            "22               16  \n",
            "9                17  \n",
            "29               18  \n",
            "6                19  \n",
            "14               20  \n",
            "23               21  \n",
            "7                22  \n",
            "28               23  \n",
            "25               24  \n",
            "8                25  \n",
            "10               26  \n",
            "27               27  \n",
            "13               28  \n",
            "24               29  \n",
            "11               30   False\n"
          ]
        }
      ]
    },
    {
      "cell_type": "markdown",
      "source": [
        "### Best estimator training\n",
        "\n",
        "Train the model using the whole `X_train` and `y_train` sets before validate it using the test set (`X_test`)."
      ],
      "metadata": {
        "id": "EYx441kn5_Lc"
      }
    },
    {
      "cell_type": "markdown",
      "source": [
        "Get the best estimator (pipeline)."
      ],
      "metadata": {
        "id": "3o28jPqk5_Lj"
      }
    },
    {
      "cell_type": "code",
      "source": [
        "estimator_MNB = grid_search_MNB.best_estimator_\n",
        "estimator_LR = grid_search_LR.best_estimator_\n",
        "estimator_SVC = grid_search_SVC.best_estimator_\n",
        "print(estimator_MNB)\n",
        "print(estimator_LR)\n",
        "print(estimator_SVC)"
      ],
      "metadata": {
        "colab": {
          "base_uri": "https://localhost:8080/"
        },
        "id": "38VHA0mA5_Lj",
        "outputId": "b930d196-9caa-4deb-988f-18572da2afc4"
      },
      "execution_count": null,
      "outputs": [
        {
          "output_type": "stream",
          "name": "stdout",
          "text": [
            "Pipeline(steps=[('tfidf', TfidfVectorizer()),\n",
            "                ('clf',\n",
            "                 MultinomialNB(alpha=0.4111111111111111, fit_prior=False))])\n",
            "Pipeline(steps=[('tfidf', TfidfVectorizer()),\n",
            "                ('clf',\n",
            "                 LogisticRegression(C=5.994842503189409,\n",
            "                                    class_weight='balanced', random_state=1979,\n",
            "                                    solver='liblinear'))])\n",
            "Pipeline(steps=[('tfidf', TfidfVectorizer()),\n",
            "                ('clf', LinearSVC(tol=0.4393970560760795))])\n"
          ]
        }
      ]
    },
    {
      "cell_type": "markdown",
      "source": [
        "Train the estimator using the training sets (`X_train` and `y_train`). A new training step is necessary because the cross-validation step never use the whole training set to train the model."
      ],
      "metadata": {
        "id": "MFm6MeIn5_Lk"
      }
    },
    {
      "cell_type": "code",
      "source": [
        "estimator_MNB.fit(X_train, y_train)\n",
        "estimator_LR.fit(X_train, y_train)\n",
        "estimator_SVC.fit(X_train, y_train)"
      ],
      "metadata": {
        "colab": {
          "base_uri": "https://localhost:8080/",
          "height": 143
        },
        "id": "vNnBApoW5_Lk",
        "outputId": "73b9ebd2-07ec-4e6d-a794-073e67a683be"
      },
      "execution_count": null,
      "outputs": [
        {
          "output_type": "execute_result",
          "data": {
            "text/plain": [
              "Pipeline(steps=[('tfidf', TfidfVectorizer()),\n",
              "                ('clf', LinearSVC(tol=0.4393970560760795))])"
            ],
            "text/html": [
              "<style>#sk-container-id-2 {\n",
              "  /* Definition of color scheme common for light and dark mode */\n",
              "  --sklearn-color-text: black;\n",
              "  --sklearn-color-line: gray;\n",
              "  /* Definition of color scheme for unfitted estimators */\n",
              "  --sklearn-color-unfitted-level-0: #fff5e6;\n",
              "  --sklearn-color-unfitted-level-1: #f6e4d2;\n",
              "  --sklearn-color-unfitted-level-2: #ffe0b3;\n",
              "  --sklearn-color-unfitted-level-3: chocolate;\n",
              "  /* Definition of color scheme for fitted estimators */\n",
              "  --sklearn-color-fitted-level-0: #f0f8ff;\n",
              "  --sklearn-color-fitted-level-1: #d4ebff;\n",
              "  --sklearn-color-fitted-level-2: #b3dbfd;\n",
              "  --sklearn-color-fitted-level-3: cornflowerblue;\n",
              "\n",
              "  /* Specific color for light theme */\n",
              "  --sklearn-color-text-on-default-background: var(--sg-text-color, var(--theme-code-foreground, var(--jp-content-font-color1, black)));\n",
              "  --sklearn-color-background: var(--sg-background-color, var(--theme-background, var(--jp-layout-color0, white)));\n",
              "  --sklearn-color-border-box: var(--sg-text-color, var(--theme-code-foreground, var(--jp-content-font-color1, black)));\n",
              "  --sklearn-color-icon: #696969;\n",
              "\n",
              "  @media (prefers-color-scheme: dark) {\n",
              "    /* Redefinition of color scheme for dark theme */\n",
              "    --sklearn-color-text-on-default-background: var(--sg-text-color, var(--theme-code-foreground, var(--jp-content-font-color1, white)));\n",
              "    --sklearn-color-background: var(--sg-background-color, var(--theme-background, var(--jp-layout-color0, #111)));\n",
              "    --sklearn-color-border-box: var(--sg-text-color, var(--theme-code-foreground, var(--jp-content-font-color1, white)));\n",
              "    --sklearn-color-icon: #878787;\n",
              "  }\n",
              "}\n",
              "\n",
              "#sk-container-id-2 {\n",
              "  color: var(--sklearn-color-text);\n",
              "}\n",
              "\n",
              "#sk-container-id-2 pre {\n",
              "  padding: 0;\n",
              "}\n",
              "\n",
              "#sk-container-id-2 input.sk-hidden--visually {\n",
              "  border: 0;\n",
              "  clip: rect(1px 1px 1px 1px);\n",
              "  clip: rect(1px, 1px, 1px, 1px);\n",
              "  height: 1px;\n",
              "  margin: -1px;\n",
              "  overflow: hidden;\n",
              "  padding: 0;\n",
              "  position: absolute;\n",
              "  width: 1px;\n",
              "}\n",
              "\n",
              "#sk-container-id-2 div.sk-dashed-wrapped {\n",
              "  border: 1px dashed var(--sklearn-color-line);\n",
              "  margin: 0 0.4em 0.5em 0.4em;\n",
              "  box-sizing: border-box;\n",
              "  padding-bottom: 0.4em;\n",
              "  background-color: var(--sklearn-color-background);\n",
              "}\n",
              "\n",
              "#sk-container-id-2 div.sk-container {\n",
              "  /* jupyter's `normalize.less` sets `[hidden] { display: none; }`\n",
              "     but bootstrap.min.css set `[hidden] { display: none !important; }`\n",
              "     so we also need the `!important` here to be able to override the\n",
              "     default hidden behavior on the sphinx rendered scikit-learn.org.\n",
              "     See: https://github.com/scikit-learn/scikit-learn/issues/21755 */\n",
              "  display: inline-block !important;\n",
              "  position: relative;\n",
              "}\n",
              "\n",
              "#sk-container-id-2 div.sk-text-repr-fallback {\n",
              "  display: none;\n",
              "}\n",
              "\n",
              "div.sk-parallel-item,\n",
              "div.sk-serial,\n",
              "div.sk-item {\n",
              "  /* draw centered vertical line to link estimators */\n",
              "  background-image: linear-gradient(var(--sklearn-color-text-on-default-background), var(--sklearn-color-text-on-default-background));\n",
              "  background-size: 2px 100%;\n",
              "  background-repeat: no-repeat;\n",
              "  background-position: center center;\n",
              "}\n",
              "\n",
              "/* Parallel-specific style estimator block */\n",
              "\n",
              "#sk-container-id-2 div.sk-parallel-item::after {\n",
              "  content: \"\";\n",
              "  width: 100%;\n",
              "  border-bottom: 2px solid var(--sklearn-color-text-on-default-background);\n",
              "  flex-grow: 1;\n",
              "}\n",
              "\n",
              "#sk-container-id-2 div.sk-parallel {\n",
              "  display: flex;\n",
              "  align-items: stretch;\n",
              "  justify-content: center;\n",
              "  background-color: var(--sklearn-color-background);\n",
              "  position: relative;\n",
              "}\n",
              "\n",
              "#sk-container-id-2 div.sk-parallel-item {\n",
              "  display: flex;\n",
              "  flex-direction: column;\n",
              "}\n",
              "\n",
              "#sk-container-id-2 div.sk-parallel-item:first-child::after {\n",
              "  align-self: flex-end;\n",
              "  width: 50%;\n",
              "}\n",
              "\n",
              "#sk-container-id-2 div.sk-parallel-item:last-child::after {\n",
              "  align-self: flex-start;\n",
              "  width: 50%;\n",
              "}\n",
              "\n",
              "#sk-container-id-2 div.sk-parallel-item:only-child::after {\n",
              "  width: 0;\n",
              "}\n",
              "\n",
              "/* Serial-specific style estimator block */\n",
              "\n",
              "#sk-container-id-2 div.sk-serial {\n",
              "  display: flex;\n",
              "  flex-direction: column;\n",
              "  align-items: center;\n",
              "  background-color: var(--sklearn-color-background);\n",
              "  padding-right: 1em;\n",
              "  padding-left: 1em;\n",
              "}\n",
              "\n",
              "\n",
              "/* Toggleable style: style used for estimator/Pipeline/ColumnTransformer box that is\n",
              "clickable and can be expanded/collapsed.\n",
              "- Pipeline and ColumnTransformer use this feature and define the default style\n",
              "- Estimators will overwrite some part of the style using the `sk-estimator` class\n",
              "*/\n",
              "\n",
              "/* Pipeline and ColumnTransformer style (default) */\n",
              "\n",
              "#sk-container-id-2 div.sk-toggleable {\n",
              "  /* Default theme specific background. It is overwritten whether we have a\n",
              "  specific estimator or a Pipeline/ColumnTransformer */\n",
              "  background-color: var(--sklearn-color-background);\n",
              "}\n",
              "\n",
              "/* Toggleable label */\n",
              "#sk-container-id-2 label.sk-toggleable__label {\n",
              "  cursor: pointer;\n",
              "  display: block;\n",
              "  width: 100%;\n",
              "  margin-bottom: 0;\n",
              "  padding: 0.5em;\n",
              "  box-sizing: border-box;\n",
              "  text-align: center;\n",
              "}\n",
              "\n",
              "#sk-container-id-2 label.sk-toggleable__label-arrow:before {\n",
              "  /* Arrow on the left of the label */\n",
              "  content: \"▸\";\n",
              "  float: left;\n",
              "  margin-right: 0.25em;\n",
              "  color: var(--sklearn-color-icon);\n",
              "}\n",
              "\n",
              "#sk-container-id-2 label.sk-toggleable__label-arrow:hover:before {\n",
              "  color: var(--sklearn-color-text);\n",
              "}\n",
              "\n",
              "/* Toggleable content - dropdown */\n",
              "\n",
              "#sk-container-id-2 div.sk-toggleable__content {\n",
              "  max-height: 0;\n",
              "  max-width: 0;\n",
              "  overflow: hidden;\n",
              "  text-align: left;\n",
              "  /* unfitted */\n",
              "  background-color: var(--sklearn-color-unfitted-level-0);\n",
              "}\n",
              "\n",
              "#sk-container-id-2 div.sk-toggleable__content.fitted {\n",
              "  /* fitted */\n",
              "  background-color: var(--sklearn-color-fitted-level-0);\n",
              "}\n",
              "\n",
              "#sk-container-id-2 div.sk-toggleable__content pre {\n",
              "  margin: 0.2em;\n",
              "  border-radius: 0.25em;\n",
              "  color: var(--sklearn-color-text);\n",
              "  /* unfitted */\n",
              "  background-color: var(--sklearn-color-unfitted-level-0);\n",
              "}\n",
              "\n",
              "#sk-container-id-2 div.sk-toggleable__content.fitted pre {\n",
              "  /* unfitted */\n",
              "  background-color: var(--sklearn-color-fitted-level-0);\n",
              "}\n",
              "\n",
              "#sk-container-id-2 input.sk-toggleable__control:checked~div.sk-toggleable__content {\n",
              "  /* Expand drop-down */\n",
              "  max-height: 200px;\n",
              "  max-width: 100%;\n",
              "  overflow: auto;\n",
              "}\n",
              "\n",
              "#sk-container-id-2 input.sk-toggleable__control:checked~label.sk-toggleable__label-arrow:before {\n",
              "  content: \"▾\";\n",
              "}\n",
              "\n",
              "/* Pipeline/ColumnTransformer-specific style */\n",
              "\n",
              "#sk-container-id-2 div.sk-label input.sk-toggleable__control:checked~label.sk-toggleable__label {\n",
              "  color: var(--sklearn-color-text);\n",
              "  background-color: var(--sklearn-color-unfitted-level-2);\n",
              "}\n",
              "\n",
              "#sk-container-id-2 div.sk-label.fitted input.sk-toggleable__control:checked~label.sk-toggleable__label {\n",
              "  background-color: var(--sklearn-color-fitted-level-2);\n",
              "}\n",
              "\n",
              "/* Estimator-specific style */\n",
              "\n",
              "/* Colorize estimator box */\n",
              "#sk-container-id-2 div.sk-estimator input.sk-toggleable__control:checked~label.sk-toggleable__label {\n",
              "  /* unfitted */\n",
              "  background-color: var(--sklearn-color-unfitted-level-2);\n",
              "}\n",
              "\n",
              "#sk-container-id-2 div.sk-estimator.fitted input.sk-toggleable__control:checked~label.sk-toggleable__label {\n",
              "  /* fitted */\n",
              "  background-color: var(--sklearn-color-fitted-level-2);\n",
              "}\n",
              "\n",
              "#sk-container-id-2 div.sk-label label.sk-toggleable__label,\n",
              "#sk-container-id-2 div.sk-label label {\n",
              "  /* The background is the default theme color */\n",
              "  color: var(--sklearn-color-text-on-default-background);\n",
              "}\n",
              "\n",
              "/* On hover, darken the color of the background */\n",
              "#sk-container-id-2 div.sk-label:hover label.sk-toggleable__label {\n",
              "  color: var(--sklearn-color-text);\n",
              "  background-color: var(--sklearn-color-unfitted-level-2);\n",
              "}\n",
              "\n",
              "/* Label box, darken color on hover, fitted */\n",
              "#sk-container-id-2 div.sk-label.fitted:hover label.sk-toggleable__label.fitted {\n",
              "  color: var(--sklearn-color-text);\n",
              "  background-color: var(--sklearn-color-fitted-level-2);\n",
              "}\n",
              "\n",
              "/* Estimator label */\n",
              "\n",
              "#sk-container-id-2 div.sk-label label {\n",
              "  font-family: monospace;\n",
              "  font-weight: bold;\n",
              "  display: inline-block;\n",
              "  line-height: 1.2em;\n",
              "}\n",
              "\n",
              "#sk-container-id-2 div.sk-label-container {\n",
              "  text-align: center;\n",
              "}\n",
              "\n",
              "/* Estimator-specific */\n",
              "#sk-container-id-2 div.sk-estimator {\n",
              "  font-family: monospace;\n",
              "  border: 1px dotted var(--sklearn-color-border-box);\n",
              "  border-radius: 0.25em;\n",
              "  box-sizing: border-box;\n",
              "  margin-bottom: 0.5em;\n",
              "  /* unfitted */\n",
              "  background-color: var(--sklearn-color-unfitted-level-0);\n",
              "}\n",
              "\n",
              "#sk-container-id-2 div.sk-estimator.fitted {\n",
              "  /* fitted */\n",
              "  background-color: var(--sklearn-color-fitted-level-0);\n",
              "}\n",
              "\n",
              "/* on hover */\n",
              "#sk-container-id-2 div.sk-estimator:hover {\n",
              "  /* unfitted */\n",
              "  background-color: var(--sklearn-color-unfitted-level-2);\n",
              "}\n",
              "\n",
              "#sk-container-id-2 div.sk-estimator.fitted:hover {\n",
              "  /* fitted */\n",
              "  background-color: var(--sklearn-color-fitted-level-2);\n",
              "}\n",
              "\n",
              "/* Specification for estimator info (e.g. \"i\" and \"?\") */\n",
              "\n",
              "/* Common style for \"i\" and \"?\" */\n",
              "\n",
              ".sk-estimator-doc-link,\n",
              "a:link.sk-estimator-doc-link,\n",
              "a:visited.sk-estimator-doc-link {\n",
              "  float: right;\n",
              "  font-size: smaller;\n",
              "  line-height: 1em;\n",
              "  font-family: monospace;\n",
              "  background-color: var(--sklearn-color-background);\n",
              "  border-radius: 1em;\n",
              "  height: 1em;\n",
              "  width: 1em;\n",
              "  text-decoration: none !important;\n",
              "  margin-left: 1ex;\n",
              "  /* unfitted */\n",
              "  border: var(--sklearn-color-unfitted-level-1) 1pt solid;\n",
              "  color: var(--sklearn-color-unfitted-level-1);\n",
              "}\n",
              "\n",
              ".sk-estimator-doc-link.fitted,\n",
              "a:link.sk-estimator-doc-link.fitted,\n",
              "a:visited.sk-estimator-doc-link.fitted {\n",
              "  /* fitted */\n",
              "  border: var(--sklearn-color-fitted-level-1) 1pt solid;\n",
              "  color: var(--sklearn-color-fitted-level-1);\n",
              "}\n",
              "\n",
              "/* On hover */\n",
              "div.sk-estimator:hover .sk-estimator-doc-link:hover,\n",
              ".sk-estimator-doc-link:hover,\n",
              "div.sk-label-container:hover .sk-estimator-doc-link:hover,\n",
              ".sk-estimator-doc-link:hover {\n",
              "  /* unfitted */\n",
              "  background-color: var(--sklearn-color-unfitted-level-3);\n",
              "  color: var(--sklearn-color-background);\n",
              "  text-decoration: none;\n",
              "}\n",
              "\n",
              "div.sk-estimator.fitted:hover .sk-estimator-doc-link.fitted:hover,\n",
              ".sk-estimator-doc-link.fitted:hover,\n",
              "div.sk-label-container:hover .sk-estimator-doc-link.fitted:hover,\n",
              ".sk-estimator-doc-link.fitted:hover {\n",
              "  /* fitted */\n",
              "  background-color: var(--sklearn-color-fitted-level-3);\n",
              "  color: var(--sklearn-color-background);\n",
              "  text-decoration: none;\n",
              "}\n",
              "\n",
              "/* Span, style for the box shown on hovering the info icon */\n",
              ".sk-estimator-doc-link span {\n",
              "  display: none;\n",
              "  z-index: 9999;\n",
              "  position: relative;\n",
              "  font-weight: normal;\n",
              "  right: .2ex;\n",
              "  padding: .5ex;\n",
              "  margin: .5ex;\n",
              "  width: min-content;\n",
              "  min-width: 20ex;\n",
              "  max-width: 50ex;\n",
              "  color: var(--sklearn-color-text);\n",
              "  box-shadow: 2pt 2pt 4pt #999;\n",
              "  /* unfitted */\n",
              "  background: var(--sklearn-color-unfitted-level-0);\n",
              "  border: .5pt solid var(--sklearn-color-unfitted-level-3);\n",
              "}\n",
              "\n",
              ".sk-estimator-doc-link.fitted span {\n",
              "  /* fitted */\n",
              "  background: var(--sklearn-color-fitted-level-0);\n",
              "  border: var(--sklearn-color-fitted-level-3);\n",
              "}\n",
              "\n",
              ".sk-estimator-doc-link:hover span {\n",
              "  display: block;\n",
              "}\n",
              "\n",
              "/* \"?\"-specific style due to the `<a>` HTML tag */\n",
              "\n",
              "#sk-container-id-2 a.estimator_doc_link {\n",
              "  float: right;\n",
              "  font-size: 1rem;\n",
              "  line-height: 1em;\n",
              "  font-family: monospace;\n",
              "  background-color: var(--sklearn-color-background);\n",
              "  border-radius: 1rem;\n",
              "  height: 1rem;\n",
              "  width: 1rem;\n",
              "  text-decoration: none;\n",
              "  /* unfitted */\n",
              "  color: var(--sklearn-color-unfitted-level-1);\n",
              "  border: var(--sklearn-color-unfitted-level-1) 1pt solid;\n",
              "}\n",
              "\n",
              "#sk-container-id-2 a.estimator_doc_link.fitted {\n",
              "  /* fitted */\n",
              "  border: var(--sklearn-color-fitted-level-1) 1pt solid;\n",
              "  color: var(--sklearn-color-fitted-level-1);\n",
              "}\n",
              "\n",
              "/* On hover */\n",
              "#sk-container-id-2 a.estimator_doc_link:hover {\n",
              "  /* unfitted */\n",
              "  background-color: var(--sklearn-color-unfitted-level-3);\n",
              "  color: var(--sklearn-color-background);\n",
              "  text-decoration: none;\n",
              "}\n",
              "\n",
              "#sk-container-id-2 a.estimator_doc_link.fitted:hover {\n",
              "  /* fitted */\n",
              "  background-color: var(--sklearn-color-fitted-level-3);\n",
              "}\n",
              "</style><div id=\"sk-container-id-2\" class=\"sk-top-container\"><div class=\"sk-text-repr-fallback\"><pre>Pipeline(steps=[(&#x27;tfidf&#x27;, TfidfVectorizer()),\n",
              "                (&#x27;clf&#x27;, LinearSVC(tol=0.4393970560760795))])</pre><b>In a Jupyter environment, please rerun this cell to show the HTML representation or trust the notebook. <br />On GitHub, the HTML representation is unable to render, please try loading this page with nbviewer.org.</b></div><div class=\"sk-container\" hidden><div class=\"sk-item sk-dashed-wrapped\"><div class=\"sk-label-container\"><div class=\"sk-label fitted sk-toggleable\"><input class=\"sk-toggleable__control sk-hidden--visually\" id=\"sk-estimator-id-4\" type=\"checkbox\" ><label for=\"sk-estimator-id-4\" class=\"sk-toggleable__label fitted sk-toggleable__label-arrow fitted\">&nbsp;&nbsp;Pipeline<a class=\"sk-estimator-doc-link fitted\" rel=\"noreferrer\" target=\"_blank\" href=\"https://scikit-learn.org/1.5/modules/generated/sklearn.pipeline.Pipeline.html\">?<span>Documentation for Pipeline</span></a><span class=\"sk-estimator-doc-link fitted\">i<span>Fitted</span></span></label><div class=\"sk-toggleable__content fitted\"><pre>Pipeline(steps=[(&#x27;tfidf&#x27;, TfidfVectorizer()),\n",
              "                (&#x27;clf&#x27;, LinearSVC(tol=0.4393970560760795))])</pre></div> </div></div><div class=\"sk-serial\"><div class=\"sk-item\"><div class=\"sk-estimator fitted sk-toggleable\"><input class=\"sk-toggleable__control sk-hidden--visually\" id=\"sk-estimator-id-5\" type=\"checkbox\" ><label for=\"sk-estimator-id-5\" class=\"sk-toggleable__label fitted sk-toggleable__label-arrow fitted\">&nbsp;TfidfVectorizer<a class=\"sk-estimator-doc-link fitted\" rel=\"noreferrer\" target=\"_blank\" href=\"https://scikit-learn.org/1.5/modules/generated/sklearn.feature_extraction.text.TfidfVectorizer.html\">?<span>Documentation for TfidfVectorizer</span></a></label><div class=\"sk-toggleable__content fitted\"><pre>TfidfVectorizer()</pre></div> </div></div><div class=\"sk-item\"><div class=\"sk-estimator fitted sk-toggleable\"><input class=\"sk-toggleable__control sk-hidden--visually\" id=\"sk-estimator-id-6\" type=\"checkbox\" ><label for=\"sk-estimator-id-6\" class=\"sk-toggleable__label fitted sk-toggleable__label-arrow fitted\">&nbsp;LinearSVC<a class=\"sk-estimator-doc-link fitted\" rel=\"noreferrer\" target=\"_blank\" href=\"https://scikit-learn.org/1.5/modules/generated/sklearn.svm.LinearSVC.html\">?<span>Documentation for LinearSVC</span></a></label><div class=\"sk-toggleable__content fitted\"><pre>LinearSVC(tol=0.4393970560760795)</pre></div> </div></div></div></div></div></div>"
            ]
          },
          "metadata": {},
          "execution_count": 41
        }
      ]
    },
    {
      "cell_type": "markdown",
      "source": [
        "### Validation\n",
        "\n",
        "Validate the model using the test set (`X_test`)."
      ],
      "metadata": {
        "id": "sa-w6TjY5_Lk"
      }
    },
    {
      "cell_type": "code",
      "source": [
        "metrics_mnb = validate(estimator_MNB, X_test, y_test)\n",
        "metrics_lr  = validate(estimator_LR, X_test, y_test)\n",
        "metrics_svc = validate(estimator_SVC, X_test, y_test)"
      ],
      "metadata": {
        "id": "pilH4b4c5_Lk"
      },
      "execution_count": null,
      "outputs": []
    },
    {
      "cell_type": "markdown",
      "source": [
        "Show the validation results from the model (MNB, LR and SVC)"
      ],
      "metadata": {
        "id": "C5pC0qpp5_Lk"
      }
    },
    {
      "cell_type": "code",
      "source": [
        "test_results = {\n",
        "  \"Metrics\": [\"Accuracy\", \"F1 macro\", \"F1 micro\"],\n",
        "  \"MNB\": metrics_mnb,\n",
        "  \"LR\": metrics_lr,\n",
        "  \"SVC\": metrics_svc\n",
        "}\n",
        "print(pd.DataFrame(test_results))"
      ],
      "metadata": {
        "colab": {
          "base_uri": "https://localhost:8080/"
        },
        "id": "TShyr6C75_Lk",
        "outputId": "f32190b8-e59f-4718-9b54-b58b50544425"
      },
      "execution_count": null,
      "outputs": [
        {
          "output_type": "stream",
          "name": "stdout",
          "text": [
            "    Metrics       MNB        LR       SVC\n",
            "0  Accuracy  0.717500  0.725000  0.725000\n",
            "1  F1 macro  0.715701  0.723996  0.723868\n",
            "2  F1 micro  0.717500  0.725000  0.725000\n"
          ]
        }
      ]
    }
  ]
}