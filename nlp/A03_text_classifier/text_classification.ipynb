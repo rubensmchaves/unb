{
  "nbformat": 4,
  "nbformat_minor": 0,
  "metadata": {
    "colab": {
      "provenance": [],
      "collapsed_sections": [
        "QkdJVtyTfh8C",
        "4hdvXwSnfh8D"
      ]
    },
    "kernelspec": {
      "name": "python3",
      "display_name": "Python 3"
    },
    "language_info": {
      "name": "python"
    }
  },
  "cells": [
    {
      "cell_type": "markdown",
      "source": [
        "# Files donwload"
      ],
      "metadata": {
        "id": "PNWYIbAvyGGt"
      }
    },
    {
      "cell_type": "markdown",
      "source": [
        "Download python files from the repository"
      ],
      "metadata": {
        "id": "Kxd0THqCtAWt"
      }
    },
    {
      "cell_type": "code",
      "execution_count": 14,
      "metadata": {
        "id": "1xzKVcULqbQ8"
      },
      "outputs": [],
      "source": [
        "import os\n",
        "# Arquivo .py que implementa o algoritmo bigrama\n",
        "if not os.path.exists(\"find_best_hyperparameters.py\"):\n",
        "  url = \"https://raw.githubusercontent.com/rubensmchaves/unb/refs/heads/main/nlp/A03_text_classifier/find_best_hyperparameters.py\"\n",
        "  cmd = !wget {url}"
      ]
    },
    {
      "cell_type": "markdown",
      "source": [
        "Download text corpus"
      ],
      "metadata": {
        "id": "EcqBYNzatGUi"
      }
    },
    {
      "cell_type": "code",
      "source": [
        "dest_folder = \"data\"\n",
        "\n",
        "file_nsf = \"NSF\"\n",
        "file_dmoz = \"Dmoz-Science\"\n",
        "\n",
        "# create folder\n",
        "if not os.path.exists(dest_folder):\n",
        "  os.mkdir(dest_folder)\n",
        "\n",
        "# download file\n",
        "if not os.path.exists(dest_folder + \"/\" + file_nsf + \".csv\"):\n",
        "  url = f\"https://raw.githubusercontent.com/ragero/text-collections/refs/heads/master/complete_texts_csvs/{file_nsf}.csv\"\n",
        "  cmd = !wget -P {dest_folder} {url}\n",
        "\n",
        "if not os.path.exists(dest_folder + \"/\" + file_dmoz + \".csv\"):\n",
        "  url = f\"https://raw.githubusercontent.com/ragero/text-collections/refs/heads/master/complete_texts_csvs/{file_dmoz}.csv\"\n",
        "  cmd = !wget -P {dest_folder} {url}"
      ],
      "metadata": {
        "id": "0z-MGbCttJvq"
      },
      "execution_count": 15,
      "outputs": []
    },
    {
      "cell_type": "markdown",
      "source": [],
      "metadata": {
        "id": "NK4A0nw5PtCi"
      }
    },
    {
      "cell_type": "markdown",
      "source": [
        "# Text classification"
      ],
      "metadata": {
        "id": "4vexNpSYyP0L"
      }
    },
    {
      "cell_type": "code",
      "source": [
        "import numpy as np\n",
        "import pandas as pd\n",
        "\n",
        "from sklearn.model_selection import train_test_split, GridSearchCV\n",
        "from sklearn.pipeline import Pipeline\n",
        "from sklearn.feature_extraction.text import TfidfVectorizer\n",
        "from sklearn.naive_bayes import MultinomialNB\n",
        "from sklearn.svm import LinearSVC\n",
        "from sklearn.linear_model import LogisticRegression\n",
        "from sklearn.metrics import accuracy_score, classification_report\n",
        "\n",
        "from find_best_hyperparameters import fit_tuning\n",
        "from find_best_hyperparameters import get_multinomial_naive_bayes_params\n",
        "from find_best_hyperparameters import get_logistic_regression_params\n",
        "from find_best_hyperparameters import get_support_vector_params\n",
        "from find_best_hyperparameters import get_tfidf_params\n",
        "from find_best_hyperparameters import get_tfidf_params\n",
        "from find_best_hyperparameters import read_dataset\n",
        "from find_best_hyperparameters import show_score_params\n",
        "from find_best_hyperparameters import results_to_csv\n",
        "from find_best_hyperparameters import score_test_set"
      ],
      "metadata": {
        "id": "Rq29ZgNaydZV"
      },
      "execution_count": 16,
      "outputs": []
    },
    {
      "cell_type": "markdown",
      "source": [
        "## Corpus: NSF"
      ],
      "metadata": {
        "id": "pa44wihKdRdu"
      }
    },
    {
      "cell_type": "markdown",
      "source": [
        "### Load texts"
      ],
      "metadata": {
        "id": "8-DgcplX4uqp"
      }
    },
    {
      "cell_type": "markdown",
      "source": [
        "Load texts from the dataset file (corpus)"
      ],
      "metadata": {
        "id": "UFTR6zqdyuC0"
      }
    },
    {
      "cell_type": "code",
      "source": [
        "df, X, y = read_dataset(dest_folder + f\"/{file_nsf}.csv\")"
      ],
      "metadata": {
        "id": "ybGUGYI6yoHO"
      },
      "execution_count": 17,
      "outputs": []
    },
    {
      "cell_type": "markdown",
      "source": [
        "Raw dataframe loaded."
      ],
      "metadata": {
        "id": "XX1wRHSn37CM"
      }
    },
    {
      "cell_type": "code",
      "source": [
        "df"
      ],
      "metadata": {
        "id": "t_fR0Jmp370P",
        "colab": {
          "base_uri": "https://localhost:8080/",
          "height": 424
        },
        "outputId": "e3967feb-7f35-4e24-e655-6296327f0a8c"
      },
      "execution_count": 18,
      "outputs": [
        {
          "output_type": "execute_result",
          "data": {
            "text/plain": [
              "                                     file_name  \\\n",
              "0      management_data_management.a9820721.txt   \n",
              "1      management_data_management.a9116988.txt   \n",
              "2      management_data_management.a9457613.txt   \n",
              "3      management_data_management.a9734191.txt   \n",
              "4      management_data_management.a9116798.txt   \n",
              "...                                        ...   \n",
              "10519  computing_theory_computing.a9003356.txt   \n",
              "10520  computing_theory_computing.a0092761.txt   \n",
              "10521  computing_theory_computing.a9985458.txt   \n",
              "10522  computing_theory_computing.a9877122.txt   \n",
              "10523  computing_theory_computing.a9530306.txt   \n",
              "\n",
              "                                                    text   class  \n",
              "0      an intelligent visual database system hierarch...    data  \n",
              "1      spatio-temporal database management for global...    data  \n",
              "2      nyi theory and implementation of declarative d...    data  \n",
              "3      pecase providing a coherent view of diverse di...    data  \n",
              "4      an object-oriented toolbox for use with the pr...    data  \n",
              "...                                                  ...     ...  \n",
              "10519             fixed-point logic in finite structures  theory  \n",
              "10520  making exponential-time learning algorithms ef...  theory  \n",
              "10521  efficient algorithms for problems in combinato...  theory  \n",
              "10522  on learning and characterizing classes of bool...  theory  \n",
              "10523  approximation of steiner minimum trees and app...  theory  \n",
              "\n",
              "[10524 rows x 3 columns]"
            ],
            "text/html": [
              "\n",
              "  <div id=\"df-d5de1930-4ac2-4eb1-9b48-e2c4a2049b82\" class=\"colab-df-container\">\n",
              "    <div>\n",
              "<style scoped>\n",
              "    .dataframe tbody tr th:only-of-type {\n",
              "        vertical-align: middle;\n",
              "    }\n",
              "\n",
              "    .dataframe tbody tr th {\n",
              "        vertical-align: top;\n",
              "    }\n",
              "\n",
              "    .dataframe thead th {\n",
              "        text-align: right;\n",
              "    }\n",
              "</style>\n",
              "<table border=\"1\" class=\"dataframe\">\n",
              "  <thead>\n",
              "    <tr style=\"text-align: right;\">\n",
              "      <th></th>\n",
              "      <th>file_name</th>\n",
              "      <th>text</th>\n",
              "      <th>class</th>\n",
              "    </tr>\n",
              "  </thead>\n",
              "  <tbody>\n",
              "    <tr>\n",
              "      <th>0</th>\n",
              "      <td>management_data_management.a9820721.txt</td>\n",
              "      <td>an intelligent visual database system hierarch...</td>\n",
              "      <td>data</td>\n",
              "    </tr>\n",
              "    <tr>\n",
              "      <th>1</th>\n",
              "      <td>management_data_management.a9116988.txt</td>\n",
              "      <td>spatio-temporal database management for global...</td>\n",
              "      <td>data</td>\n",
              "    </tr>\n",
              "    <tr>\n",
              "      <th>2</th>\n",
              "      <td>management_data_management.a9457613.txt</td>\n",
              "      <td>nyi theory and implementation of declarative d...</td>\n",
              "      <td>data</td>\n",
              "    </tr>\n",
              "    <tr>\n",
              "      <th>3</th>\n",
              "      <td>management_data_management.a9734191.txt</td>\n",
              "      <td>pecase providing a coherent view of diverse di...</td>\n",
              "      <td>data</td>\n",
              "    </tr>\n",
              "    <tr>\n",
              "      <th>4</th>\n",
              "      <td>management_data_management.a9116798.txt</td>\n",
              "      <td>an object-oriented toolbox for use with the pr...</td>\n",
              "      <td>data</td>\n",
              "    </tr>\n",
              "    <tr>\n",
              "      <th>...</th>\n",
              "      <td>...</td>\n",
              "      <td>...</td>\n",
              "      <td>...</td>\n",
              "    </tr>\n",
              "    <tr>\n",
              "      <th>10519</th>\n",
              "      <td>computing_theory_computing.a9003356.txt</td>\n",
              "      <td>fixed-point logic in finite structures</td>\n",
              "      <td>theory</td>\n",
              "    </tr>\n",
              "    <tr>\n",
              "      <th>10520</th>\n",
              "      <td>computing_theory_computing.a0092761.txt</td>\n",
              "      <td>making exponential-time learning algorithms ef...</td>\n",
              "      <td>theory</td>\n",
              "    </tr>\n",
              "    <tr>\n",
              "      <th>10521</th>\n",
              "      <td>computing_theory_computing.a9985458.txt</td>\n",
              "      <td>efficient algorithms for problems in combinato...</td>\n",
              "      <td>theory</td>\n",
              "    </tr>\n",
              "    <tr>\n",
              "      <th>10522</th>\n",
              "      <td>computing_theory_computing.a9877122.txt</td>\n",
              "      <td>on learning and characterizing classes of bool...</td>\n",
              "      <td>theory</td>\n",
              "    </tr>\n",
              "    <tr>\n",
              "      <th>10523</th>\n",
              "      <td>computing_theory_computing.a9530306.txt</td>\n",
              "      <td>approximation of steiner minimum trees and app...</td>\n",
              "      <td>theory</td>\n",
              "    </tr>\n",
              "  </tbody>\n",
              "</table>\n",
              "<p>10524 rows × 3 columns</p>\n",
              "</div>\n",
              "    <div class=\"colab-df-buttons\">\n",
              "\n",
              "  <div class=\"colab-df-container\">\n",
              "    <button class=\"colab-df-convert\" onclick=\"convertToInteractive('df-d5de1930-4ac2-4eb1-9b48-e2c4a2049b82')\"\n",
              "            title=\"Convert this dataframe to an interactive table.\"\n",
              "            style=\"display:none;\">\n",
              "\n",
              "  <svg xmlns=\"http://www.w3.org/2000/svg\" height=\"24px\" viewBox=\"0 -960 960 960\">\n",
              "    <path d=\"M120-120v-720h720v720H120Zm60-500h600v-160H180v160Zm220 220h160v-160H400v160Zm0 220h160v-160H400v160ZM180-400h160v-160H180v160Zm440 0h160v-160H620v160ZM180-180h160v-160H180v160Zm440 0h160v-160H620v160Z\"/>\n",
              "  </svg>\n",
              "    </button>\n",
              "\n",
              "  <style>\n",
              "    .colab-df-container {\n",
              "      display:flex;\n",
              "      gap: 12px;\n",
              "    }\n",
              "\n",
              "    .colab-df-convert {\n",
              "      background-color: #E8F0FE;\n",
              "      border: none;\n",
              "      border-radius: 50%;\n",
              "      cursor: pointer;\n",
              "      display: none;\n",
              "      fill: #1967D2;\n",
              "      height: 32px;\n",
              "      padding: 0 0 0 0;\n",
              "      width: 32px;\n",
              "    }\n",
              "\n",
              "    .colab-df-convert:hover {\n",
              "      background-color: #E2EBFA;\n",
              "      box-shadow: 0px 1px 2px rgba(60, 64, 67, 0.3), 0px 1px 3px 1px rgba(60, 64, 67, 0.15);\n",
              "      fill: #174EA6;\n",
              "    }\n",
              "\n",
              "    .colab-df-buttons div {\n",
              "      margin-bottom: 4px;\n",
              "    }\n",
              "\n",
              "    [theme=dark] .colab-df-convert {\n",
              "      background-color: #3B4455;\n",
              "      fill: #D2E3FC;\n",
              "    }\n",
              "\n",
              "    [theme=dark] .colab-df-convert:hover {\n",
              "      background-color: #434B5C;\n",
              "      box-shadow: 0px 1px 3px 1px rgba(0, 0, 0, 0.15);\n",
              "      filter: drop-shadow(0px 1px 2px rgba(0, 0, 0, 0.3));\n",
              "      fill: #FFFFFF;\n",
              "    }\n",
              "  </style>\n",
              "\n",
              "    <script>\n",
              "      const buttonEl =\n",
              "        document.querySelector('#df-d5de1930-4ac2-4eb1-9b48-e2c4a2049b82 button.colab-df-convert');\n",
              "      buttonEl.style.display =\n",
              "        google.colab.kernel.accessAllowed ? 'block' : 'none';\n",
              "\n",
              "      async function convertToInteractive(key) {\n",
              "        const element = document.querySelector('#df-d5de1930-4ac2-4eb1-9b48-e2c4a2049b82');\n",
              "        const dataTable =\n",
              "          await google.colab.kernel.invokeFunction('convertToInteractive',\n",
              "                                                    [key], {});\n",
              "        if (!dataTable) return;\n",
              "\n",
              "        const docLinkHtml = 'Like what you see? Visit the ' +\n",
              "          '<a target=\"_blank\" href=https://colab.research.google.com/notebooks/data_table.ipynb>data table notebook</a>'\n",
              "          + ' to learn more about interactive tables.';\n",
              "        element.innerHTML = '';\n",
              "        dataTable['output_type'] = 'display_data';\n",
              "        await google.colab.output.renderOutput(dataTable, element);\n",
              "        const docLink = document.createElement('div');\n",
              "        docLink.innerHTML = docLinkHtml;\n",
              "        element.appendChild(docLink);\n",
              "      }\n",
              "    </script>\n",
              "  </div>\n",
              "\n",
              "\n",
              "<div id=\"df-76f3660f-d2f3-4f86-a0f0-cc8aaca114ac\">\n",
              "  <button class=\"colab-df-quickchart\" onclick=\"quickchart('df-76f3660f-d2f3-4f86-a0f0-cc8aaca114ac')\"\n",
              "            title=\"Suggest charts\"\n",
              "            style=\"display:none;\">\n",
              "\n",
              "<svg xmlns=\"http://www.w3.org/2000/svg\" height=\"24px\"viewBox=\"0 0 24 24\"\n",
              "     width=\"24px\">\n",
              "    <g>\n",
              "        <path d=\"M19 3H5c-1.1 0-2 .9-2 2v14c0 1.1.9 2 2 2h14c1.1 0 2-.9 2-2V5c0-1.1-.9-2-2-2zM9 17H7v-7h2v7zm4 0h-2V7h2v10zm4 0h-2v-4h2v4z\"/>\n",
              "    </g>\n",
              "</svg>\n",
              "  </button>\n",
              "\n",
              "<style>\n",
              "  .colab-df-quickchart {\n",
              "      --bg-color: #E8F0FE;\n",
              "      --fill-color: #1967D2;\n",
              "      --hover-bg-color: #E2EBFA;\n",
              "      --hover-fill-color: #174EA6;\n",
              "      --disabled-fill-color: #AAA;\n",
              "      --disabled-bg-color: #DDD;\n",
              "  }\n",
              "\n",
              "  [theme=dark] .colab-df-quickchart {\n",
              "      --bg-color: #3B4455;\n",
              "      --fill-color: #D2E3FC;\n",
              "      --hover-bg-color: #434B5C;\n",
              "      --hover-fill-color: #FFFFFF;\n",
              "      --disabled-bg-color: #3B4455;\n",
              "      --disabled-fill-color: #666;\n",
              "  }\n",
              "\n",
              "  .colab-df-quickchart {\n",
              "    background-color: var(--bg-color);\n",
              "    border: none;\n",
              "    border-radius: 50%;\n",
              "    cursor: pointer;\n",
              "    display: none;\n",
              "    fill: var(--fill-color);\n",
              "    height: 32px;\n",
              "    padding: 0;\n",
              "    width: 32px;\n",
              "  }\n",
              "\n",
              "  .colab-df-quickchart:hover {\n",
              "    background-color: var(--hover-bg-color);\n",
              "    box-shadow: 0 1px 2px rgba(60, 64, 67, 0.3), 0 1px 3px 1px rgba(60, 64, 67, 0.15);\n",
              "    fill: var(--button-hover-fill-color);\n",
              "  }\n",
              "\n",
              "  .colab-df-quickchart-complete:disabled,\n",
              "  .colab-df-quickchart-complete:disabled:hover {\n",
              "    background-color: var(--disabled-bg-color);\n",
              "    fill: var(--disabled-fill-color);\n",
              "    box-shadow: none;\n",
              "  }\n",
              "\n",
              "  .colab-df-spinner {\n",
              "    border: 2px solid var(--fill-color);\n",
              "    border-color: transparent;\n",
              "    border-bottom-color: var(--fill-color);\n",
              "    animation:\n",
              "      spin 1s steps(1) infinite;\n",
              "  }\n",
              "\n",
              "  @keyframes spin {\n",
              "    0% {\n",
              "      border-color: transparent;\n",
              "      border-bottom-color: var(--fill-color);\n",
              "      border-left-color: var(--fill-color);\n",
              "    }\n",
              "    20% {\n",
              "      border-color: transparent;\n",
              "      border-left-color: var(--fill-color);\n",
              "      border-top-color: var(--fill-color);\n",
              "    }\n",
              "    30% {\n",
              "      border-color: transparent;\n",
              "      border-left-color: var(--fill-color);\n",
              "      border-top-color: var(--fill-color);\n",
              "      border-right-color: var(--fill-color);\n",
              "    }\n",
              "    40% {\n",
              "      border-color: transparent;\n",
              "      border-right-color: var(--fill-color);\n",
              "      border-top-color: var(--fill-color);\n",
              "    }\n",
              "    60% {\n",
              "      border-color: transparent;\n",
              "      border-right-color: var(--fill-color);\n",
              "    }\n",
              "    80% {\n",
              "      border-color: transparent;\n",
              "      border-right-color: var(--fill-color);\n",
              "      border-bottom-color: var(--fill-color);\n",
              "    }\n",
              "    90% {\n",
              "      border-color: transparent;\n",
              "      border-bottom-color: var(--fill-color);\n",
              "    }\n",
              "  }\n",
              "</style>\n",
              "\n",
              "  <script>\n",
              "    async function quickchart(key) {\n",
              "      const quickchartButtonEl =\n",
              "        document.querySelector('#' + key + ' button');\n",
              "      quickchartButtonEl.disabled = true;  // To prevent multiple clicks.\n",
              "      quickchartButtonEl.classList.add('colab-df-spinner');\n",
              "      try {\n",
              "        const charts = await google.colab.kernel.invokeFunction(\n",
              "            'suggestCharts', [key], {});\n",
              "      } catch (error) {\n",
              "        console.error('Error during call to suggestCharts:', error);\n",
              "      }\n",
              "      quickchartButtonEl.classList.remove('colab-df-spinner');\n",
              "      quickchartButtonEl.classList.add('colab-df-quickchart-complete');\n",
              "    }\n",
              "    (() => {\n",
              "      let quickchartButtonEl =\n",
              "        document.querySelector('#df-76f3660f-d2f3-4f86-a0f0-cc8aaca114ac button');\n",
              "      quickchartButtonEl.style.display =\n",
              "        google.colab.kernel.accessAllowed ? 'block' : 'none';\n",
              "    })();\n",
              "  </script>\n",
              "</div>\n",
              "\n",
              "  <div id=\"id_ef1f0d19-9c34-421a-92e7-02d06c101a83\">\n",
              "    <style>\n",
              "      .colab-df-generate {\n",
              "        background-color: #E8F0FE;\n",
              "        border: none;\n",
              "        border-radius: 50%;\n",
              "        cursor: pointer;\n",
              "        display: none;\n",
              "        fill: #1967D2;\n",
              "        height: 32px;\n",
              "        padding: 0 0 0 0;\n",
              "        width: 32px;\n",
              "      }\n",
              "\n",
              "      .colab-df-generate:hover {\n",
              "        background-color: #E2EBFA;\n",
              "        box-shadow: 0px 1px 2px rgba(60, 64, 67, 0.3), 0px 1px 3px 1px rgba(60, 64, 67, 0.15);\n",
              "        fill: #174EA6;\n",
              "      }\n",
              "\n",
              "      [theme=dark] .colab-df-generate {\n",
              "        background-color: #3B4455;\n",
              "        fill: #D2E3FC;\n",
              "      }\n",
              "\n",
              "      [theme=dark] .colab-df-generate:hover {\n",
              "        background-color: #434B5C;\n",
              "        box-shadow: 0px 1px 3px 1px rgba(0, 0, 0, 0.15);\n",
              "        filter: drop-shadow(0px 1px 2px rgba(0, 0, 0, 0.3));\n",
              "        fill: #FFFFFF;\n",
              "      }\n",
              "    </style>\n",
              "    <button class=\"colab-df-generate\" onclick=\"generateWithVariable('df')\"\n",
              "            title=\"Generate code using this dataframe.\"\n",
              "            style=\"display:none;\">\n",
              "\n",
              "  <svg xmlns=\"http://www.w3.org/2000/svg\" height=\"24px\"viewBox=\"0 0 24 24\"\n",
              "       width=\"24px\">\n",
              "    <path d=\"M7,19H8.4L18.45,9,17,7.55,7,17.6ZM5,21V16.75L18.45,3.32a2,2,0,0,1,2.83,0l1.4,1.43a1.91,1.91,0,0,1,.58,1.4,1.91,1.91,0,0,1-.58,1.4L9.25,21ZM18.45,9,17,7.55Zm-12,3A5.31,5.31,0,0,0,4.9,8.1,5.31,5.31,0,0,0,1,6.5,5.31,5.31,0,0,0,4.9,4.9,5.31,5.31,0,0,0,6.5,1,5.31,5.31,0,0,0,8.1,4.9,5.31,5.31,0,0,0,12,6.5,5.46,5.46,0,0,0,6.5,12Z\"/>\n",
              "  </svg>\n",
              "    </button>\n",
              "    <script>\n",
              "      (() => {\n",
              "      const buttonEl =\n",
              "        document.querySelector('#id_ef1f0d19-9c34-421a-92e7-02d06c101a83 button.colab-df-generate');\n",
              "      buttonEl.style.display =\n",
              "        google.colab.kernel.accessAllowed ? 'block' : 'none';\n",
              "\n",
              "      buttonEl.onclick = () => {\n",
              "        google.colab.notebook.generateWithVariable('df');\n",
              "      }\n",
              "      })();\n",
              "    </script>\n",
              "  </div>\n",
              "\n",
              "    </div>\n",
              "  </div>\n"
            ],
            "application/vnd.google.colaboratory.intrinsic+json": {
              "type": "dataframe",
              "variable_name": "df",
              "summary": "{\n  \"name\": \"df\",\n  \"rows\": 10524,\n  \"fields\": [\n    {\n      \"column\": \"file_name\",\n      \"properties\": {\n        \"dtype\": \"string\",\n        \"num_unique_values\": 10524,\n        \"samples\": [\n          \"oceanography.a9016921.txt\",\n          \"sociology.a9320930.txt\",\n          \"statistics.a9708176.txt\"\n        ],\n        \"semantic_type\": \"\",\n        \"description\": \"\"\n      }\n    },\n    {\n      \"column\": \"text\",\n      \"properties\": {\n        \"dtype\": \"string\",\n        \"num_unique_values\": 10513,\n        \"samples\": [\n          \"investigations of the april 22, 1991 magnitude 7.5 costa rica earthquake\",\n          \"mathematical sciences asymptotic and computational techniques for amplitude equations and weak turbulence models\",\n          \"webscales-towards a large scale metasearch engine\"\n        ],\n        \"semantic_type\": \"\",\n        \"description\": \"\"\n      }\n    },\n    {\n      \"column\": \"class\",\n      \"properties\": {\n        \"dtype\": \"category\",\n        \"num_unique_values\": 16,\n        \"samples\": [\n          \"data\",\n          \"ecology\",\n          \"hydro\"\n        ],\n        \"semantic_type\": \"\",\n        \"description\": \"\"\n      }\n    }\n  ]\n}"
            }
          },
          "metadata": {},
          "execution_count": 18
        }
      ]
    },
    {
      "cell_type": "markdown",
      "source": [
        "Count the amount of each class."
      ],
      "metadata": {
        "id": "EHnJ8YRg4Kbv"
      }
    },
    {
      "cell_type": "code",
      "source": [
        "print(df[\"class\"].value_counts())"
      ],
      "metadata": {
        "id": "4NmEzjr24FGJ",
        "colab": {
          "base_uri": "https://localhost:8080/"
        },
        "outputId": "f1178b52-8432-4f64-d7cb-165bd252936f"
      },
      "execution_count": 19,
      "outputs": [
        {
          "output_type": "stream",
          "name": "stdout",
          "text": [
            "class\n",
            "economics       1409\n",
            "math            1339\n",
            "geophysics      1202\n",
            "oceanography     990\n",
            "ecology          889\n",
            "sociology        739\n",
            "statistics       647\n",
            "politic          603\n",
            "software         524\n",
            "theory           442\n",
            "data             402\n",
            "hydro            355\n",
            "networking       345\n",
            "neuroscience     307\n",
            "metals           201\n",
            "gravitional      130\n",
            "Name: count, dtype: int64\n"
          ]
        }
      ]
    },
    {
      "cell_type": "markdown",
      "source": [
        "### Data split"
      ],
      "metadata": {
        "id": "EUDOe_Yu4y4R"
      }
    },
    {
      "cell_type": "code",
      "source": [],
      "metadata": {
        "id": "j6gNSpd2dhWC"
      },
      "execution_count": 19,
      "outputs": []
    },
    {
      "cell_type": "markdown",
      "source": [
        "Split the corpus into training data and test data."
      ],
      "metadata": {
        "id": "uWzHzDiF4dqB"
      }
    },
    {
      "cell_type": "code",
      "source": [
        "X_train, X_test, y_train, y_test = train_test_split(X, y, stratify=y, test_size=0.2, random_state=1979)"
      ],
      "metadata": {
        "id": "qLhg7jSV229_"
      },
      "execution_count": 20,
      "outputs": []
    },
    {
      "cell_type": "code",
      "source": [
        "# Show the final size of each set.\n",
        "print(f\"len(X_train): {len(X_train)}\")\n",
        "print(f\"len(X_test): {len(X_test)}\")"
      ],
      "metadata": {
        "id": "nDoeqwgc47fn",
        "colab": {
          "base_uri": "https://localhost:8080/"
        },
        "outputId": "14815d10-d439-41af-aed6-fff0f9fedfd7"
      },
      "execution_count": 21,
      "outputs": [
        {
          "output_type": "stream",
          "name": "stdout",
          "text": [
            "len(X_train): 8419\n",
            "len(X_test): 2105\n"
          ]
        }
      ]
    },
    {
      "cell_type": "markdown",
      "source": [
        "### Pipelines\n",
        "\n",
        "Create pipelines using TF-IDF to create training attribute and add the model."
      ],
      "metadata": {
        "id": "s-zpTmkn5T45"
      }
    },
    {
      "cell_type": "code",
      "source": [
        "pipeMNB = Pipeline([(\"tfidf\", TfidfVectorizer()), (\"clf\", MultinomialNB())])\n",
        "pipeLR  = Pipeline([(\"tfidf\", TfidfVectorizer()), (\"clf\", LogisticRegression(random_state=1979))])\n",
        "pipeSVC = Pipeline([(\"tfidf\", TfidfVectorizer()), (\"clf\", LinearSVC())])"
      ],
      "metadata": {
        "id": "o0rsnLec5VNG"
      },
      "execution_count": 22,
      "outputs": []
    },
    {
      "cell_type": "markdown",
      "source": [
        "### GridSearch\n",
        "\n",
        "For fine tuning we used a pipeline with TF-IDF and three different models (Multinomial Naive Bayes, Logistic Regression and Support Vector Machine). We perform hyperparameter tuning using <code>GridSearchCV</code> with 3-fold cross-validation (<code>cv</code>) and \"f1_macro\" as the strategy to evaluate the performance of the cross-validated model on the test set (<code>scoring</code>)."
      ],
      "metadata": {
        "id": "52v0Wzgk8xjd"
      }
    },
    {
      "cell_type": "markdown",
      "source": [
        "Get params for fine tuning of the models."
      ],
      "metadata": {
        "id": "ImctvhQi81lD"
      }
    },
    {
      "cell_type": "code",
      "source": [
        "paramMNB = get_multinomial_naive_bayes_params(\"clf\")\n",
        "paramLR = get_logistic_regression_params(\"clf\")\n",
        "paramSVC = get_support_vector_params(\"clf\")"
      ],
      "metadata": {
        "id": "ACu3pis383JC"
      },
      "execution_count": 23,
      "outputs": []
    },
    {
      "cell_type": "markdown",
      "source": [
        "#### Multinomial Naive Bayes"
      ],
      "metadata": {
        "id": "z92-B-Ye_FRU"
      }
    },
    {
      "cell_type": "markdown",
      "source": [
        "Training."
      ],
      "metadata": {
        "id": "i_M2eZQSEg4F"
      }
    },
    {
      "cell_type": "code",
      "source": [
        "grid_search_MNB = fit_tuning(X_train, y_train, pipeMNB, paramMNB)"
      ],
      "metadata": {
        "id": "GPPYkltS9ClY"
      },
      "execution_count": 24,
      "outputs": []
    },
    {
      "cell_type": "markdown",
      "source": [
        "Show best training scores and params."
      ],
      "metadata": {
        "id": "idtgJ8-YEj1d"
      }
    },
    {
      "cell_type": "code",
      "source": [
        "show_score_params(grid_search_MNB)"
      ],
      "metadata": {
        "id": "YV4dEVLvEipd",
        "colab": {
          "base_uri": "https://localhost:8080/"
        },
        "outputId": "0f5a7b17-4209-4fd6-f1d9-0530f2710e7c"
      },
      "execution_count": 25,
      "outputs": [
        {
          "output_type": "stream",
          "name": "stdout",
          "text": [
            "\n",
            "SVC best params:\n",
            "  Best Score: 0.8222915423483269\n",
            "  Best Params: {'clf__alpha': 0.1, 'clf__fit_prior': False, 'clf__force_alpha': True}\n"
          ]
        }
      ]
    },
    {
      "cell_type": "markdown",
      "source": [
        "Saving result into file"
      ],
      "metadata": {
        "id": "_2yh7ieUCWm4"
      }
    },
    {
      "cell_type": "code",
      "source": [
        "results_to_csv(grid_search_MNB, file_nsf + \"-mnb-results.csv\")"
      ],
      "metadata": {
        "collapsed": true,
        "id": "D4d83nPS-pS4",
        "colab": {
          "base_uri": "https://localhost:8080/"
        },
        "outputId": "b4d927df-9697-46ae-e9e6-09f853323824"
      },
      "execution_count": 26,
      "outputs": [
        {
          "output_type": "stream",
          "name": "stdout",
          "text": [
            "\n",
            "CV Results: False\n",
            "    mean_fit_time  std_fit_time  mean_score_time  std_score_time  \\\n",
            "2        0.163839      0.000704         0.082256        0.003586   \n",
            "3        0.173643      0.005211         0.085768        0.003853   \n",
            "6        0.095978      0.002315         0.047971        0.001117   \n",
            "7        0.098818      0.006992         0.046179        0.000162   \n",
            "10       0.098163      0.001108         0.049911        0.001162   \n",
            "11       0.095811      0.001981         0.049887        0.003193   \n",
            "15       0.098259      0.000563         0.048204        0.002453   \n",
            "14       0.095836      0.002271         0.046629        0.000817   \n",
            "19       0.098679      0.004691         0.046802        0.000991   \n",
            "18       0.097464      0.002354         0.051470        0.004504   \n",
            "0        0.173939      0.026636         0.094547        0.004649   \n",
            "1        0.165702      0.001214         0.085054        0.006334   \n",
            "22       0.096018      0.000719         0.046398        0.000571   \n",
            "23       0.095174      0.000303         0.050241        0.004029   \n",
            "27       0.148535      0.025799         0.081844        0.001588   \n",
            "26       0.096174      0.000027         0.045838        0.000598   \n",
            "30       0.174290      0.006517         0.085087        0.001679   \n",
            "31       0.183808      0.075720         0.063332        0.013982   \n",
            "34       0.093481      0.000520         0.051648        0.005702   \n",
            "35       0.097080      0.001948         0.047153        0.000654   \n",
            "38       0.097345      0.003867         0.051811        0.008112   \n",
            "39       0.096169      0.001610         0.047435        0.000974   \n",
            "4        0.143701      0.029688         0.058810        0.017369   \n",
            "5        0.096428      0.002125         0.047512        0.001130   \n",
            "9        0.101978      0.004672         0.048466        0.002249   \n",
            "8        0.096993      0.002596         0.047484        0.001603   \n",
            "12       0.095648      0.002211         0.049392        0.003033   \n",
            "13       0.096125      0.001926         0.051673        0.006515   \n",
            "16       0.096239      0.000438         0.051257        0.004878   \n",
            "17       0.095499      0.001265         0.046762        0.000531   \n",
            "21       0.095936      0.001352         0.047147        0.001636   \n",
            "20       0.094888      0.001866         0.050507        0.005661   \n",
            "25       0.098694      0.005145         0.046957        0.001372   \n",
            "24       0.095066      0.001494         0.045819        0.000607   \n",
            "29       0.166436      0.002961         0.081446        0.000329   \n",
            "28       0.161901      0.001624         0.081240        0.001642   \n",
            "32       0.095103      0.001062         0.046658        0.000171   \n",
            "33       0.096276      0.001975         0.046957        0.001036   \n",
            "36       0.093173      0.000619         0.050700        0.006090   \n",
            "37       0.095944      0.001181         0.047805        0.000488   \n",
            "\n",
            "    param_clf__alpha  param_clf__fit_prior  param_clf__force_alpha  \\\n",
            "2           0.100000                 False                    True   \n",
            "3           0.100000                 False                   False   \n",
            "6           0.255556                 False                    True   \n",
            "7           0.255556                 False                   False   \n",
            "10          0.411111                 False                    True   \n",
            "11          0.411111                 False                   False   \n",
            "15          0.566667                 False                   False   \n",
            "14          0.566667                 False                    True   \n",
            "19          0.722222                 False                   False   \n",
            "18          0.722222                 False                    True   \n",
            "0           0.100000                  True                    True   \n",
            "1           0.100000                  True                   False   \n",
            "22          0.877778                 False                    True   \n",
            "23          0.877778                 False                   False   \n",
            "27          1.033333                 False                   False   \n",
            "26          1.033333                 False                    True   \n",
            "30          1.188889                 False                    True   \n",
            "31          1.188889                 False                   False   \n",
            "34          1.344444                 False                    True   \n",
            "35          1.344444                 False                   False   \n",
            "38          1.500000                 False                    True   \n",
            "39          1.500000                 False                   False   \n",
            "4           0.255556                  True                    True   \n",
            "5           0.255556                  True                   False   \n",
            "9           0.411111                  True                   False   \n",
            "8           0.411111                  True                    True   \n",
            "12          0.566667                  True                    True   \n",
            "13          0.566667                  True                   False   \n",
            "16          0.722222                  True                    True   \n",
            "17          0.722222                  True                   False   \n",
            "21          0.877778                  True                   False   \n",
            "20          0.877778                  True                    True   \n",
            "25          1.033333                  True                   False   \n",
            "24          1.033333                  True                    True   \n",
            "29          1.188889                  True                   False   \n",
            "28          1.188889                  True                    True   \n",
            "32          1.344444                  True                    True   \n",
            "33          1.344444                  True                   False   \n",
            "36          1.500000                  True                    True   \n",
            "37          1.500000                  True                   False   \n",
            "\n",
            "                                               params  split0_test_score  \\\n",
            "2   {'clf__alpha': 0.1, 'clf__fit_prior': False, '...           0.811992   \n",
            "3   {'clf__alpha': 0.1, 'clf__fit_prior': False, '...           0.811992   \n",
            "6   {'clf__alpha': 0.25555555555555554, 'clf__fit_...           0.811012   \n",
            "7   {'clf__alpha': 0.25555555555555554, 'clf__fit_...           0.811012   \n",
            "10  {'clf__alpha': 0.4111111111111111, 'clf__fit_p...           0.803429   \n",
            "11  {'clf__alpha': 0.4111111111111111, 'clf__fit_p...           0.803429   \n",
            "15  {'clf__alpha': 0.5666666666666667, 'clf__fit_p...           0.795052   \n",
            "14  {'clf__alpha': 0.5666666666666667, 'clf__fit_p...           0.795052   \n",
            "19  {'clf__alpha': 0.7222222222222222, 'clf__fit_p...           0.775112   \n",
            "18  {'clf__alpha': 0.7222222222222222, 'clf__fit_p...           0.775112   \n",
            "0   {'clf__alpha': 0.1, 'clf__fit_prior': True, 'c...           0.765966   \n",
            "1   {'clf__alpha': 0.1, 'clf__fit_prior': True, 'c...           0.765966   \n",
            "22  {'clf__alpha': 0.8777777777777778, 'clf__fit_p...           0.767442   \n",
            "23  {'clf__alpha': 0.8777777777777778, 'clf__fit_p...           0.767442   \n",
            "27  {'clf__alpha': 1.0333333333333334, 'clf__fit_p...           0.759825   \n",
            "26  {'clf__alpha': 1.0333333333333334, 'clf__fit_p...           0.759825   \n",
            "30  {'clf__alpha': 1.188888888888889, 'clf__fit_pr...           0.756442   \n",
            "31  {'clf__alpha': 1.188888888888889, 'clf__fit_pr...           0.756442   \n",
            "34  {'clf__alpha': 1.3444444444444446, 'clf__fit_p...           0.743811   \n",
            "35  {'clf__alpha': 1.3444444444444446, 'clf__fit_p...           0.743811   \n",
            "38  {'clf__alpha': 1.5, 'clf__fit_prior': False, '...           0.735563   \n",
            "39  {'clf__alpha': 1.5, 'clf__fit_prior': False, '...           0.735563   \n",
            "4   {'clf__alpha': 0.25555555555555554, 'clf__fit_...           0.710524   \n",
            "5   {'clf__alpha': 0.25555555555555554, 'clf__fit_...           0.710524   \n",
            "9   {'clf__alpha': 0.4111111111111111, 'clf__fit_p...           0.647892   \n",
            "8   {'clf__alpha': 0.4111111111111111, 'clf__fit_p...           0.647892   \n",
            "12  {'clf__alpha': 0.5666666666666667, 'clf__fit_p...           0.604662   \n",
            "13  {'clf__alpha': 0.5666666666666667, 'clf__fit_p...           0.604662   \n",
            "16  {'clf__alpha': 0.7222222222222222, 'clf__fit_p...           0.573150   \n",
            "17  {'clf__alpha': 0.7222222222222222, 'clf__fit_p...           0.573150   \n",
            "21  {'clf__alpha': 0.8777777777777778, 'clf__fit_p...           0.542324   \n",
            "20  {'clf__alpha': 0.8777777777777778, 'clf__fit_p...           0.542324   \n",
            "25  {'clf__alpha': 1.0333333333333334, 'clf__fit_p...           0.512375   \n",
            "24  {'clf__alpha': 1.0333333333333334, 'clf__fit_p...           0.512375   \n",
            "29  {'clf__alpha': 1.188888888888889, 'clf__fit_pr...           0.486410   \n",
            "28  {'clf__alpha': 1.188888888888889, 'clf__fit_pr...           0.486410   \n",
            "32  {'clf__alpha': 1.3444444444444446, 'clf__fit_p...           0.470188   \n",
            "33  {'clf__alpha': 1.3444444444444446, 'clf__fit_p...           0.470188   \n",
            "36  {'clf__alpha': 1.5, 'clf__fit_prior': True, 'c...           0.451481   \n",
            "37  {'clf__alpha': 1.5, 'clf__fit_prior': True, 'c...           0.451481   \n",
            "\n",
            "    split1_test_score  split2_test_score  mean_test_score  std_test_score  \\\n",
            "2            0.827088           0.827794         0.822292        0.007288   \n",
            "3            0.827088           0.827794         0.822292        0.007288   \n",
            "6            0.823326           0.830134         0.821491        0.007914   \n",
            "7            0.823326           0.830134         0.821491        0.007914   \n",
            "10           0.814676           0.819815         0.812640        0.006842   \n",
            "11           0.814676           0.819815         0.812640        0.006842   \n",
            "15           0.798933           0.814896         0.802960        0.008587   \n",
            "14           0.798933           0.814896         0.802960        0.008587   \n",
            "19           0.788168           0.806211         0.789830        0.012750   \n",
            "18           0.788168           0.806211         0.789830        0.012750   \n",
            "0            0.785286           0.801905         0.784385        0.014686   \n",
            "1            0.785286           0.801905         0.784385        0.014686   \n",
            "22           0.775925           0.790001         0.777789        0.009304   \n",
            "23           0.775925           0.790001         0.777789        0.009304   \n",
            "27           0.765912           0.774373         0.766703        0.005965   \n",
            "26           0.765912           0.774373         0.766703        0.005965   \n",
            "30           0.756501           0.767301         0.760082        0.005105   \n",
            "31           0.756501           0.767301         0.760082        0.005105   \n",
            "34           0.743082           0.759951         0.748948        0.007786   \n",
            "35           0.743082           0.759951         0.748948        0.007786   \n",
            "38           0.733186           0.755926         0.741559        0.010206   \n",
            "39           0.733186           0.755926         0.741559        0.010206   \n",
            "4            0.709697           0.745170         0.721797        0.016531   \n",
            "5            0.709697           0.745170         0.721797        0.016531   \n",
            "9            0.644513           0.682822         0.658409        0.017317   \n",
            "8            0.644513           0.682822         0.658409        0.017317   \n",
            "12           0.587431           0.627625         0.606573        0.016465   \n",
            "13           0.587431           0.627625         0.606573        0.016465   \n",
            "16           0.555848           0.582410         0.570470        0.011008   \n",
            "17           0.555848           0.582410         0.570470        0.011008   \n",
            "21           0.521783           0.556178         0.540095        0.014130   \n",
            "20           0.521783           0.556178         0.540095        0.014130   \n",
            "25           0.482875           0.530989         0.508746        0.019809   \n",
            "24           0.482875           0.530989         0.508746        0.019809   \n",
            "29           0.463495           0.499391         0.483099        0.014840   \n",
            "28           0.463495           0.499391         0.483099        0.014840   \n",
            "32           0.443404           0.481417         0.465003        0.015946   \n",
            "33           0.443404           0.481417         0.465003        0.015946   \n",
            "36           0.429046           0.456996         0.445841        0.012087   \n",
            "37           0.429046           0.456996         0.445841        0.012087   \n",
            "\n",
            "    rank_test_score  \n",
            "2                 1  \n",
            "3                 1  \n",
            "6                 3  \n",
            "7                 3  \n",
            "10                5  \n",
            "11                5  \n",
            "15                7  \n",
            "14                7  \n",
            "19                9  \n",
            "18                9  \n",
            "0                11  \n",
            "1                11  \n",
            "22               13  \n",
            "23               13  \n",
            "27               15  \n",
            "26               15  \n",
            "30               17  \n",
            "31               17  \n",
            "34               19  \n",
            "35               19  \n",
            "38               21  \n",
            "39               21  \n",
            "4                23  \n",
            "5                23  \n",
            "9                25  \n",
            "8                25  \n",
            "12               27  \n",
            "13               27  \n",
            "16               29  \n",
            "17               29  \n",
            "21               31  \n",
            "20               31  \n",
            "25               33  \n",
            "24               33  \n",
            "29               35  \n",
            "28               35  \n",
            "32               37  \n",
            "33               37  \n",
            "36               39  \n",
            "37               39   False\n"
          ]
        }
      ]
    },
    {
      "cell_type": "markdown",
      "source": [
        "Verify the result score in the test set."
      ],
      "metadata": {
        "id": "IkoUWAaDCZ5s"
      }
    },
    {
      "cell_type": "code",
      "source": [
        "score_test_set(grid_search_MNB, X_test, y_test)"
      ],
      "metadata": {
        "id": "B4ZREHYPE7el",
        "colab": {
          "base_uri": "https://localhost:8080/"
        },
        "outputId": "a7badbcb-3889-4d7f-ef1c-7b850f96cdf6"
      },
      "execution_count": 27,
      "outputs": [
        {
          "output_type": "stream",
          "name": "stdout",
          "text": [
            "\n",
            "Test evaluation:\n",
            "  F1-macro: 0.8467467117985801\n"
          ]
        }
      ]
    },
    {
      "cell_type": "markdown",
      "source": [
        "#### Logistic Regression"
      ],
      "metadata": {
        "id": "75UK_qpNFn3h"
      }
    },
    {
      "cell_type": "markdown",
      "source": [
        "Training."
      ],
      "metadata": {
        "id": "3iUVZhEsFn4D"
      }
    },
    {
      "cell_type": "code",
      "source": [
        "grid_search_LR = fit_tuning(X_train, y_train, pipeLR, paramLR)"
      ],
      "metadata": {
        "id": "deuEgCzZFn4E",
        "colab": {
          "base_uri": "https://localhost:8080/"
        },
        "outputId": "d285d2a9-bec7-4e1b-a00d-017b9187ca80"
      },
      "execution_count": 28,
      "outputs": [
        {
          "output_type": "stream",
          "name": "stderr",
          "text": [
            "/usr/local/lib/python3.10/dist-packages/sklearn/linear_model/_logistic.py:469: ConvergenceWarning: lbfgs failed to converge (status=1):\n",
            "STOP: TOTAL NO. of ITERATIONS REACHED LIMIT.\n",
            "\n",
            "Increase the number of iterations (max_iter) or scale the data as shown in:\n",
            "    https://scikit-learn.org/stable/modules/preprocessing.html\n",
            "Please also refer to the documentation for alternative solver options:\n",
            "    https://scikit-learn.org/stable/modules/linear_model.html#logistic-regression\n",
            "  n_iter_i = _check_optimize_result(\n"
          ]
        }
      ]
    },
    {
      "cell_type": "markdown",
      "source": [
        "Show best training scores and params."
      ],
      "metadata": {
        "id": "xEAZ1FNIFn4G"
      }
    },
    {
      "cell_type": "code",
      "source": [
        "show_score_params(grid_search_LR)"
      ],
      "metadata": {
        "id": "VIAGxx3CFn4G",
        "colab": {
          "base_uri": "https://localhost:8080/"
        },
        "outputId": "e68c71bf-2f7e-48e1-eb6e-9e2bc388234f"
      },
      "execution_count": 29,
      "outputs": [
        {
          "output_type": "stream",
          "name": "stdout",
          "text": [
            "\n",
            "SVC best params:\n",
            "  Best Score: 0.8349633711471355\n",
            "  Best Params: {'clf__C': 5.994842503189409, 'clf__class_weight': 'balanced', 'clf__max_iter': 100, 'clf__solver': 'lbfgs'}\n"
          ]
        }
      ]
    },
    {
      "cell_type": "markdown",
      "source": [
        "Saving result into file"
      ],
      "metadata": {
        "id": "arLQto_nFn4H"
      }
    },
    {
      "cell_type": "code",
      "source": [
        "results_to_csv(grid_search_LR, file_nsf + \"-lt-results.csv\")"
      ],
      "metadata": {
        "collapsed": true,
        "id": "oEbaUt4jFn4H",
        "colab": {
          "base_uri": "https://localhost:8080/"
        },
        "outputId": "46c8a752-c0af-4c19-8e36-91d92fb3b5e7"
      },
      "execution_count": 30,
      "outputs": [
        {
          "output_type": "stream",
          "name": "stdout",
          "text": [
            "\n",
            "CV Results: False\n",
            "    mean_fit_time  std_fit_time  mean_score_time  std_score_time  \\\n",
            "59       2.814038      0.170119         0.115840        0.013411   \n",
            "55       3.655732      0.661706         0.126490        0.029397   \n",
            "57       3.505612      0.846266         0.142011        0.017937   \n",
            "54       0.364597      0.007879         0.054432        0.003834   \n",
            "56       0.362180      0.002704         0.055876        0.005546   \n",
            "..            ...           ...              ...             ...   \n",
            "5        4.482603      1.470172         0.122758        0.010926   \n",
            "15       0.852089      0.043278         0.125393        0.004369   \n",
            "3        4.723911      1.260914         0.113809        0.016184   \n",
            "17       0.840442      0.180675         0.139278        0.009991   \n",
            "1        5.513883      1.470810         0.123356        0.009740   \n",
            "\n",
            "    param_clf__C param_clf__class_weight  param_clf__max_iter  \\\n",
            "59      5.994843                balanced                  500   \n",
            "55      5.994843                balanced                  100   \n",
            "57      5.994843                balanced                  200   \n",
            "54      5.994843                balanced                  100   \n",
            "56      5.994843                balanced                  200   \n",
            "..           ...                     ...                  ...   \n",
            "5       0.000010                    None                  500   \n",
            "15      0.000278                    None                  200   \n",
            "3       0.000010                    None                  200   \n",
            "17      0.000278                    None                  500   \n",
            "1       0.000010                    None                  100   \n",
            "\n",
            "   param_clf__solver                                             params  \\\n",
            "59             lbfgs  {'clf__C': 5.994842503189409, 'clf__class_weig...   \n",
            "55             lbfgs  {'clf__C': 5.994842503189409, 'clf__class_weig...   \n",
            "57             lbfgs  {'clf__C': 5.994842503189409, 'clf__class_weig...   \n",
            "54         liblinear  {'clf__C': 5.994842503189409, 'clf__class_weig...   \n",
            "56         liblinear  {'clf__C': 5.994842503189409, 'clf__class_weig...   \n",
            "..               ...                                                ...   \n",
            "5              lbfgs  {'clf__C': 1e-05, 'clf__class_weight': None, '...   \n",
            "15             lbfgs  {'clf__C': 0.0002782559402207126, 'clf__class_...   \n",
            "3              lbfgs  {'clf__C': 1e-05, 'clf__class_weight': None, '...   \n",
            "17             lbfgs  {'clf__C': 0.0002782559402207126, 'clf__class_...   \n",
            "1              lbfgs  {'clf__C': 1e-05, 'clf__class_weight': None, '...   \n",
            "\n",
            "    split0_test_score  split1_test_score  split2_test_score  mean_test_score  \\\n",
            "59           0.827383           0.837136           0.840371         0.834963   \n",
            "55           0.827383           0.837136           0.840371         0.834963   \n",
            "57           0.827383           0.837136           0.840371         0.834963   \n",
            "54           0.824077           0.838748           0.841265         0.834697   \n",
            "56           0.824077           0.838748           0.841265         0.834697   \n",
            "..                ...                ...                ...              ...   \n",
            "5            0.014731           0.014771           0.014771         0.014757   \n",
            "15           0.014731           0.014771           0.014771         0.014757   \n",
            "3            0.014731           0.014771           0.014771         0.014757   \n",
            "17           0.014731           0.014771           0.014771         0.014757   \n",
            "1            0.014731           0.014771           0.014771         0.014757   \n",
            "\n",
            "    std_test_score  rank_test_score  \n",
            "59        0.005520                1  \n",
            "55        0.005520                1  \n",
            "57        0.005520                1  \n",
            "54        0.007579                4  \n",
            "56        0.007579                4  \n",
            "..             ...              ...  \n",
            "5         0.000019              115  \n",
            "15        0.000019              115  \n",
            "3         0.000019              115  \n",
            "17        0.000019              115  \n",
            "1         0.000019              115  \n",
            "\n",
            "[120 rows x 15 columns] False\n"
          ]
        }
      ]
    },
    {
      "cell_type": "markdown",
      "source": [
        "Verify the result score in the test set."
      ],
      "metadata": {
        "id": "BfDurF8CFn4I"
      }
    },
    {
      "cell_type": "code",
      "source": [
        "score_test_set(grid_search_LR, X_test, y_test)"
      ],
      "metadata": {
        "id": "wIz9bycuFn4J",
        "colab": {
          "base_uri": "https://localhost:8080/"
        },
        "outputId": "fc8508d9-ee1c-4b9a-9b19-0a6d6ac268c0"
      },
      "execution_count": 31,
      "outputs": [
        {
          "output_type": "stream",
          "name": "stdout",
          "text": [
            "\n",
            "Test evaluation:\n",
            "  F1-macro: 0.864368871660672\n"
          ]
        }
      ]
    },
    {
      "cell_type": "markdown",
      "source": [
        "#### Support Vector Classifier"
      ],
      "metadata": {
        "id": "rQMcF-yjGu63"
      }
    },
    {
      "cell_type": "markdown",
      "source": [
        "Training."
      ],
      "metadata": {
        "id": "x3F7YXxnGu7d"
      }
    },
    {
      "cell_type": "code",
      "source": [
        "grid_search_SVC = fit_tuning(X_train, y_train, pipeSVC, paramSVC)"
      ],
      "metadata": {
        "id": "VfVNSK2lGu7e"
      },
      "execution_count": 32,
      "outputs": []
    },
    {
      "cell_type": "markdown",
      "source": [
        "Show best training scores and params."
      ],
      "metadata": {
        "id": "6FsT2DqFGu7f"
      }
    },
    {
      "cell_type": "code",
      "source": [
        "show_score_params(grid_search_SVC)"
      ],
      "metadata": {
        "id": "554Znd9LGu7g",
        "colab": {
          "base_uri": "https://localhost:8080/"
        },
        "outputId": "ef6fdbcd-fda3-45ab-d1fb-7befe9d98c97"
      },
      "execution_count": 33,
      "outputs": [
        {
          "output_type": "stream",
          "name": "stdout",
          "text": [
            "\n",
            "SVC best params:\n",
            "  Best Score: 0.8373968294014311\n",
            "  Best Params: {'clf__class_weight': 'balanced', 'clf__tol': 0.4393970560760795}\n"
          ]
        }
      ]
    },
    {
      "cell_type": "markdown",
      "source": [
        "Saving result into file"
      ],
      "metadata": {
        "id": "_Qhia8rOGu7h"
      }
    },
    {
      "cell_type": "code",
      "source": [
        "results_to_csv(grid_search_SVC, file_nsf + \"-svc-results.csv\")"
      ],
      "metadata": {
        "collapsed": true,
        "id": "sNS3LVSTGu7i",
        "colab": {
          "base_uri": "https://localhost:8080/"
        },
        "outputId": "1a2b79d7-c091-48d1-b12e-653086655083"
      },
      "execution_count": 34,
      "outputs": [
        {
          "output_type": "stream",
          "name": "stdout",
          "text": [
            "\n",
            "CV Results: False\n",
            "    mean_fit_time  std_fit_time  mean_score_time  std_score_time  \\\n",
            "20       0.142953      0.005974         0.052780        0.001373   \n",
            "15       0.228691      0.000668         0.051972        0.000208   \n",
            "18       0.172589      0.002156         0.051699        0.000774   \n",
            "17       0.189185      0.002649         0.053527        0.001472   \n",
            "16       0.208313      0.004510         0.052080        0.001306   \n",
            "19       0.159968      0.004832         0.051916        0.000459   \n",
            "5        0.134941      0.000607         0.052030        0.001268   \n",
            "3        0.169047      0.003205         0.052174        0.000665   \n",
            "4        0.160000      0.008087         0.053003        0.001476   \n",
            "1        0.209341      0.012125         0.053054        0.000804   \n",
            "0        0.222358      0.003323         0.058323        0.008343   \n",
            "2        0.180856      0.002091         0.051062        0.000472   \n",
            "11       0.160417      0.004112         0.094135        0.004914   \n",
            "8        0.094583      0.000991         0.056911        0.004775   \n",
            "7        0.095047      0.001735         0.052739        0.001678   \n",
            "9        0.138010      0.030607         0.084665        0.005901   \n",
            "6        0.096418      0.005403         0.052114        0.001599   \n",
            "25       0.098430      0.004571         0.052379        0.000314   \n",
            "26       0.092954      0.000447         0.052788        0.000587   \n",
            "10       0.165070      0.011671         0.090386        0.001409   \n",
            "22       0.097006      0.004214         0.053813        0.001496   \n",
            "27       0.099561      0.006026         0.056743        0.004669   \n",
            "14       0.098484      0.003680         0.054974        0.000807   \n",
            "21       0.098372      0.005911         0.056374        0.005132   \n",
            "12       0.168311      0.005286         0.092920        0.001645   \n",
            "24       0.095731      0.001260         0.051509        0.001615   \n",
            "29       0.094157      0.001452         0.054976        0.003598   \n",
            "28       0.094314      0.001379         0.052679        0.001616   \n",
            "23       0.096618      0.002691         0.054511        0.002181   \n",
            "13       0.149333      0.021903         0.082198        0.020622   \n",
            "\n",
            "   param_clf__class_weight  param_clf__tol  \\\n",
            "20                balanced    4.393971e-01   \n",
            "15                balanced    1.000000e-05   \n",
            "18                balanced    6.105402e-03   \n",
            "17                balanced    7.196857e-04   \n",
            "16                balanced    8.483429e-05   \n",
            "19                balanced    5.179475e-02   \n",
            "5                     None    4.393971e-01   \n",
            "3                     None    6.105402e-03   \n",
            "4                     None    5.179475e-02   \n",
            "1                     None    8.483429e-05   \n",
            "0                     None    1.000000e-05   \n",
            "2                     None    7.196857e-04   \n",
            "11                    None    1.637894e+05   \n",
            "8                     None    2.682696e+02   \n",
            "7                     None    3.162278e+01   \n",
            "9                     None    2.275846e+03   \n",
            "6                     None    3.727594e+00   \n",
            "25                balanced    1.930698e+04   \n",
            "26                balanced    1.637894e+05   \n",
            "10                    None    1.930698e+04   \n",
            "22                balanced    3.162278e+01   \n",
            "27                balanced    1.389495e+06   \n",
            "14                    None    1.000000e+08   \n",
            "21                balanced    3.727594e+00   \n",
            "12                    None    1.389495e+06   \n",
            "24                balanced    2.275846e+03   \n",
            "29                balanced    1.000000e+08   \n",
            "28                balanced    1.178769e+07   \n",
            "23                balanced    2.682696e+02   \n",
            "13                    None    1.178769e+07   \n",
            "\n",
            "                                               params  split0_test_score  \\\n",
            "20  {'clf__class_weight': 'balanced', 'clf__tol': ...           0.830694   \n",
            "15  {'clf__class_weight': 'balanced', 'clf__tol': ...           0.830852   \n",
            "18  {'clf__class_weight': 'balanced', 'clf__tol': ...           0.830852   \n",
            "17  {'clf__class_weight': 'balanced', 'clf__tol': ...           0.830852   \n",
            "16  {'clf__class_weight': 'balanced', 'clf__tol': ...           0.830852   \n",
            "19  {'clf__class_weight': 'balanced', 'clf__tol': ...           0.831064   \n",
            "5   {'clf__class_weight': None, 'clf__tol': 0.4393...           0.833770   \n",
            "3   {'clf__class_weight': None, 'clf__tol': 0.0061...           0.831788   \n",
            "4   {'clf__class_weight': None, 'clf__tol': 0.0517...           0.832393   \n",
            "1   {'clf__class_weight': None, 'clf__tol': 8.4834...           0.831788   \n",
            "0      {'clf__class_weight': None, 'clf__tol': 1e-05}           0.831788   \n",
            "2   {'clf__class_weight': None, 'clf__tol': 0.0007...           0.831788   \n",
            "11  {'clf__class_weight': None, 'clf__tol': 163789...           0.768176   \n",
            "8   {'clf__class_weight': None, 'clf__tol': 268.26...           0.789221   \n",
            "7   {'clf__class_weight': None, 'clf__tol': 31.622...           0.766863   \n",
            "9   {'clf__class_weight': None, 'clf__tol': 2275.8...           0.789665   \n",
            "6   {'clf__class_weight': None, 'clf__tol': 3.7275...           0.788181   \n",
            "25  {'clf__class_weight': 'balanced', 'clf__tol': ...           0.783968   \n",
            "26  {'clf__class_weight': 'balanced', 'clf__tol': ...           0.767904   \n",
            "10  {'clf__class_weight': None, 'clf__tol': 19306....           0.798941   \n",
            "22  {'clf__class_weight': 'balanced', 'clf__tol': ...           0.768072   \n",
            "27  {'clf__class_weight': 'balanced', 'clf__tol': ...           0.801065   \n",
            "14  {'clf__class_weight': None, 'clf__tol': 100000...           0.771192   \n",
            "21  {'clf__class_weight': 'balanced', 'clf__tol': ...           0.766287   \n",
            "12  {'clf__class_weight': None, 'clf__tol': 138949...           0.777516   \n",
            "24  {'clf__class_weight': 'balanced', 'clf__tol': ...           0.793694   \n",
            "29  {'clf__class_weight': 'balanced', 'clf__tol': ...           0.729840   \n",
            "28  {'clf__class_weight': 'balanced', 'clf__tol': ...           0.784871   \n",
            "23  {'clf__class_weight': 'balanced', 'clf__tol': ...           0.750312   \n",
            "13  {'clf__class_weight': None, 'clf__tol': 117876...           0.729344   \n",
            "\n",
            "    split1_test_score  split2_test_score  mean_test_score  std_test_score  \\\n",
            "20           0.843917           0.837580         0.837397        0.005400   \n",
            "15           0.841977           0.835578         0.836136        0.004559   \n",
            "18           0.841977           0.835578         0.836136        0.004559   \n",
            "17           0.841977           0.835578         0.836136        0.004559   \n",
            "16           0.841977           0.835578         0.836136        0.004559   \n",
            "19           0.841680           0.835454         0.836066        0.004355   \n",
            "5            0.834450           0.838170         0.835464        0.001934   \n",
            "3            0.832698           0.837903         0.834130        0.002694   \n",
            "4            0.831852           0.837903         0.834049        0.002734   \n",
            "1            0.832188           0.837903         0.833959        0.002793   \n",
            "0            0.832188           0.837903         0.833959        0.002793   \n",
            "2            0.832188           0.837903         0.833959        0.002793   \n",
            "11           0.801649           0.795645         0.788490        0.014572   \n",
            "8            0.782282           0.793736         0.788413        0.004711   \n",
            "7            0.797742           0.799013         0.787873        0.014865   \n",
            "9            0.784649           0.788575         0.787630        0.002154   \n",
            "6            0.767765           0.799175         0.785041        0.013014   \n",
            "25           0.797397           0.772758         0.784707        0.010072   \n",
            "26           0.768811           0.808797         0.781837        0.019067   \n",
            "10           0.765767           0.779917         0.781542        0.013592   \n",
            "22           0.784860           0.786010         0.779647        0.008198   \n",
            "27           0.792469           0.736347         0.776627        0.028698   \n",
            "14           0.727743           0.828068         0.775668        0.041080   \n",
            "21           0.775319           0.785178         0.775594        0.007715   \n",
            "12           0.755875           0.793020         0.775470        0.015233   \n",
            "24           0.756034           0.772464         0.774064        0.015416   \n",
            "29           0.764644           0.814965         0.769816        0.034944   \n",
            "28           0.790102           0.725521         0.766831        0.029289   \n",
            "23           0.788770           0.746672         0.761918        0.019045   \n",
            "13           0.699594           0.777872         0.735603        0.032262   \n",
            "\n",
            "    rank_test_score  \n",
            "20                1  \n",
            "15                2  \n",
            "18                2  \n",
            "17                2  \n",
            "16                2  \n",
            "19                6  \n",
            "5                 7  \n",
            "3                 8  \n",
            "4                 9  \n",
            "1                10  \n",
            "0                10  \n",
            "2                10  \n",
            "11               13  \n",
            "8                14  \n",
            "7                15  \n",
            "9                16  \n",
            "6                17  \n",
            "25               18  \n",
            "26               19  \n",
            "10               20  \n",
            "22               21  \n",
            "27               22  \n",
            "14               23  \n",
            "21               24  \n",
            "12               25  \n",
            "24               26  \n",
            "29               27  \n",
            "28               28  \n",
            "23               29  \n",
            "13               30   False\n"
          ]
        }
      ]
    },
    {
      "cell_type": "markdown",
      "source": [
        "Verify the result score in the test set."
      ],
      "metadata": {
        "id": "aDylGD9HGu7i"
      }
    },
    {
      "cell_type": "code",
      "source": [
        "score_test_set(grid_search_SVC, X_test, y_test)"
      ],
      "metadata": {
        "id": "DAP4xzEBGu7j",
        "colab": {
          "base_uri": "https://localhost:8080/"
        },
        "outputId": "53966a89-f70b-43b1-8863-74df63d25cb4"
      },
      "execution_count": 35,
      "outputs": [
        {
          "output_type": "stream",
          "name": "stdout",
          "text": [
            "\n",
            "Test evaluation:\n",
            "  F1-macro: 0.86368707204037\n"
          ]
        }
      ]
    },
    {
      "cell_type": "markdown",
      "source": [
        "## Corpus: Dmoz-Science"
      ],
      "metadata": {
        "id": "eaA632TZfh8A"
      }
    },
    {
      "cell_type": "markdown",
      "source": [
        "### Load texts"
      ],
      "metadata": {
        "id": "NUplNAoofh8B"
      }
    },
    {
      "cell_type": "markdown",
      "source": [
        "Load texts from the dataset file (corpus)"
      ],
      "metadata": {
        "id": "AE3EB1_hfh8B"
      }
    },
    {
      "cell_type": "code",
      "source": [
        "df, X, y = read_dataset(dest_folder + f\"/{file_dmoz}.csv\")"
      ],
      "metadata": {
        "id": "Hk-AikXwfh8B"
      },
      "execution_count": 36,
      "outputs": []
    },
    {
      "cell_type": "markdown",
      "source": [
        "Raw dataframe loaded."
      ],
      "metadata": {
        "id": "0a8O440Cfh8B"
      }
    },
    {
      "cell_type": "code",
      "source": [
        "df"
      ],
      "metadata": {
        "id": "C8Mrq2mCfh8B",
        "colab": {
          "base_uri": "https://localhost:8080/",
          "height": 424
        },
        "outputId": "9c5ec003-9aa8-41d8-fdbf-59594524d0bd"
      },
      "execution_count": 37,
      "outputs": [
        {
          "output_type": "execute_result",
          "data": {
            "text/plain": [
              "        file_name                                               text  \\\n",
              "0     2786497.txt  Texas A&amp;M Horticultural Extension - Vegeta...   \n",
              "1     2784741.txt  Algaculture Information from Wikipedia on this...   \n",
              "2     2785016.txt  Annual Canarygrass Factsheet on this grain cro...   \n",
              "3     2786133.txt  Black Sigatoka Photographs and information on ...   \n",
              "4     2786989.txt  Irrigation Training and Research Center Univer...   \n",
              "...           ...                                                ...   \n",
              "5995  2881706.txt  Canmet Energy Technology Center Information ab...   \n",
              "5996  2886909.txt  Utah Space Association Provides information ab...   \n",
              "5997  2887110.txt  Mission 51-L Provides a critical view of the r...   \n",
              "5998  2887157.txt  New York (SEAoNY) News announcements, committe...   \n",
              "5999  2877917.txt  World Airline Historical Society Provides info...   \n",
              "\n",
              "            class  \n",
              "0     Agriculture  \n",
              "1     Agriculture  \n",
              "2     Agriculture  \n",
              "3     Agriculture  \n",
              "4     Agriculture  \n",
              "...           ...  \n",
              "5995   Technology  \n",
              "5996   Technology  \n",
              "5997   Technology  \n",
              "5998   Technology  \n",
              "5999   Technology  \n",
              "\n",
              "[6000 rows x 3 columns]"
            ],
            "text/html": [
              "\n",
              "  <div id=\"df-fb2c38da-b885-447d-b513-0647df006012\" class=\"colab-df-container\">\n",
              "    <div>\n",
              "<style scoped>\n",
              "    .dataframe tbody tr th:only-of-type {\n",
              "        vertical-align: middle;\n",
              "    }\n",
              "\n",
              "    .dataframe tbody tr th {\n",
              "        vertical-align: top;\n",
              "    }\n",
              "\n",
              "    .dataframe thead th {\n",
              "        text-align: right;\n",
              "    }\n",
              "</style>\n",
              "<table border=\"1\" class=\"dataframe\">\n",
              "  <thead>\n",
              "    <tr style=\"text-align: right;\">\n",
              "      <th></th>\n",
              "      <th>file_name</th>\n",
              "      <th>text</th>\n",
              "      <th>class</th>\n",
              "    </tr>\n",
              "  </thead>\n",
              "  <tbody>\n",
              "    <tr>\n",
              "      <th>0</th>\n",
              "      <td>2786497.txt</td>\n",
              "      <td>Texas A&amp;amp;M Horticultural Extension - Vegeta...</td>\n",
              "      <td>Agriculture</td>\n",
              "    </tr>\n",
              "    <tr>\n",
              "      <th>1</th>\n",
              "      <td>2784741.txt</td>\n",
              "      <td>Algaculture Information from Wikipedia on this...</td>\n",
              "      <td>Agriculture</td>\n",
              "    </tr>\n",
              "    <tr>\n",
              "      <th>2</th>\n",
              "      <td>2785016.txt</td>\n",
              "      <td>Annual Canarygrass Factsheet on this grain cro...</td>\n",
              "      <td>Agriculture</td>\n",
              "    </tr>\n",
              "    <tr>\n",
              "      <th>3</th>\n",
              "      <td>2786133.txt</td>\n",
              "      <td>Black Sigatoka Photographs and information on ...</td>\n",
              "      <td>Agriculture</td>\n",
              "    </tr>\n",
              "    <tr>\n",
              "      <th>4</th>\n",
              "      <td>2786989.txt</td>\n",
              "      <td>Irrigation Training and Research Center Univer...</td>\n",
              "      <td>Agriculture</td>\n",
              "    </tr>\n",
              "    <tr>\n",
              "      <th>...</th>\n",
              "      <td>...</td>\n",
              "      <td>...</td>\n",
              "      <td>...</td>\n",
              "    </tr>\n",
              "    <tr>\n",
              "      <th>5995</th>\n",
              "      <td>2881706.txt</td>\n",
              "      <td>Canmet Energy Technology Center Information ab...</td>\n",
              "      <td>Technology</td>\n",
              "    </tr>\n",
              "    <tr>\n",
              "      <th>5996</th>\n",
              "      <td>2886909.txt</td>\n",
              "      <td>Utah Space Association Provides information ab...</td>\n",
              "      <td>Technology</td>\n",
              "    </tr>\n",
              "    <tr>\n",
              "      <th>5997</th>\n",
              "      <td>2887110.txt</td>\n",
              "      <td>Mission 51-L Provides a critical view of the r...</td>\n",
              "      <td>Technology</td>\n",
              "    </tr>\n",
              "    <tr>\n",
              "      <th>5998</th>\n",
              "      <td>2887157.txt</td>\n",
              "      <td>New York (SEAoNY) News announcements, committe...</td>\n",
              "      <td>Technology</td>\n",
              "    </tr>\n",
              "    <tr>\n",
              "      <th>5999</th>\n",
              "      <td>2877917.txt</td>\n",
              "      <td>World Airline Historical Society Provides info...</td>\n",
              "      <td>Technology</td>\n",
              "    </tr>\n",
              "  </tbody>\n",
              "</table>\n",
              "<p>6000 rows × 3 columns</p>\n",
              "</div>\n",
              "    <div class=\"colab-df-buttons\">\n",
              "\n",
              "  <div class=\"colab-df-container\">\n",
              "    <button class=\"colab-df-convert\" onclick=\"convertToInteractive('df-fb2c38da-b885-447d-b513-0647df006012')\"\n",
              "            title=\"Convert this dataframe to an interactive table.\"\n",
              "            style=\"display:none;\">\n",
              "\n",
              "  <svg xmlns=\"http://www.w3.org/2000/svg\" height=\"24px\" viewBox=\"0 -960 960 960\">\n",
              "    <path d=\"M120-120v-720h720v720H120Zm60-500h600v-160H180v160Zm220 220h160v-160H400v160Zm0 220h160v-160H400v160ZM180-400h160v-160H180v160Zm440 0h160v-160H620v160ZM180-180h160v-160H180v160Zm440 0h160v-160H620v160Z\"/>\n",
              "  </svg>\n",
              "    </button>\n",
              "\n",
              "  <style>\n",
              "    .colab-df-container {\n",
              "      display:flex;\n",
              "      gap: 12px;\n",
              "    }\n",
              "\n",
              "    .colab-df-convert {\n",
              "      background-color: #E8F0FE;\n",
              "      border: none;\n",
              "      border-radius: 50%;\n",
              "      cursor: pointer;\n",
              "      display: none;\n",
              "      fill: #1967D2;\n",
              "      height: 32px;\n",
              "      padding: 0 0 0 0;\n",
              "      width: 32px;\n",
              "    }\n",
              "\n",
              "    .colab-df-convert:hover {\n",
              "      background-color: #E2EBFA;\n",
              "      box-shadow: 0px 1px 2px rgba(60, 64, 67, 0.3), 0px 1px 3px 1px rgba(60, 64, 67, 0.15);\n",
              "      fill: #174EA6;\n",
              "    }\n",
              "\n",
              "    .colab-df-buttons div {\n",
              "      margin-bottom: 4px;\n",
              "    }\n",
              "\n",
              "    [theme=dark] .colab-df-convert {\n",
              "      background-color: #3B4455;\n",
              "      fill: #D2E3FC;\n",
              "    }\n",
              "\n",
              "    [theme=dark] .colab-df-convert:hover {\n",
              "      background-color: #434B5C;\n",
              "      box-shadow: 0px 1px 3px 1px rgba(0, 0, 0, 0.15);\n",
              "      filter: drop-shadow(0px 1px 2px rgba(0, 0, 0, 0.3));\n",
              "      fill: #FFFFFF;\n",
              "    }\n",
              "  </style>\n",
              "\n",
              "    <script>\n",
              "      const buttonEl =\n",
              "        document.querySelector('#df-fb2c38da-b885-447d-b513-0647df006012 button.colab-df-convert');\n",
              "      buttonEl.style.display =\n",
              "        google.colab.kernel.accessAllowed ? 'block' : 'none';\n",
              "\n",
              "      async function convertToInteractive(key) {\n",
              "        const element = document.querySelector('#df-fb2c38da-b885-447d-b513-0647df006012');\n",
              "        const dataTable =\n",
              "          await google.colab.kernel.invokeFunction('convertToInteractive',\n",
              "                                                    [key], {});\n",
              "        if (!dataTable) return;\n",
              "\n",
              "        const docLinkHtml = 'Like what you see? Visit the ' +\n",
              "          '<a target=\"_blank\" href=https://colab.research.google.com/notebooks/data_table.ipynb>data table notebook</a>'\n",
              "          + ' to learn more about interactive tables.';\n",
              "        element.innerHTML = '';\n",
              "        dataTable['output_type'] = 'display_data';\n",
              "        await google.colab.output.renderOutput(dataTable, element);\n",
              "        const docLink = document.createElement('div');\n",
              "        docLink.innerHTML = docLinkHtml;\n",
              "        element.appendChild(docLink);\n",
              "      }\n",
              "    </script>\n",
              "  </div>\n",
              "\n",
              "\n",
              "<div id=\"df-8110aa96-704d-439b-bca6-317cb8222299\">\n",
              "  <button class=\"colab-df-quickchart\" onclick=\"quickchart('df-8110aa96-704d-439b-bca6-317cb8222299')\"\n",
              "            title=\"Suggest charts\"\n",
              "            style=\"display:none;\">\n",
              "\n",
              "<svg xmlns=\"http://www.w3.org/2000/svg\" height=\"24px\"viewBox=\"0 0 24 24\"\n",
              "     width=\"24px\">\n",
              "    <g>\n",
              "        <path d=\"M19 3H5c-1.1 0-2 .9-2 2v14c0 1.1.9 2 2 2h14c1.1 0 2-.9 2-2V5c0-1.1-.9-2-2-2zM9 17H7v-7h2v7zm4 0h-2V7h2v10zm4 0h-2v-4h2v4z\"/>\n",
              "    </g>\n",
              "</svg>\n",
              "  </button>\n",
              "\n",
              "<style>\n",
              "  .colab-df-quickchart {\n",
              "      --bg-color: #E8F0FE;\n",
              "      --fill-color: #1967D2;\n",
              "      --hover-bg-color: #E2EBFA;\n",
              "      --hover-fill-color: #174EA6;\n",
              "      --disabled-fill-color: #AAA;\n",
              "      --disabled-bg-color: #DDD;\n",
              "  }\n",
              "\n",
              "  [theme=dark] .colab-df-quickchart {\n",
              "      --bg-color: #3B4455;\n",
              "      --fill-color: #D2E3FC;\n",
              "      --hover-bg-color: #434B5C;\n",
              "      --hover-fill-color: #FFFFFF;\n",
              "      --disabled-bg-color: #3B4455;\n",
              "      --disabled-fill-color: #666;\n",
              "  }\n",
              "\n",
              "  .colab-df-quickchart {\n",
              "    background-color: var(--bg-color);\n",
              "    border: none;\n",
              "    border-radius: 50%;\n",
              "    cursor: pointer;\n",
              "    display: none;\n",
              "    fill: var(--fill-color);\n",
              "    height: 32px;\n",
              "    padding: 0;\n",
              "    width: 32px;\n",
              "  }\n",
              "\n",
              "  .colab-df-quickchart:hover {\n",
              "    background-color: var(--hover-bg-color);\n",
              "    box-shadow: 0 1px 2px rgba(60, 64, 67, 0.3), 0 1px 3px 1px rgba(60, 64, 67, 0.15);\n",
              "    fill: var(--button-hover-fill-color);\n",
              "  }\n",
              "\n",
              "  .colab-df-quickchart-complete:disabled,\n",
              "  .colab-df-quickchart-complete:disabled:hover {\n",
              "    background-color: var(--disabled-bg-color);\n",
              "    fill: var(--disabled-fill-color);\n",
              "    box-shadow: none;\n",
              "  }\n",
              "\n",
              "  .colab-df-spinner {\n",
              "    border: 2px solid var(--fill-color);\n",
              "    border-color: transparent;\n",
              "    border-bottom-color: var(--fill-color);\n",
              "    animation:\n",
              "      spin 1s steps(1) infinite;\n",
              "  }\n",
              "\n",
              "  @keyframes spin {\n",
              "    0% {\n",
              "      border-color: transparent;\n",
              "      border-bottom-color: var(--fill-color);\n",
              "      border-left-color: var(--fill-color);\n",
              "    }\n",
              "    20% {\n",
              "      border-color: transparent;\n",
              "      border-left-color: var(--fill-color);\n",
              "      border-top-color: var(--fill-color);\n",
              "    }\n",
              "    30% {\n",
              "      border-color: transparent;\n",
              "      border-left-color: var(--fill-color);\n",
              "      border-top-color: var(--fill-color);\n",
              "      border-right-color: var(--fill-color);\n",
              "    }\n",
              "    40% {\n",
              "      border-color: transparent;\n",
              "      border-right-color: var(--fill-color);\n",
              "      border-top-color: var(--fill-color);\n",
              "    }\n",
              "    60% {\n",
              "      border-color: transparent;\n",
              "      border-right-color: var(--fill-color);\n",
              "    }\n",
              "    80% {\n",
              "      border-color: transparent;\n",
              "      border-right-color: var(--fill-color);\n",
              "      border-bottom-color: var(--fill-color);\n",
              "    }\n",
              "    90% {\n",
              "      border-color: transparent;\n",
              "      border-bottom-color: var(--fill-color);\n",
              "    }\n",
              "  }\n",
              "</style>\n",
              "\n",
              "  <script>\n",
              "    async function quickchart(key) {\n",
              "      const quickchartButtonEl =\n",
              "        document.querySelector('#' + key + ' button');\n",
              "      quickchartButtonEl.disabled = true;  // To prevent multiple clicks.\n",
              "      quickchartButtonEl.classList.add('colab-df-spinner');\n",
              "      try {\n",
              "        const charts = await google.colab.kernel.invokeFunction(\n",
              "            'suggestCharts', [key], {});\n",
              "      } catch (error) {\n",
              "        console.error('Error during call to suggestCharts:', error);\n",
              "      }\n",
              "      quickchartButtonEl.classList.remove('colab-df-spinner');\n",
              "      quickchartButtonEl.classList.add('colab-df-quickchart-complete');\n",
              "    }\n",
              "    (() => {\n",
              "      let quickchartButtonEl =\n",
              "        document.querySelector('#df-8110aa96-704d-439b-bca6-317cb8222299 button');\n",
              "      quickchartButtonEl.style.display =\n",
              "        google.colab.kernel.accessAllowed ? 'block' : 'none';\n",
              "    })();\n",
              "  </script>\n",
              "</div>\n",
              "\n",
              "  <div id=\"id_ead26611-a4db-48de-ab86-17ac9449aca2\">\n",
              "    <style>\n",
              "      .colab-df-generate {\n",
              "        background-color: #E8F0FE;\n",
              "        border: none;\n",
              "        border-radius: 50%;\n",
              "        cursor: pointer;\n",
              "        display: none;\n",
              "        fill: #1967D2;\n",
              "        height: 32px;\n",
              "        padding: 0 0 0 0;\n",
              "        width: 32px;\n",
              "      }\n",
              "\n",
              "      .colab-df-generate:hover {\n",
              "        background-color: #E2EBFA;\n",
              "        box-shadow: 0px 1px 2px rgba(60, 64, 67, 0.3), 0px 1px 3px 1px rgba(60, 64, 67, 0.15);\n",
              "        fill: #174EA6;\n",
              "      }\n",
              "\n",
              "      [theme=dark] .colab-df-generate {\n",
              "        background-color: #3B4455;\n",
              "        fill: #D2E3FC;\n",
              "      }\n",
              "\n",
              "      [theme=dark] .colab-df-generate:hover {\n",
              "        background-color: #434B5C;\n",
              "        box-shadow: 0px 1px 3px 1px rgba(0, 0, 0, 0.15);\n",
              "        filter: drop-shadow(0px 1px 2px rgba(0, 0, 0, 0.3));\n",
              "        fill: #FFFFFF;\n",
              "      }\n",
              "    </style>\n",
              "    <button class=\"colab-df-generate\" onclick=\"generateWithVariable('df')\"\n",
              "            title=\"Generate code using this dataframe.\"\n",
              "            style=\"display:none;\">\n",
              "\n",
              "  <svg xmlns=\"http://www.w3.org/2000/svg\" height=\"24px\"viewBox=\"0 0 24 24\"\n",
              "       width=\"24px\">\n",
              "    <path d=\"M7,19H8.4L18.45,9,17,7.55,7,17.6ZM5,21V16.75L18.45,3.32a2,2,0,0,1,2.83,0l1.4,1.43a1.91,1.91,0,0,1,.58,1.4,1.91,1.91,0,0,1-.58,1.4L9.25,21ZM18.45,9,17,7.55Zm-12,3A5.31,5.31,0,0,0,4.9,8.1,5.31,5.31,0,0,0,1,6.5,5.31,5.31,0,0,0,4.9,4.9,5.31,5.31,0,0,0,6.5,1,5.31,5.31,0,0,0,8.1,4.9,5.31,5.31,0,0,0,12,6.5,5.46,5.46,0,0,0,6.5,12Z\"/>\n",
              "  </svg>\n",
              "    </button>\n",
              "    <script>\n",
              "      (() => {\n",
              "      const buttonEl =\n",
              "        document.querySelector('#id_ead26611-a4db-48de-ab86-17ac9449aca2 button.colab-df-generate');\n",
              "      buttonEl.style.display =\n",
              "        google.colab.kernel.accessAllowed ? 'block' : 'none';\n",
              "\n",
              "      buttonEl.onclick = () => {\n",
              "        google.colab.notebook.generateWithVariable('df');\n",
              "      }\n",
              "      })();\n",
              "    </script>\n",
              "  </div>\n",
              "\n",
              "    </div>\n",
              "  </div>\n"
            ],
            "application/vnd.google.colaboratory.intrinsic+json": {
              "type": "dataframe",
              "variable_name": "df",
              "summary": "{\n  \"name\": \"df\",\n  \"rows\": 6000,\n  \"fields\": [\n    {\n      \"column\": \"file_name\",\n      \"properties\": {\n        \"dtype\": \"string\",\n        \"num_unique_values\": 6000,\n        \"samples\": [\n          \"2823064.txt\",\n          \"2850707.txt\",\n          \"2784805.txt\"\n        ],\n        \"semantic_type\": \"\",\n        \"description\": \"\"\n      }\n    },\n    {\n      \"column\": \"text\",\n      \"properties\": {\n        \"dtype\": \"string\",\n        \"num_unique_values\": 5998,\n        \"samples\": [\n          \"Forest History Society Contains membership information, links to research and publications, quarterly journal, oral histories, conferences and general information about the society. \",\n          \"McGill University: Atmospheric and Oceanic Sciences Graduate and undergraduate programs. Research, facilities and seminars. \",\n          \"BPI Laboratories Inc. Specializes in signature comparison, threatening letters, harassment notes, and check forgery. \"\n        ],\n        \"semantic_type\": \"\",\n        \"description\": \"\"\n      }\n    },\n    {\n      \"column\": \"class\",\n      \"properties\": {\n        \"dtype\": \"category\",\n        \"num_unique_values\": 12,\n        \"samples\": [\n          \"Social\",\n          \"Science\",\n          \"Agriculture\"\n        ],\n        \"semantic_type\": \"\",\n        \"description\": \"\"\n      }\n    }\n  ]\n}"
            }
          },
          "metadata": {},
          "execution_count": 37
        }
      ]
    },
    {
      "cell_type": "markdown",
      "source": [
        "Count the amount of each class."
      ],
      "metadata": {
        "id": "QLFznaEUfh8C"
      }
    },
    {
      "cell_type": "code",
      "source": [
        "print(df[\"class\"].value_counts())"
      ],
      "metadata": {
        "id": "DniSGf6Bfh8C",
        "colab": {
          "base_uri": "https://localhost:8080/"
        },
        "outputId": "92fd5d32-d88b-4912-a904-09e9dc94aa08"
      },
      "execution_count": 38,
      "outputs": [
        {
          "output_type": "stream",
          "name": "stdout",
          "text": [
            "class\n",
            "Agriculture    500\n",
            "Astronomy      500\n",
            "Biology        500\n",
            "Chemistry      500\n",
            "Earth          500\n",
            "Environment    500\n",
            "Instruments    500\n",
            "Math           500\n",
            "Physics        500\n",
            "Science        500\n",
            "Social         500\n",
            "Technology     500\n",
            "Name: count, dtype: int64\n"
          ]
        }
      ]
    },
    {
      "cell_type": "markdown",
      "source": [
        "### Data split"
      ],
      "metadata": {
        "id": "QkdJVtyTfh8C"
      }
    },
    {
      "cell_type": "markdown",
      "source": [
        "Split the corpus into training data and test data."
      ],
      "metadata": {
        "id": "TC-WvEZnfh8D"
      }
    },
    {
      "cell_type": "code",
      "source": [
        "X_train, X_test, y_train, y_test = train_test_split(X, y, stratify=y, test_size=0.2, random_state=1979)"
      ],
      "metadata": {
        "id": "6BfzGel6fh8D"
      },
      "execution_count": 39,
      "outputs": []
    },
    {
      "cell_type": "code",
      "source": [
        "# Show the final size of each set.\n",
        "print(f\"len(X_train): {len(X_train)}\")\n",
        "print(f\"len(X_test): {len(X_test)}\")"
      ],
      "metadata": {
        "id": "lIi0mCK8fh8D",
        "colab": {
          "base_uri": "https://localhost:8080/"
        },
        "outputId": "ee180097-849e-4bc5-b51b-05d0de407d03"
      },
      "execution_count": 40,
      "outputs": [
        {
          "output_type": "stream",
          "name": "stdout",
          "text": [
            "len(X_train): 4800\n",
            "len(X_test): 1200\n"
          ]
        }
      ]
    },
    {
      "cell_type": "markdown",
      "source": [
        "### Pipelines\n",
        "\n",
        "Create pipelines using TF-IDF to create training attribute and add the model."
      ],
      "metadata": {
        "id": "4hdvXwSnfh8D"
      }
    },
    {
      "cell_type": "code",
      "source": [
        "pipeMNB = Pipeline([(\"tfidf\", TfidfVectorizer()), (\"clf\", MultinomialNB())])\n",
        "pipeLR  = Pipeline([(\"tfidf\", TfidfVectorizer()), (\"clf\", LogisticRegression(random_state=1979))])\n",
        "pipeSVC = Pipeline([(\"tfidf\", TfidfVectorizer()), (\"clf\", LinearSVC())])"
      ],
      "metadata": {
        "id": "fP-TuBwAfh8D"
      },
      "execution_count": 41,
      "outputs": []
    },
    {
      "cell_type": "markdown",
      "source": [
        "### GridSearch\n",
        "\n",
        "For fine tuning we used a pipeline with TF-IDF and three different models (Multinomial Naive Bayes, Logistic Regression and Support Vector Machine). We perform hyperparameter tuning using <code>GridSearchCV</code> with 3-fold cross-validation (<code>cv</code>) and \"f1_macro\" as the strategy to evaluate the performance of the cross-validated model on the test set (<code>scoring</code>)."
      ],
      "metadata": {
        "id": "reOJnBjRfh8E"
      }
    },
    {
      "cell_type": "markdown",
      "source": [
        "Get params for fine tuning of the models."
      ],
      "metadata": {
        "id": "VYWZoMuofh8E"
      }
    },
    {
      "cell_type": "code",
      "source": [
        "paramMNB = get_multinomial_naive_bayes_params(\"clf\")\n",
        "paramLR = get_logistic_regression_params(\"clf\")\n",
        "paramSVC = get_support_vector_params(\"clf\")"
      ],
      "metadata": {
        "id": "6hQXt_Bsfh8E"
      },
      "execution_count": 42,
      "outputs": []
    },
    {
      "cell_type": "markdown",
      "source": [
        "#### Multinomial Naive Bayes"
      ],
      "metadata": {
        "id": "jmosfNRVHTY9"
      }
    },
    {
      "cell_type": "markdown",
      "source": [
        "Training."
      ],
      "metadata": {
        "id": "lbKbWJDvHTY-"
      }
    },
    {
      "cell_type": "code",
      "source": [
        "grid_search_MNB = fit_tuning(X_train, y_train, pipeMNB, paramMNB)"
      ],
      "metadata": {
        "id": "zMAQC_4CHTY_"
      },
      "execution_count": 43,
      "outputs": []
    },
    {
      "cell_type": "markdown",
      "source": [
        "Show best training scores and params."
      ],
      "metadata": {
        "id": "TY-K6QM4HTZA"
      }
    },
    {
      "cell_type": "code",
      "source": [
        "show_score_params(grid_search_MNB)"
      ],
      "metadata": {
        "id": "Jl6ufXbtHTZB",
        "colab": {
          "base_uri": "https://localhost:8080/"
        },
        "outputId": "efd31f58-7c3a-4a9c-953e-b8c7ca9d7632"
      },
      "execution_count": 44,
      "outputs": [
        {
          "output_type": "stream",
          "name": "stdout",
          "text": [
            "\n",
            "SVC best params:\n",
            "  Best Score: 0.7088756661352962\n",
            "  Best Params: {'clf__alpha': 0.4111111111111111, 'clf__fit_prior': False, 'clf__force_alpha': True}\n"
          ]
        }
      ]
    },
    {
      "cell_type": "markdown",
      "source": [
        "Saving result into file"
      ],
      "metadata": {
        "id": "TihVu5tzHTZB"
      }
    },
    {
      "cell_type": "code",
      "source": [
        "results_to_csv(grid_search_MNB, file_dmoz + \"-mnb-results.csv\")"
      ],
      "metadata": {
        "collapsed": true,
        "id": "G11JNIBrHTZC",
        "colab": {
          "base_uri": "https://localhost:8080/"
        },
        "outputId": "55ad48bc-927a-41ea-e906-46ea8fb9d63c"
      },
      "execution_count": 45,
      "outputs": [
        {
          "output_type": "stream",
          "name": "stdout",
          "text": [
            "\n",
            "CV Results: False\n",
            "    mean_fit_time  std_fit_time  mean_score_time  std_score_time  \\\n",
            "10       0.097688      0.000712         0.042661        0.001659   \n",
            "11       0.101924      0.004874         0.043173        0.001044   \n",
            "8        0.100044      0.002001         0.042304        0.000637   \n",
            "9        0.103782      0.010585         0.042821        0.001058   \n",
            "6        0.099201      0.003821         0.044030        0.001578   \n",
            "7        0.103580      0.009458         0.043204        0.001333   \n",
            "4        0.173426      0.000712         0.077210        0.002796   \n",
            "5        0.157764      0.042966         0.061657        0.014031   \n",
            "12       0.097289      0.001374         0.042941        0.002021   \n",
            "13       0.097178      0.001051         0.044002        0.002711   \n",
            "14       0.100819      0.005750         0.043878        0.002486   \n",
            "15       0.097786      0.001673         0.043342        0.001475   \n",
            "16       0.097579      0.001894         0.048086        0.004169   \n",
            "17       0.097632      0.001748         0.042139        0.000461   \n",
            "19       0.099343      0.000550         0.043493        0.001269   \n",
            "18       0.100575      0.002819         0.049742        0.005322   \n",
            "0        0.111438      0.009375         0.047923        0.006569   \n",
            "1        0.162367      0.020902         0.078940        0.003530   \n",
            "3        0.171192      0.006792         0.072795        0.001654   \n",
            "2        0.167903      0.002816         0.075135        0.002074   \n",
            "21       0.129310      0.043828         0.045894        0.004608   \n",
            "20       0.099379      0.001678         0.043085        0.000771   \n",
            "22       0.098837      0.003945         0.045645        0.002203   \n",
            "23       0.104180      0.006032         0.043466        0.000898   \n",
            "26       0.097722      0.000543         0.042972        0.000589   \n",
            "27       0.098154      0.004005         0.042744        0.000743   \n",
            "24       0.102865      0.003474         0.047547        0.007197   \n",
            "25       0.108478      0.013045         0.042484        0.000605   \n",
            "28       0.149939      0.029389         0.070679        0.003373   \n",
            "29       0.175431      0.006210         0.072994        0.000449   \n",
            "31       0.174533      0.003157         0.074436        0.001548   \n",
            "30       0.171892      0.003821         0.075701        0.002653   \n",
            "32       0.138185      0.037404         0.057346        0.018046   \n",
            "33       0.101266      0.003844         0.044129        0.002871   \n",
            "34       0.102834      0.002133         0.045922        0.003408   \n",
            "35       0.098522      0.003259         0.042715        0.000908   \n",
            "36       0.101730      0.002460         0.047637        0.004361   \n",
            "37       0.099230      0.001536         0.042736        0.001532   \n",
            "38       0.098510      0.002445         0.043471        0.001323   \n",
            "39       0.097339      0.000267         0.047336        0.005169   \n",
            "\n",
            "    param_clf__alpha  param_clf__fit_prior  param_clf__force_alpha  \\\n",
            "10          0.411111                 False                    True   \n",
            "11          0.411111                 False                   False   \n",
            "8           0.411111                  True                    True   \n",
            "9           0.411111                  True                   False   \n",
            "6           0.255556                 False                    True   \n",
            "7           0.255556                 False                   False   \n",
            "4           0.255556                  True                    True   \n",
            "5           0.255556                  True                   False   \n",
            "12          0.566667                  True                    True   \n",
            "13          0.566667                  True                   False   \n",
            "14          0.566667                 False                    True   \n",
            "15          0.566667                 False                   False   \n",
            "16          0.722222                  True                    True   \n",
            "17          0.722222                  True                   False   \n",
            "19          0.722222                 False                   False   \n",
            "18          0.722222                 False                    True   \n",
            "0           0.100000                  True                    True   \n",
            "1           0.100000                  True                   False   \n",
            "3           0.100000                 False                   False   \n",
            "2           0.100000                 False                    True   \n",
            "21          0.877778                  True                   False   \n",
            "20          0.877778                  True                    True   \n",
            "22          0.877778                 False                    True   \n",
            "23          0.877778                 False                   False   \n",
            "26          1.033333                 False                    True   \n",
            "27          1.033333                 False                   False   \n",
            "24          1.033333                  True                    True   \n",
            "25          1.033333                  True                   False   \n",
            "28          1.188889                  True                    True   \n",
            "29          1.188889                  True                   False   \n",
            "31          1.188889                 False                   False   \n",
            "30          1.188889                 False                    True   \n",
            "32          1.344444                  True                    True   \n",
            "33          1.344444                  True                   False   \n",
            "34          1.344444                 False                    True   \n",
            "35          1.344444                 False                   False   \n",
            "36          1.500000                  True                    True   \n",
            "37          1.500000                  True                   False   \n",
            "38          1.500000                 False                    True   \n",
            "39          1.500000                 False                   False   \n",
            "\n",
            "                                               params  split0_test_score  \\\n",
            "10  {'clf__alpha': 0.4111111111111111, 'clf__fit_p...           0.716929   \n",
            "11  {'clf__alpha': 0.4111111111111111, 'clf__fit_p...           0.716929   \n",
            "8   {'clf__alpha': 0.4111111111111111, 'clf__fit_p...           0.716941   \n",
            "9   {'clf__alpha': 0.4111111111111111, 'clf__fit_p...           0.716941   \n",
            "6   {'clf__alpha': 0.25555555555555554, 'clf__fit_...           0.715411   \n",
            "7   {'clf__alpha': 0.25555555555555554, 'clf__fit_...           0.715411   \n",
            "4   {'clf__alpha': 0.25555555555555554, 'clf__fit_...           0.715411   \n",
            "5   {'clf__alpha': 0.25555555555555554, 'clf__fit_...           0.715411   \n",
            "12  {'clf__alpha': 0.5666666666666667, 'clf__fit_p...           0.711030   \n",
            "13  {'clf__alpha': 0.5666666666666667, 'clf__fit_p...           0.711030   \n",
            "14  {'clf__alpha': 0.5666666666666667, 'clf__fit_p...           0.710998   \n",
            "15  {'clf__alpha': 0.5666666666666667, 'clf__fit_p...           0.710998   \n",
            "16  {'clf__alpha': 0.7222222222222222, 'clf__fit_p...           0.710049   \n",
            "17  {'clf__alpha': 0.7222222222222222, 'clf__fit_p...           0.710049   \n",
            "19  {'clf__alpha': 0.7222222222222222, 'clf__fit_p...           0.710049   \n",
            "18  {'clf__alpha': 0.7222222222222222, 'clf__fit_p...           0.710049   \n",
            "0   {'clf__alpha': 0.1, 'clf__fit_prior': True, 'c...           0.718837   \n",
            "1   {'clf__alpha': 0.1, 'clf__fit_prior': True, 'c...           0.718837   \n",
            "3   {'clf__alpha': 0.1, 'clf__fit_prior': False, '...           0.718818   \n",
            "2   {'clf__alpha': 0.1, 'clf__fit_prior': False, '...           0.718818   \n",
            "21  {'clf__alpha': 0.8777777777777778, 'clf__fit_p...           0.705551   \n",
            "20  {'clf__alpha': 0.8777777777777778, 'clf__fit_p...           0.705551   \n",
            "22  {'clf__alpha': 0.8777777777777778, 'clf__fit_p...           0.704848   \n",
            "23  {'clf__alpha': 0.8777777777777778, 'clf__fit_p...           0.704848   \n",
            "26  {'clf__alpha': 1.0333333333333334, 'clf__fit_p...           0.702820   \n",
            "27  {'clf__alpha': 1.0333333333333334, 'clf__fit_p...           0.702820   \n",
            "24  {'clf__alpha': 1.0333333333333334, 'clf__fit_p...           0.702821   \n",
            "25  {'clf__alpha': 1.0333333333333334, 'clf__fit_p...           0.702821   \n",
            "28  {'clf__alpha': 1.188888888888889, 'clf__fit_pr...           0.702719   \n",
            "29  {'clf__alpha': 1.188888888888889, 'clf__fit_pr...           0.702719   \n",
            "31  {'clf__alpha': 1.188888888888889, 'clf__fit_pr...           0.702719   \n",
            "30  {'clf__alpha': 1.188888888888889, 'clf__fit_pr...           0.702719   \n",
            "32  {'clf__alpha': 1.3444444444444446, 'clf__fit_p...           0.699080   \n",
            "33  {'clf__alpha': 1.3444444444444446, 'clf__fit_p...           0.699080   \n",
            "34  {'clf__alpha': 1.3444444444444446, 'clf__fit_p...           0.699080   \n",
            "35  {'clf__alpha': 1.3444444444444446, 'clf__fit_p...           0.699080   \n",
            "36  {'clf__alpha': 1.5, 'clf__fit_prior': True, 'c...           0.697941   \n",
            "37  {'clf__alpha': 1.5, 'clf__fit_prior': True, 'c...           0.697941   \n",
            "38  {'clf__alpha': 1.5, 'clf__fit_prior': False, '...           0.697138   \n",
            "39  {'clf__alpha': 1.5, 'clf__fit_prior': False, '...           0.697138   \n",
            "\n",
            "    split1_test_score  split2_test_score  mean_test_score  std_test_score  \\\n",
            "10           0.703060           0.706638         0.708876        0.005879   \n",
            "11           0.703060           0.706638         0.708876        0.005879   \n",
            "8            0.702437           0.706638         0.708672        0.006093   \n",
            "9            0.702437           0.706638         0.708672        0.006093   \n",
            "6            0.704458           0.700324         0.706731        0.006365   \n",
            "7            0.704458           0.700324         0.706731        0.006365   \n",
            "4            0.703750           0.700324         0.706495        0.006458   \n",
            "5            0.703750           0.700324         0.706495        0.006458   \n",
            "12           0.698221           0.708916         0.706056        0.005607   \n",
            "13           0.698221           0.708916         0.706056        0.005607   \n",
            "14           0.698269           0.708314         0.705860        0.005478   \n",
            "15           0.698269           0.708314         0.705860        0.005478   \n",
            "16           0.696381           0.706885         0.704438        0.005842   \n",
            "17           0.696381           0.706885         0.704438        0.005842   \n",
            "19           0.696388           0.706238         0.704225        0.005756   \n",
            "18           0.696388           0.706238         0.704225        0.005756   \n",
            "0            0.694804           0.694907         0.702849        0.011305   \n",
            "1            0.694804           0.694907         0.702849        0.011305   \n",
            "3            0.694118           0.694940         0.702625        0.011455   \n",
            "2            0.694118           0.694940         0.702625        0.011455   \n",
            "21           0.694374           0.704840         0.701588        0.005110   \n",
            "20           0.694374           0.704840         0.701588        0.005110   \n",
            "22           0.694988           0.704810         0.701549        0.004639   \n",
            "23           0.694988           0.704810         0.701549        0.004639   \n",
            "26           0.690486           0.706645         0.699983        0.006895   \n",
            "27           0.690486           0.706645         0.699983        0.006895   \n",
            "24           0.691343           0.705496         0.699887        0.006139   \n",
            "25           0.691343           0.705496         0.699887        0.006139   \n",
            "28           0.688204           0.703863         0.698262        0.007127   \n",
            "29           0.688204           0.703863         0.698262        0.007127   \n",
            "31           0.688072           0.703331         0.698041        0.007053   \n",
            "30           0.688072           0.703331         0.698041        0.007053   \n",
            "32           0.682815           0.700636         0.694177        0.008059   \n",
            "33           0.682815           0.700636         0.694177        0.008059   \n",
            "34           0.682136           0.700488         0.693901        0.008339   \n",
            "35           0.682136           0.700488         0.693901        0.008339   \n",
            "36           0.678133           0.698881         0.691652        0.009567   \n",
            "37           0.678133           0.698881         0.691652        0.009567   \n",
            "38           0.678726           0.698271         0.691378        0.008959   \n",
            "39           0.678726           0.698271         0.691378        0.008959   \n",
            "\n",
            "    rank_test_score  \n",
            "10                1  \n",
            "11                1  \n",
            "8                 3  \n",
            "9                 3  \n",
            "6                 5  \n",
            "7                 5  \n",
            "4                 7  \n",
            "5                 7  \n",
            "12                9  \n",
            "13                9  \n",
            "14               11  \n",
            "15               11  \n",
            "16               13  \n",
            "17               13  \n",
            "19               15  \n",
            "18               15  \n",
            "0                17  \n",
            "1                17  \n",
            "3                19  \n",
            "2                19  \n",
            "21               21  \n",
            "20               21  \n",
            "22               23  \n",
            "23               23  \n",
            "26               25  \n",
            "27               25  \n",
            "24               27  \n",
            "25               27  \n",
            "28               29  \n",
            "29               29  \n",
            "31               31  \n",
            "30               31  \n",
            "32               33  \n",
            "33               33  \n",
            "34               35  \n",
            "35               35  \n",
            "36               37  \n",
            "37               37  \n",
            "38               39  \n",
            "39               39   False\n"
          ]
        }
      ]
    },
    {
      "cell_type": "markdown",
      "source": [
        "Verify the result score in the test set."
      ],
      "metadata": {
        "id": "nSrnsz87HTZD"
      }
    },
    {
      "cell_type": "code",
      "source": [
        "score_test_set(grid_search_MNB, X_test, y_test)"
      ],
      "metadata": {
        "id": "1wTkt1tZHTZD",
        "colab": {
          "base_uri": "https://localhost:8080/"
        },
        "outputId": "b1382331-1b58-4f87-e83b-154747393ceb"
      },
      "execution_count": 46,
      "outputs": [
        {
          "output_type": "stream",
          "name": "stdout",
          "text": [
            "\n",
            "Test evaluation:\n",
            "  F1-macro: 0.7157006501279084\n"
          ]
        }
      ]
    },
    {
      "cell_type": "markdown",
      "source": [
        "#### Logistic Regression"
      ],
      "metadata": {
        "id": "OQrMhlMTHTZE"
      }
    },
    {
      "cell_type": "markdown",
      "source": [
        "Training."
      ],
      "metadata": {
        "id": "ADgFjyh_HTZF"
      }
    },
    {
      "cell_type": "code",
      "source": [
        "grid_search_LR = fit_tuning(X_train, y_train, pipeLR, paramLR)"
      ],
      "metadata": {
        "id": "CtB4ICNUHTZF"
      },
      "execution_count": 47,
      "outputs": []
    },
    {
      "cell_type": "markdown",
      "source": [
        "Show best training scores and params."
      ],
      "metadata": {
        "id": "mvqrPoMWHTZG"
      }
    },
    {
      "cell_type": "code",
      "source": [
        "show_score_params(grid_search_LR)"
      ],
      "metadata": {
        "id": "fen8WExYHTZG",
        "colab": {
          "base_uri": "https://localhost:8080/"
        },
        "outputId": "59302611-3684-4b66-f723-fa1adeab36e9"
      },
      "execution_count": 48,
      "outputs": [
        {
          "output_type": "stream",
          "name": "stdout",
          "text": [
            "\n",
            "SVC best params:\n",
            "  Best Score: 0.7254091882083982\n",
            "  Best Params: {'clf__C': 5.994842503189409, 'clf__class_weight': 'balanced', 'clf__max_iter': 100, 'clf__solver': 'liblinear'}\n"
          ]
        }
      ]
    },
    {
      "cell_type": "markdown",
      "source": [
        "Saving result into file"
      ],
      "metadata": {
        "id": "GHbPoJw-HTZH"
      }
    },
    {
      "cell_type": "code",
      "source": [
        "results_to_csv(grid_search_LR, file_dmoz + \"-lt-results.csv\")"
      ],
      "metadata": {
        "collapsed": true,
        "id": "eJgeCm8FHTZH",
        "colab": {
          "base_uri": "https://localhost:8080/"
        },
        "outputId": "c802d281-57e0-4571-c024-e170d716d269"
      },
      "execution_count": 49,
      "outputs": [
        {
          "output_type": "stream",
          "name": "stdout",
          "text": [
            "\n",
            "CV Results: False\n",
            "    mean_fit_time  std_fit_time  mean_score_time  std_score_time  \\\n",
            "54       0.633176      0.453761         0.079443        0.000208   \n",
            "58       0.313573      0.011970         0.080535        0.001253   \n",
            "56       0.363075      0.060279         0.095949        0.020180   \n",
            "48       0.316799      0.013582         0.080598        0.000811   \n",
            "50       0.313325      0.010293         0.080397        0.001210   \n",
            "..            ...           ...              ...             ...   \n",
            "15       0.234905      0.048951         0.118862        0.010880   \n",
            "17       0.300474      0.055946         0.112599        0.022969   \n",
            "5        0.344031      0.043469         0.127658        0.001925   \n",
            "3        0.247871      0.011390         0.111865        0.019259   \n",
            "1        0.342114      0.010799         0.124857        0.010064   \n",
            "\n",
            "    param_clf__C param_clf__class_weight  param_clf__max_iter  \\\n",
            "54      5.994843                balanced                  100   \n",
            "58      5.994843                balanced                  500   \n",
            "56      5.994843                balanced                  200   \n",
            "48      5.994843                    None                  100   \n",
            "50      5.994843                    None                  200   \n",
            "..           ...                     ...                  ...   \n",
            "15      0.000278                    None                  200   \n",
            "17      0.000278                    None                  500   \n",
            "5       0.000010                    None                  500   \n",
            "3       0.000010                    None                  200   \n",
            "1       0.000010                    None                  100   \n",
            "\n",
            "   param_clf__solver                                             params  \\\n",
            "54         liblinear  {'clf__C': 5.994842503189409, 'clf__class_weig...   \n",
            "58         liblinear  {'clf__C': 5.994842503189409, 'clf__class_weig...   \n",
            "56         liblinear  {'clf__C': 5.994842503189409, 'clf__class_weig...   \n",
            "48         liblinear  {'clf__C': 5.994842503189409, 'clf__class_weig...   \n",
            "50         liblinear  {'clf__C': 5.994842503189409, 'clf__class_weig...   \n",
            "..               ...                                                ...   \n",
            "15             lbfgs  {'clf__C': 0.0002782559402207126, 'clf__class_...   \n",
            "17             lbfgs  {'clf__C': 0.0002782559402207126, 'clf__class_...   \n",
            "5              lbfgs  {'clf__C': 1e-05, 'clf__class_weight': None, '...   \n",
            "3              lbfgs  {'clf__C': 1e-05, 'clf__class_weight': None, '...   \n",
            "1              lbfgs  {'clf__C': 1e-05, 'clf__class_weight': None, '...   \n",
            "\n",
            "    split0_test_score  split1_test_score  split2_test_score  mean_test_score  \\\n",
            "54           0.739989           0.710105           0.726134         0.725409   \n",
            "58           0.739989           0.710105           0.726134         0.725409   \n",
            "56           0.739989           0.710105           0.726134         0.725409   \n",
            "48           0.739989           0.709486           0.726134         0.725203   \n",
            "50           0.739989           0.709486           0.726134         0.725203   \n",
            "..                ...                ...                ...              ...   \n",
            "15           0.357852           0.369180           0.360132         0.362388   \n",
            "17           0.357852           0.369180           0.360132         0.362388   \n",
            "5            0.347204           0.361747           0.363962         0.357638   \n",
            "3            0.347204           0.361747           0.363962         0.357638   \n",
            "1            0.347204           0.361747           0.363962         0.357638   \n",
            "\n",
            "    std_test_score  rank_test_score  \n",
            "54        0.012211                1  \n",
            "58        0.012211                1  \n",
            "56        0.012211                1  \n",
            "48        0.012470                4  \n",
            "50        0.012470                4  \n",
            "..             ...              ...  \n",
            "15        0.004892              115  \n",
            "17        0.004892              115  \n",
            "5         0.007433              118  \n",
            "3         0.007433              118  \n",
            "1         0.007433              118  \n",
            "\n",
            "[120 rows x 15 columns] False\n"
          ]
        }
      ]
    },
    {
      "cell_type": "markdown",
      "source": [
        "Verify the result score in the test set."
      ],
      "metadata": {
        "id": "XVc6sbb2HTZI"
      }
    },
    {
      "cell_type": "code",
      "source": [
        "score_test_set(grid_search_LR, X_test, y_test)"
      ],
      "metadata": {
        "id": "FQ9U_3qWHTZJ",
        "colab": {
          "base_uri": "https://localhost:8080/"
        },
        "outputId": "b13a88f9-c266-4c1e-e822-be284a5fe538"
      },
      "execution_count": 50,
      "outputs": [
        {
          "output_type": "stream",
          "name": "stdout",
          "text": [
            "\n",
            "Test evaluation:\n",
            "  F1-macro: 0.7239961027902931\n"
          ]
        }
      ]
    },
    {
      "cell_type": "markdown",
      "source": [
        "#### Support Vector Classifier"
      ],
      "metadata": {
        "id": "a2Zfxil_HTZJ"
      }
    },
    {
      "cell_type": "markdown",
      "source": [
        "Training."
      ],
      "metadata": {
        "id": "70nB592yHTZK"
      }
    },
    {
      "cell_type": "code",
      "source": [
        "grid_search_SVC = fit_tuning(X_train, y_train, pipeSVC, paramSVC)"
      ],
      "metadata": {
        "id": "VeNsPcmAHTZK"
      },
      "execution_count": 51,
      "outputs": []
    },
    {
      "cell_type": "markdown",
      "source": [
        "Show best training scores and params."
      ],
      "metadata": {
        "id": "iR192PT9HTZL"
      }
    },
    {
      "cell_type": "code",
      "source": [
        "show_score_params(grid_search_SVC)"
      ],
      "metadata": {
        "id": "MmGXlV4lHTZL",
        "colab": {
          "base_uri": "https://localhost:8080/"
        },
        "outputId": "a5da0883-908e-4c13-8166-334031f1084b"
      },
      "execution_count": 52,
      "outputs": [
        {
          "output_type": "stream",
          "name": "stdout",
          "text": [
            "\n",
            "SVC best params:\n",
            "  Best Score: 0.7302191211071118\n",
            "  Best Params: {'clf__class_weight': None, 'clf__tol': 0.4393970560760795}\n"
          ]
        }
      ]
    },
    {
      "cell_type": "markdown",
      "source": [
        "Saving result into file"
      ],
      "metadata": {
        "id": "MKGXGoAhHTZM"
      }
    },
    {
      "cell_type": "code",
      "source": [
        "results_to_csv(grid_search_SVC, file_dmoz + \"-svc-results.csv\")"
      ],
      "metadata": {
        "collapsed": true,
        "id": "zNYY3KwzHTZM",
        "colab": {
          "base_uri": "https://localhost:8080/"
        },
        "outputId": "a6e5b6b7-7a89-44e8-dcf0-46e45dac070e"
      },
      "execution_count": 53,
      "outputs": [
        {
          "output_type": "stream",
          "name": "stdout",
          "text": [
            "\n",
            "CV Results: False\n",
            "    mean_fit_time  std_fit_time  mean_score_time  std_score_time  \\\n",
            "5        0.124844      0.005530         0.046003        0.001284   \n",
            "19       0.230182      0.012645         0.080502        0.000533   \n",
            "0        0.199049      0.010100         0.047715        0.002147   \n",
            "1        0.184599      0.016588         0.046116        0.001170   \n",
            "17       0.239840      0.034069         0.085734        0.004206   \n",
            "16       0.175288      0.004990         0.048209        0.004424   \n",
            "15       0.189310      0.002255         0.045307        0.000312   \n",
            "2        0.163785      0.006290         0.046936        0.002897   \n",
            "18       0.237091      0.011158         0.080985        0.002064   \n",
            "4        0.137166      0.003172         0.046857        0.002355   \n",
            "3        0.152810      0.003347         0.045584        0.000266   \n",
            "20       0.174952      0.039530         0.059291        0.017063   \n",
            "24       0.102221      0.002577         0.048479        0.002428   \n",
            "10       0.100373      0.002102         0.051114        0.004990   \n",
            "9        0.100491      0.003247         0.046777        0.001518   \n",
            "28       0.104020      0.004272         0.046257        0.000828   \n",
            "25       0.100400      0.001262         0.050822        0.004970   \n",
            "23       0.105108      0.001435         0.047283        0.002257   \n",
            "12       0.113162      0.015501         0.046013        0.001277   \n",
            "27       0.100665      0.001940         0.046036        0.001666   \n",
            "11       0.099473      0.000678         0.044846        0.000323   \n",
            "21       0.104907      0.005688         0.045439        0.000476   \n",
            "26       0.100034      0.001740         0.045947        0.000420   \n",
            "7        0.098280      0.000773         0.048511        0.004616   \n",
            "6        0.099913      0.001010         0.046863        0.000885   \n",
            "8        0.099956      0.003647         0.045184        0.000947   \n",
            "14       0.105628      0.003878         0.046110        0.000938   \n",
            "13       0.099773      0.000451         0.046224        0.000885   \n",
            "29       0.099300      0.000377         0.045410        0.000438   \n",
            "22       0.100647      0.001232         0.045551        0.001227   \n",
            "\n",
            "   param_clf__class_weight  param_clf__tol  \\\n",
            "5                     None    4.393971e-01   \n",
            "19                balanced    5.179475e-02   \n",
            "0                     None    1.000000e-05   \n",
            "1                     None    8.483429e-05   \n",
            "17                balanced    7.196857e-04   \n",
            "16                balanced    8.483429e-05   \n",
            "15                balanced    1.000000e-05   \n",
            "2                     None    7.196857e-04   \n",
            "18                balanced    6.105402e-03   \n",
            "4                     None    5.179475e-02   \n",
            "3                     None    6.105402e-03   \n",
            "20                balanced    4.393971e-01   \n",
            "24                balanced    2.275846e+03   \n",
            "10                    None    1.930698e+04   \n",
            "9                     None    2.275846e+03   \n",
            "28                balanced    1.178769e+07   \n",
            "25                balanced    1.930698e+04   \n",
            "23                balanced    2.682696e+02   \n",
            "12                    None    1.389495e+06   \n",
            "27                balanced    1.389495e+06   \n",
            "11                    None    1.637894e+05   \n",
            "21                balanced    3.727594e+00   \n",
            "26                balanced    1.637894e+05   \n",
            "7                     None    3.162278e+01   \n",
            "6                     None    3.727594e+00   \n",
            "8                     None    2.682696e+02   \n",
            "14                    None    1.000000e+08   \n",
            "13                    None    1.178769e+07   \n",
            "29                balanced    1.000000e+08   \n",
            "22                balanced    3.162278e+01   \n",
            "\n",
            "                                               params  split0_test_score  \\\n",
            "5   {'clf__class_weight': None, 'clf__tol': 0.4393...           0.739813   \n",
            "19  {'clf__class_weight': 'balanced', 'clf__tol': ...           0.740319   \n",
            "0      {'clf__class_weight': None, 'clf__tol': 1e-05}           0.740319   \n",
            "1   {'clf__class_weight': None, 'clf__tol': 8.4834...           0.740319   \n",
            "17  {'clf__class_weight': 'balanced', 'clf__tol': ...           0.740319   \n",
            "16  {'clf__class_weight': 'balanced', 'clf__tol': ...           0.740319   \n",
            "15  {'clf__class_weight': 'balanced', 'clf__tol': ...           0.740319   \n",
            "2   {'clf__class_weight': None, 'clf__tol': 0.0007...           0.740319   \n",
            "18  {'clf__class_weight': 'balanced', 'clf__tol': ...           0.740319   \n",
            "4   {'clf__class_weight': None, 'clf__tol': 0.0517...           0.740319   \n",
            "3   {'clf__class_weight': None, 'clf__tol': 0.0061...           0.740319   \n",
            "20  {'clf__class_weight': 'balanced', 'clf__tol': ...           0.738380   \n",
            "24  {'clf__class_weight': 'balanced', 'clf__tol': ...           0.676978   \n",
            "10  {'clf__class_weight': None, 'clf__tol': 19306....           0.665279   \n",
            "9   {'clf__class_weight': None, 'clf__tol': 2275.8...           0.650453   \n",
            "28  {'clf__class_weight': 'balanced', 'clf__tol': ...           0.667630   \n",
            "25  {'clf__class_weight': 'balanced', 'clf__tol': ...           0.636949   \n",
            "23  {'clf__class_weight': 'balanced', 'clf__tol': ...           0.676663   \n",
            "12  {'clf__class_weight': None, 'clf__tol': 138949...           0.672932   \n",
            "27  {'clf__class_weight': 'balanced', 'clf__tol': ...           0.622297   \n",
            "11  {'clf__class_weight': None, 'clf__tol': 163789...           0.567317   \n",
            "21  {'clf__class_weight': 'balanced', 'clf__tol': ...           0.663209   \n",
            "26  {'clf__class_weight': 'balanced', 'clf__tol': ...           0.634078   \n",
            "7   {'clf__class_weight': None, 'clf__tol': 31.622...           0.667654   \n",
            "6   {'clf__class_weight': None, 'clf__tol': 3.7275...           0.612008   \n",
            "8   {'clf__class_weight': None, 'clf__tol': 268.26...           0.620096   \n",
            "14  {'clf__class_weight': None, 'clf__tol': 100000...           0.622409   \n",
            "13  {'clf__class_weight': None, 'clf__tol': 117876...           0.609428   \n",
            "29  {'clf__class_weight': 'balanced', 'clf__tol': ...           0.617505   \n",
            "22  {'clf__class_weight': 'balanced', 'clf__tol': ...           0.604290   \n",
            "\n",
            "    split1_test_score  split2_test_score  mean_test_score  std_test_score  \\\n",
            "5            0.720363           0.730482         0.730219        0.007943   \n",
            "19           0.716494           0.731149         0.729321        0.009812   \n",
            "0            0.715922           0.731218         0.729153        0.010066   \n",
            "1            0.715922           0.731218         0.729153        0.010066   \n",
            "17           0.715922           0.731218         0.729153        0.010066   \n",
            "16           0.715922           0.731218         0.729153        0.010066   \n",
            "15           0.715922           0.731218         0.729153        0.010066   \n",
            "2            0.715922           0.731218         0.729153        0.010066   \n",
            "18           0.715922           0.731166         0.729135        0.010063   \n",
            "4            0.715842           0.731218         0.729126        0.010102   \n",
            "3            0.715269           0.730653         0.728747        0.010315   \n",
            "20           0.713966           0.731978         0.728108        0.010336   \n",
            "24           0.656926           0.671293         0.668399        0.008438   \n",
            "10           0.675057           0.642288         0.660875        0.013736   \n",
            "9            0.675662           0.646796         0.657637        0.012833   \n",
            "28           0.648684           0.631291         0.649202        0.014840   \n",
            "25           0.657744           0.652233         0.648975        0.008797   \n",
            "23           0.613028           0.646480         0.645390        0.025991   \n",
            "12           0.582389           0.678116         0.644479        0.043955   \n",
            "27           0.628819           0.675524         0.642213        0.023704   \n",
            "11           0.664156           0.675086         0.635520        0.048433   \n",
            "21           0.603914           0.621920         0.629681        0.024821   \n",
            "26           0.608481           0.639727         0.627429        0.013595   \n",
            "7            0.641244           0.572495         0.627131        0.040110   \n",
            "6            0.655711           0.609604         0.625774        0.021191   \n",
            "8            0.601093           0.640495         0.620561        0.016089   \n",
            "14           0.622185           0.578227         0.607607        0.020775   \n",
            "13           0.604157           0.585579         0.599721        0.010229   \n",
            "29           0.604800           0.560916         0.594407        0.024243   \n",
            "22           0.570684           0.606322         0.593765        0.016342   \n",
            "\n",
            "    rank_test_score  \n",
            "5                 1  \n",
            "19                2  \n",
            "0                 3  \n",
            "1                 3  \n",
            "17                3  \n",
            "16                3  \n",
            "15                3  \n",
            "2                 3  \n",
            "18                9  \n",
            "4                10  \n",
            "3                11  \n",
            "20               12  \n",
            "24               13  \n",
            "10               14  \n",
            "9                15  \n",
            "28               16  \n",
            "25               17  \n",
            "23               18  \n",
            "12               19  \n",
            "27               20  \n",
            "11               21  \n",
            "21               22  \n",
            "26               23  \n",
            "7                24  \n",
            "6                25  \n",
            "8                26  \n",
            "14               27  \n",
            "13               28  \n",
            "29               29  \n",
            "22               30   False\n"
          ]
        }
      ]
    },
    {
      "cell_type": "markdown",
      "source": [
        "Verify the result score in the test set."
      ],
      "metadata": {
        "id": "zMHfTLpKHTZN"
      }
    },
    {
      "cell_type": "code",
      "source": [
        "score_test_set(grid_search_SVC, X_test, y_test)"
      ],
      "metadata": {
        "id": "giYZesHUHTZN",
        "colab": {
          "base_uri": "https://localhost:8080/"
        },
        "outputId": "0df31bee-5d49-4276-d760-b43eb12471b5"
      },
      "execution_count": 54,
      "outputs": [
        {
          "output_type": "stream",
          "name": "stdout",
          "text": [
            "\n",
            "Test evaluation:\n",
            "  F1-macro: 0.7237096664333351\n"
          ]
        }
      ]
    }
  ]
}